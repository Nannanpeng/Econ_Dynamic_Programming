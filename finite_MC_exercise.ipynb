{
  "nbformat": 4,
  "nbformat_minor": 0,
  "metadata": {
    "colab": {
      "name": "finite_MC_exercise.ipynb",
      "provenance": [],
      "authorship_tag": "ABX9TyO8K9/L3dga/3r2Pc9fBkv9",
      "include_colab_link": true
    },
    "kernelspec": {
      "name": "python3",
      "display_name": "Python 3"
    }
  },
  "cells": [
    {
      "cell_type": "markdown",
      "metadata": {
        "id": "view-in-github",
        "colab_type": "text"
      },
      "source": [
        "<a href=\"https://colab.research.google.com/github/Nannanpeng/Econ_Dynamic_Programming/blob/master/finite_MC_exercise.ipynb\" target=\"_parent\"><img src=\"https://colab.research.google.com/assets/colab-badge.svg\" alt=\"Open In Colab\"/></a>"
      ]
    },
    {
      "cell_type": "code",
      "metadata": {
        "id": "tFo7cgIMsUqh",
        "colab_type": "code",
        "colab": {
          "base_uri": "https://localhost:8080/",
          "height": 235
        },
        "outputId": "dba46b45-ff43-4b2b-bc13-8ae8ae5edcf9"
      },
      "source": [
        "!pip install --upgrade quantecon"
      ],
      "execution_count": 1,
      "outputs": [
        {
          "output_type": "stream",
          "text": [
            "Requirement already up-to-date: quantecon in /usr/local/lib/python3.6/dist-packages (0.4.7)\n",
            "Requirement already satisfied, skipping upgrade: scipy>=1.0.0 in /usr/local/lib/python3.6/dist-packages (from quantecon) (1.4.1)\n",
            "Requirement already satisfied, skipping upgrade: numba>=0.38 in /usr/local/lib/python3.6/dist-packages (from quantecon) (0.48.0)\n",
            "Requirement already satisfied, skipping upgrade: sympy in /usr/local/lib/python3.6/dist-packages (from quantecon) (1.1.1)\n",
            "Requirement already satisfied, skipping upgrade: requests in /usr/local/lib/python3.6/dist-packages (from quantecon) (2.23.0)\n",
            "Requirement already satisfied, skipping upgrade: numpy in /usr/local/lib/python3.6/dist-packages (from quantecon) (1.18.5)\n",
            "Requirement already satisfied, skipping upgrade: setuptools in /usr/local/lib/python3.6/dist-packages (from numba>=0.38->quantecon) (47.3.1)\n",
            "Requirement already satisfied, skipping upgrade: llvmlite<0.32.0,>=0.31.0dev0 in /usr/local/lib/python3.6/dist-packages (from numba>=0.38->quantecon) (0.31.0)\n",
            "Requirement already satisfied, skipping upgrade: mpmath>=0.19 in /usr/local/lib/python3.6/dist-packages (from sympy->quantecon) (1.1.0)\n",
            "Requirement already satisfied, skipping upgrade: idna<3,>=2.5 in /usr/local/lib/python3.6/dist-packages (from requests->quantecon) (2.9)\n",
            "Requirement already satisfied, skipping upgrade: urllib3!=1.25.0,!=1.25.1,<1.26,>=1.21.1 in /usr/local/lib/python3.6/dist-packages (from requests->quantecon) (1.24.3)\n",
            "Requirement already satisfied, skipping upgrade: certifi>=2017.4.17 in /usr/local/lib/python3.6/dist-packages (from requests->quantecon) (2020.6.20)\n",
            "Requirement already satisfied, skipping upgrade: chardet<4,>=3.0.2 in /usr/local/lib/python3.6/dist-packages (from requests->quantecon) (3.0.4)\n"
          ],
          "name": "stdout"
        }
      ]
    },
    {
      "cell_type": "code",
      "metadata": {
        "id": "v7BZPbokqUCB",
        "colab_type": "code",
        "colab": {}
      },
      "source": [
        "import random\n",
        "import numpy as np\n",
        "import quantecon as qe\n",
        "import matplotlib.pyplot as plt"
      ],
      "execution_count": 2,
      "outputs": []
    },
    {
      "cell_type": "code",
      "metadata": {
        "id": "avCX2b6wqZ10",
        "colab_type": "code",
        "colab": {}
      },
      "source": [
        "def mc_path(P, init_state=None, sample_size=100000):\n",
        "  states = np.arange(len(P))\n",
        "  \n",
        "  if init_state is not None:\n",
        "    init_state = random.choices(states, weights=init_state)[0]\n",
        "  else:\n",
        "    init_state = 0\n",
        "  state_path = [init_state]\n",
        "  for _ in range(sample_size):\n",
        "    new_state = random.choices(states, weights=P[int(init_state), :])[0]\n",
        "    init_state = new_state\n",
        "    state_path.append(init_state)\n",
        "  return np.array(state_path)"
      ],
      "execution_count": 3,
      "outputs": []
    },
    {
      "cell_type": "code",
      "metadata": {
        "id": "08CE9evvqf4-",
        "colab_type": "code",
        "colab": {}
      },
      "source": [
        "P = np.array([[0.4, 0.6],\n",
        "        [0.2, 0.8]])"
      ],
      "execution_count": 4,
      "outputs": []
    },
    {
      "cell_type": "code",
      "metadata": {
        "id": "rKNabmL6rjhH",
        "colab_type": "code",
        "colab": {
          "base_uri": "https://localhost:8080/",
          "height": 34
        },
        "outputId": "5fa73cef-8f35-4c49-8ca5-71b7c82bdf16"
      },
      "source": [
        "X = mc_path(P, init_state=[0.1, 0.9], sample_size=100_000)\n",
        "np.mean(X == 0)"
      ],
      "execution_count": 5,
      "outputs": [
        {
          "output_type": "execute_result",
          "data": {
            "text/plain": [
              "0.25157748422515774"
            ]
          },
          "metadata": {
            "tags": []
          },
          "execution_count": 5
        }
      ]
    },
    {
      "cell_type": "code",
      "metadata": {
        "id": "V5UjQxnnEukq",
        "colab_type": "code",
        "colab": {
          "base_uri": "https://localhost:8080/",
          "height": 34
        },
        "outputId": "bd919cc8-9ea0-4818-89cd-f98ad09ab59c"
      },
      "source": [
        "from quantecon import MarkovChain\n",
        "\n",
        "mc = qe.MarkovChain(P)\n",
        "X = mc.simulate(ts_length=1_000_000)\n",
        "np.mean(X == 0)"
      ],
      "execution_count": 6,
      "outputs": [
        {
          "output_type": "execute_result",
          "data": {
            "text/plain": [
              "0.249859"
            ]
          },
          "metadata": {
            "tags": []
          },
          "execution_count": 6
        }
      ]
    },
    {
      "cell_type": "code",
      "metadata": {
        "id": "5hk1u3VaFQMu",
        "colab_type": "code",
        "colab": {
          "base_uri": "https://localhost:8080/",
          "height": 67
        },
        "outputId": "f17314fc-bcbb-4924-f6a6-b1a05789d2c9"
      },
      "source": [
        "%time mc_path(P, sample_size=1_000_000) "
      ],
      "execution_count": 7,
      "outputs": [
        {
          "output_type": "stream",
          "text": [
            "CPU times: user 3.81 s, sys: 21.7 ms, total: 3.83 s\n",
            "Wall time: 3.84 s\n"
          ],
          "name": "stdout"
        },
        {
          "output_type": "execute_result",
          "data": {
            "text/plain": [
              "array([0, 0, 0, ..., 1, 1, 1])"
            ]
          },
          "metadata": {
            "tags": []
          },
          "execution_count": 7
        }
      ]
    },
    {
      "cell_type": "code",
      "metadata": {
        "id": "vfiZ01CdFWf3",
        "colab_type": "code",
        "colab": {
          "base_uri": "https://localhost:8080/",
          "height": 67
        },
        "outputId": "615df50c-e86a-4f99-ca45-b66f529e4133"
      },
      "source": [
        "%time mc.simulate(ts_length=1_000_0000)"
      ],
      "execution_count": 8,
      "outputs": [
        {
          "output_type": "stream",
          "text": [
            "CPU times: user 312 ms, sys: 64 ms, total: 376 ms\n",
            "Wall time: 387 ms\n"
          ],
          "name": "stdout"
        },
        {
          "output_type": "execute_result",
          "data": {
            "text/plain": [
              "array([0, 0, 0, ..., 1, 1, 1])"
            ]
          },
          "metadata": {
            "tags": []
          },
          "execution_count": 8
        }
      ]
    },
    {
      "cell_type": "markdown",
      "metadata": {
        "id": "V2IyJk_bjJKA",
        "colab_type": "text"
      },
      "source": [
        "## Exercise 1"
      ]
    },
    {
      "cell_type": "code",
      "metadata": {
        "id": "yOpx-fMSjNT4",
        "colab_type": "code",
        "colab": {}
      },
      "source": [
        "alpha, beta = 0.7, 0.2\n",
        "\n",
        "p_unemployed = beta/(alpha + beta)\n",
        "\n",
        "P = np.array([[1-alpha, alpha],\n",
        "        [beta, 1-beta]])\n",
        "\n",
        "n = 3000"
      ],
      "execution_count": 9,
      "outputs": []
    },
    {
      "cell_type": "code",
      "metadata": {
        "id": "7K3wsEqvjgMU",
        "colab_type": "code",
        "colab": {}
      },
      "source": [
        "mc = qe.MarkovChain(P)\n",
        "path = mc.simulate(ts_length = n)"
      ],
      "execution_count": 10,
      "outputs": []
    },
    {
      "cell_type": "code",
      "metadata": {
        "id": "p3sXU8_TIIwQ",
        "colab_type": "code",
        "colab": {
          "base_uri": "https://localhost:8080/",
          "height": 265
        },
        "outputId": "2655d14c-aab0-48b8-9490-acb95e3ab55f"
      },
      "source": [
        "den = np.ones(n).cumsum()\n",
        "num = (path==0).cumsum()\n",
        "plt.plot(np.arange(n), num/den, label='simulation')\n",
        "plt.hlines(p_unemployed, 0, n, colors='r', label='equilibrium');\n",
        "plt.legend();"
      ],
      "execution_count": 11,
      "outputs": [
        {
          "output_type": "display_data",
          "data": {
            "image/png": "[encoded data removed]",
            "text/plain": [
              "<Figure size 432x288 with 1 Axes>"
            ]
          },
          "metadata": {
            "tags": [],
            "needs_background": "light"
          }
        }
      ]
    },
    {
      "cell_type": "markdown",
      "metadata": {
        "id": "Gmz-yZx6JIA7",
        "colab_type": "text"
      },
      "source": [
        "## Exercise 2"
      ]
    },
    {
      "cell_type": "code",
      "metadata": {
        "id": "cBVlookhJ3Jf",
        "colab_type": "code",
        "colab": {
          "base_uri": "https://localhost:8080/",
          "height": 34
        },
        "outputId": "1223db30-7391-4994-9e22-ca1d1b7a3f5c"
      },
      "source": [
        "%%file web_graph_data.txt\n",
        "a -> d;\n",
        "a -> f;\n",
        "b -> j;\n",
        "b -> k;\n",
        "b -> m;\n",
        "c -> c;\n",
        "c -> g;\n",
        "c -> j;\n",
        "c -> m;\n",
        "d -> f;\n",
        "d -> h;\n",
        "d -> k;\n",
        "e -> d;\n",
        "e -> h;\n",
        "e -> l;\n",
        "f -> a;\n",
        "f -> b;\n",
        "f -> j;\n",
        "f -> l;\n",
        "g -> b;\n",
        "g -> j;\n",
        "h -> d;\n",
        "h -> g;\n",
        "h -> l;\n",
        "h -> m;\n",
        "i -> g;\n",
        "i -> h;\n",
        "i -> n;\n",
        "j -> e;\n",
        "j -> i;\n",
        "j -> k;\n",
        "k -> n;\n",
        "l -> m;\n",
        "m -> g;\n",
        "n -> c;\n",
        "n -> j;\n",
        "n -> m;"
      ],
      "execution_count": 12,
      "outputs": [
        {
          "output_type": "stream",
          "text": [
            "Overwriting web_graph_data.txt\n"
          ],
          "name": "stdout"
        }
      ]
    },
    {
      "cell_type": "code",
      "metadata": {
        "id": "0lxxXH7rSW_s",
        "colab_type": "code",
        "colab": {}
      },
      "source": [
        "import re\n",
        "f = open(\"web_graph_data.txt\", \"r\")\n",
        "\n",
        "links = [re.findall('\\w', line) for line in f]\n",
        "zip_links = list(zip(*links))\n",
        "\n",
        "nodes = sorted(set(zip_links[0]))\n",
        "n = len(nodes)"
      ],
      "execution_count": 13,
      "outputs": []
    },
    {
      "cell_type": "code",
      "metadata": {
        "id": "-nzsRFSuSZlw",
        "colab_type": "code",
        "colab": {}
      },
      "source": [
        "P = np.zeros((n, n))\n",
        "for link in links:\n",
        "  begin, end = link\n",
        "  row = nodes.index(begin)\n",
        "  col = nodes.index(end)\n",
        "  P[row, col] = 1\n",
        "\n",
        "P /= P.sum(axis=1).reshape(-1, 1)"
      ],
      "execution_count": 14,
      "outputs": []
    },
    {
      "cell_type": "code",
      "metadata": {
        "id": "gDzqwfA1cWCo",
        "colab_type": "code",
        "colab": {
          "base_uri": "https://localhost:8080/",
          "height": 252
        },
        "outputId": "f3e2511b-dc38-4659-df08-fd8c4d349028"
      },
      "source": [
        "mc = qe.MarkovChain(P)\n",
        "psi_star = mc.stationary_distributions[0]\n",
        "\n",
        "for ranking, name in sorted(zip(psi_star, nodes), reverse=1):\n",
        "  print(name,\": \", round(ranking, 5))"
      ],
      "execution_count": 15,
      "outputs": [
        {
          "output_type": "stream",
          "text": [
            "g :  0.16071\n",
            "j :  0.15936\n",
            "m :  0.11952\n",
            "n :  0.10877\n",
            "k :  0.09106\n",
            "b :  0.08326\n",
            "i :  0.05312\n",
            "e :  0.05312\n",
            "c :  0.04834\n",
            "h :  0.0456\n",
            "l :  0.03202\n",
            "d :  0.03056\n",
            "f :  0.01164\n",
            "a :  0.00291\n"
          ],
          "name": "stdout"
        }
      ]
    },
    {
      "cell_type": "code",
      "metadata": {
        "id": "Fj11qEUmf_oF",
        "colab_type": "code",
        "colab": {
          "base_uri": "https://localhost:8080/",
          "height": 34
        },
        "outputId": "61aa1999-2f2d-4d5b-e362-db122ae97d80"
      },
      "source": [
        "max_idx = psi_star.argmax()\n",
        "min_idx = psi_star.argmin()\n",
        "print('The highest and lowest ranking are: {} and {}, respectively.'.format(nodes[max_idx], nodes[min_idx]))"
      ],
      "execution_count": 16,
      "outputs": [
        {
          "output_type": "stream",
          "text": [
            "The highest and lowest ranking are: g and a, respectively.\n"
          ],
          "name": "stdout"
        }
      ]
    },
    {
      "cell_type": "markdown",
      "metadata": {
        "id": "Occ1pUq8hdMJ",
        "colab_type": "text"
      },
      "source": [
        "## Exercise 3"
      ]
    },
    {
      "cell_type": "code",
      "metadata": {
        "id": "b53woiQZiInw",
        "colab_type": "code",
        "colab": {}
      },
      "source": [
        "from scipy.stats import norm\n",
        "\n",
        "def approx_markov(rho, sigma_u, m = 3, n = 7):\n",
        "  sigma_y = np.sqrt(sigma_u**2/(1 - rho**2))\n",
        "  states = np.linspace(-m*sigma_y, m*sigma_y, n)\n",
        "  s = states[1] - states[0]\n",
        "  P = np.zeros((n, n))\n",
        "  for i in range(n):\n",
        "    for j in range(n):\n",
        "      if j == 0:\n",
        "        v = states[0] - rho*states[i] + s/2\n",
        "        P[i, j] = norm.cdf(v, 0, sigma_u)\n",
        "      elif j == n-1:\n",
        "        v = states[n-1] - rho*states[i] - s/2\n",
        "        P[i, j] = 1 - norm.cdf(v, 0, sigma_u)\n",
        "      else:\n",
        "        v_1 = states[j] - rho*states[i] + s/2\n",
        "        v_2 = states[j] - rho*states[i] - s/2\n",
        "        P[i, j] = norm.cdf(v_1, 0, sigma_u) - norm.cdf(v_2, 0, sigma_u)\n",
        "  return states, P"
      ],
      "execution_count": 17,
      "outputs": []
    },
    {
      "cell_type": "code",
      "metadata": {
        "id": "gKqitkhnqVQo",
        "colab_type": "code",
        "colab": {}
      },
      "source": [
        "states, P = approx_markov(0.8, 0.6)"
      ],
      "execution_count": 18,
      "outputs": []
    },
    {
      "cell_type": "code",
      "metadata": {
        "id": "MpOGoEFt1HlY",
        "colab_type": "code",
        "colab": {
          "base_uri": "https://localhost:8080/",
          "height": 269
        },
        "outputId": "844c3b99-cacf-4fcd-a8e4-0383b35e1e1f"
      },
      "source": [
        "states, P"
      ],
      "execution_count": 19,
      "outputs": [
        {
          "output_type": "execute_result",
          "data": {
            "text/plain": [
              "(array([-3., -2., -1.,  0.,  1.,  2.,  3.]),\n",
              " array([[4.33816167e-01, 4.99376631e-01, 6.60362165e-02, 7.70313456e-04,\n",
              "         6.71288296e-07, 4.01598754e-11, 1.11022302e-16],\n",
              "        [6.68072013e-02, 4.99376631e-01, 4.00439660e-01, 3.31438785e-02,\n",
              "         2.32509926e-04, 1.19148705e-07, 4.14823731e-12],\n",
              "        [2.30326613e-03, 1.19369238e-01, 5.69789957e-01, 2.93407399e-01,\n",
              "         1.50669308e-02, 6.31902423e-05, 1.89895625e-08],\n",
              "        [1.54542969e-05, 6.19421103e-03, 1.96118716e-01, 5.95343238e-01,\n",
              "         1.96118716e-01, 6.19421103e-03, 1.54542969e-05],\n",
              "        [1.89895625e-08, 6.31902423e-05, 1.50669308e-02, 2.93407399e-01,\n",
              "         5.69789957e-01, 1.19369238e-01, 2.30326613e-03],\n",
              "        [4.14819366e-12, 1.19148705e-07, 2.32509926e-04, 3.31438785e-02,\n",
              "         4.00439660e-01, 4.99376631e-01, 6.68072013e-02],\n",
              "        [1.58513652e-16, 4.01598473e-11, 6.71288296e-07, 7.70313456e-04,\n",
              "         6.60362165e-02, 4.99376631e-01, 4.33816167e-01]]))"
            ]
          },
          "metadata": {
            "tags": []
          },
          "execution_count": 19
        }
      ]
    },
    {
      "cell_type": "code",
      "metadata": {
        "id": "PrJibpYw1LH0",
        "colab_type": "code",
        "colab": {
          "base_uri": "https://localhost:8080/",
          "height": 34
        },
        "outputId": "054f962f-3cb5-4065-da37-2c0fb330dcfa"
      },
      "source": [
        "(P>=0).sum() == 7*7, P.sum(axis=1) "
      ],
      "execution_count": 20,
      "outputs": [
        {
          "output_type": "execute_result",
          "data": {
            "text/plain": [
              "(True, array([1., 1., 1., 1., 1., 1., 1.]))"
            ]
          },
          "metadata": {
            "tags": []
          },
          "execution_count": 20
        }
      ]
    },
    {
      "cell_type": "code",
      "metadata": {
        "id": "E4bF1izs2U8v",
        "colab_type": "code",
        "colab": {}
      },
      "source": [
        ""
      ],
      "execution_count": 20,
      "outputs": []
    }
  ]
}