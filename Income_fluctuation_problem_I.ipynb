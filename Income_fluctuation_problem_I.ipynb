{
  "nbformat": 4,
  "nbformat_minor": 0,
  "metadata": {
    "colab": {
      "name": "Income_fluctuation_problem_I.ipynb",
      "provenance": [],
      "collapsed_sections": [],
      "authorship_tag": "ABX9TyOBzw5opHy23rOcKW4TZxb2",
      "include_colab_link": true
    },
    "kernelspec": {
      "name": "python3",
      "display_name": "Python 3"
    }
  },
  "cells": [
    {
      "cell_type": "markdown",
      "metadata": {
        "id": "view-in-github",
        "colab_type": "text"
      },
      "source": [
        "<a href=\"https://colab.research.google.com/github/Nannanpeng/Econ_Dynamic_Programming/blob/master/Income_fluctuation_problem_I.ipynb\" target=\"_parent\"><img src=\"https://colab.research.google.com/assets/colab-badge.svg\" alt=\"Open In Colab\"/></a>"
      ]
    },
    {
      "cell_type": "code",
      "metadata": {
        "id": "Ey9qbt2FSAUx",
        "colab_type": "code",
        "colab": {
          "base_uri": "https://localhost:8080/",
          "height": 353
        },
        "outputId": "bf95eee3-c1c9-4689-8350-19ace4ab18fa"
      },
      "source": [
        "!pip install --upgrade quantecon\n",
        "!pip install interpolation"
      ],
      "execution_count": 1,
      "outputs": [
        {
          "output_type": "stream",
          "text": [
            "Requirement already up-to-date: quantecon in /usr/local/lib/python3.6/dist-packages (0.4.8)\n",
            "Requirement already satisfied, skipping upgrade: requests in /usr/local/lib/python3.6/dist-packages (from quantecon) (2.23.0)\n",
            "Requirement already satisfied, skipping upgrade: numba>=0.38 in /usr/local/lib/python3.6/dist-packages (from quantecon) (0.48.0)\n",
            "Requirement already satisfied, skipping upgrade: scipy>=1.0.0 in /usr/local/lib/python3.6/dist-packages (from quantecon) (1.4.1)\n",
            "Requirement already satisfied, skipping upgrade: sympy in /usr/local/lib/python3.6/dist-packages (from quantecon) (1.1.1)\n",
            "Requirement already satisfied, skipping upgrade: numpy in /usr/local/lib/python3.6/dist-packages (from quantecon) (1.18.5)\n",
            "Requirement already satisfied, skipping upgrade: urllib3!=1.25.0,!=1.25.1,<1.26,>=1.21.1 in /usr/local/lib/python3.6/dist-packages (from requests->quantecon) (1.24.3)\n",
            "Requirement already satisfied, skipping upgrade: chardet<4,>=3.0.2 in /usr/local/lib/python3.6/dist-packages (from requests->quantecon) (3.0.4)\n",
            "Requirement already satisfied, skipping upgrade: certifi>=2017.4.17 in /usr/local/lib/python3.6/dist-packages (from requests->quantecon) (2020.6.20)\n",
            "Requirement already satisfied, skipping upgrade: idna<3,>=2.5 in /usr/local/lib/python3.6/dist-packages (from requests->quantecon) (2.9)\n",
            "Requirement already satisfied, skipping upgrade: llvmlite<0.32.0,>=0.31.0dev0 in /usr/local/lib/python3.6/dist-packages (from numba>=0.38->quantecon) (0.31.0)\n",
            "Requirement already satisfied, skipping upgrade: setuptools in /usr/local/lib/python3.6/dist-packages (from numba>=0.38->quantecon) (47.3.1)\n",
            "Requirement already satisfied, skipping upgrade: mpmath>=0.19 in /usr/local/lib/python3.6/dist-packages (from sympy->quantecon) (1.1.0)\n",
            "Requirement already satisfied: interpolation in /usr/local/lib/python3.6/dist-packages (2.1.6)\n",
            "Requirement already satisfied: numba>=0.47 in /usr/local/lib/python3.6/dist-packages (from interpolation) (0.48.0)\n",
            "Requirement already satisfied: tempita>=0.5.2 in /usr/local/lib/python3.6/dist-packages (from interpolation) (0.5.2)\n",
            "Requirement already satisfied: numpy>=1.18.1 in /usr/local/lib/python3.6/dist-packages (from interpolation) (1.18.5)\n",
            "Requirement already satisfied: scipy>=1.4.1 in /usr/local/lib/python3.6/dist-packages (from interpolation) (1.4.1)\n",
            "Requirement already satisfied: llvmlite<0.32.0,>=0.31.0dev0 in /usr/local/lib/python3.6/dist-packages (from numba>=0.47->interpolation) (0.31.0)\n",
            "Requirement already satisfied: setuptools in /usr/local/lib/python3.6/dist-packages (from numba>=0.47->interpolation) (47.3.1)\n"
          ],
          "name": "stdout"
        }
      ]
    },
    {
      "cell_type": "code",
      "metadata": {
        "id": "57RMRmutS_RC",
        "colab_type": "code",
        "colab": {}
      },
      "source": [
        "import numpy as np\n",
        "from quantecon.optimize import brent_max, brentq\n",
        "from interpolation import interp\n",
        "from numba import njit, float64, jitclass, prange\n",
        "import matplotlib.pyplot as plt\n",
        "%matplotlib inline\n",
        "from quantecon import MarkovChain"
      ],
      "execution_count": 2,
      "outputs": []
    },
    {
      "cell_type": "code",
      "metadata": {
        "id": "E9NetN4XRbww",
        "colab_type": "code",
        "colab": {}
      },
      "source": [
        "ifp_data=[('R', float64),\n",
        "     ('beta', float64),\n",
        "     ('gamma', float64),\n",
        "     ('P', float64[:,:]),\n",
        "     ('y', float64[:]),\n",
        "     ('asset_grids', float64[:])\n",
        "    ]\n",
        "\n",
        "@jitclass(ifp_data)\n",
        "class IFPModel:\n",
        "  def __init__(self, r=0.01,\n",
        "            beta=0.96,\n",
        "            gamma=1.5,\n",
        "            P=((0.6, 0.4),\n",
        "             (0.05, 0.95)),\n",
        "            y=(0.0, 2.0),\n",
        "            grid_min=0,\n",
        "            grid_max=16,\n",
        "            grid_size=50):\n",
        "    \n",
        "    self.R, self.beta, self.gamma = 1+r, beta, gamma\n",
        "    self.asset_grids = np.linspace(grid_min, grid_max, grid_size)\n",
        "    self.P = np.array(P)\n",
        "    self.y = np.array(y)\n",
        "    assert self.R * self.beta < 1, \"Stability condition violated.\"\n",
        "\n",
        "  def u(self, c):\n",
        "    gamma = self.gamma\n",
        "    return np.log(c) if gamma == 1 else c**(1-gamma)/(1-gamma) \n",
        "  \n",
        "  def u_prime(self, c):\n",
        "    gamma = self.gamma\n",
        "    return 1/c if gamma==1 else c**(-gamma) \n",
        "  \n",
        "  def u_prime_inverse(self, u):\n",
        "    gamma = self.gamma\n",
        "    return 1/u if gamma==1 else u**(-1/gamma)\n",
        "\n",
        "@njit\n",
        "def euer_diff(c, a, z, sigma, ifp):\n",
        "  u_prime, beta, R, a_grids, y, P = ifp.u_prime, ifp.beta, ifp.R, ifp.asset_grids, ifp.y, ifp.P\n",
        "\n",
        "  def fun_sigma(A, Z):\n",
        "    return interp(a_grids, sigma[:,Z], A)\n",
        "\n",
        "  expected = 0\n",
        "  for i in range(len(P)):\n",
        "    expected += u_prime(fun_sigma(R*(a-c)+y[i], i)) * P[z, i]\n",
        "  diff = u_prime(c) - max(beta*R*expected, u_prime(a))\n",
        "  return diff\n",
        "\n",
        "@njit\n",
        "def compute_root(a, z, sigma, ifp):\n",
        "  root = brentq(euer_diff, 1e-10, a-1e-10, args=(a, z, sigma, ifp))[0]\n",
        "  return root\n",
        "\n",
        "@njit\n",
        "def K(sigma, ifp):\n",
        "  a_grids, P = ifp.asset_grids, ifp.P\n",
        "  Ksigma = np.empty_like(sigma)\n",
        "  for z in range(len(P)):\n",
        "    for i in range(len(a_grids)):\n",
        "      a = a_grids[i]\n",
        "      if a < 1e-12:\n",
        "        Ksigma[i, z] = 0\n",
        "      else:\n",
        "        Ksigma[i, z] = compute_root(a, z, sigma, ifp)\n",
        "  return Ksigma\n",
        "\n",
        "\n",
        "def compute_policy_function(ifp, max_iter=1000, tol=1e-4, verbose=True):\n",
        "  sigma = np.column_stack((ifp.asset_grids, ifp.asset_grids))\n",
        "\n",
        "  i = 0\n",
        "  err = 1 + tol\n",
        "  while i < max_iter and err > tol:\n",
        "    Ksigma = K(sigma, ifp)\n",
        "    i += 1\n",
        "    err = np.max(np.abs(Ksigma - sigma))\n",
        "    sigma = Ksigma\n",
        "    if verbose and i%25==0:\n",
        "      print(f'Error is {err} at interation {i}.')\n",
        "    \n",
        "  if i == max_iter:\n",
        "    raise RuntimeError('Iteration failed.')\n",
        "  \n",
        "  if verbose:\n",
        "    print(f'\\nConverged on interation {i}!')\n",
        "\n",
        "  return sigma"
      ],
      "execution_count": 3,
      "outputs": []
    },
    {
      "cell_type": "code",
      "metadata": {
        "id": "x4IlOGy3S-aE",
        "colab_type": "code",
        "colab": {
          "base_uri": "https://localhost:8080/",
          "height": 118
        },
        "outputId": "7eb2f80f-3b6c-4219-ecce-ae13f49f7a1b"
      },
      "source": [
        "%%time\n",
        "\n",
        "ifp = IFPModel(gamma=1.5, grid_min=0)\n",
        "sigma = compute_policy_function(ifp)"
      ],
      "execution_count": 4,
      "outputs": [
        {
          "output_type": "stream",
          "text": [
            "Error is 0.011629589188415057 at interation 25.\n",
            "Error is 0.0003857183099671424 at interation 50.\n",
            "\n",
            "Converged on interation 60!\n",
            "CPU times: user 2.54 s, sys: 15.3 ms, total: 2.56 s\n",
            "Wall time: 2.56 s\n"
          ],
          "name": "stdout"
        }
      ]
    },
    {
      "cell_type": "code",
      "metadata": {
        "id": "jn3rEsZVY1uf",
        "colab_type": "code",
        "colab": {
          "base_uri": "https://localhost:8080/",
          "height": 320
        },
        "outputId": "b130d252-de93-4569-cc83-8c0aa45d9e2f"
      },
      "source": [
        "fig, ax = plt.subplots(1, 1, figsize=(6, 5))\n",
        "for i in range(len(ifp.P)):\n",
        "  ax.plot(ifp.asset_grids, sigma[:, i], label=fr'$\\sigma$ when z={i}')\n",
        "ax.legend();"
      ],
      "execution_count": 5,
      "outputs": [
        {
          "output_type": "display_data",
          "data": {
            "image/png": "[encoded data removed]",
            "text/plain": [
              "<Figure size 432x360 with 1 Axes>"
            ]
          },
          "metadata": {
            "tags": [],
            "needs_background": "light"
          }
        }
      ]
    },
    {
      "cell_type": "code",
      "metadata": {
        "id": "Y5Jwz2J7Kf_K",
        "colab_type": "code",
        "colab": {}
      },
      "source": [
        "def c_star(x, ifp):\n",
        "  beta, gamma = ifp.beta, ifp.gamma\n",
        "  return (1 - beta ** (1/gamma)) * x\n",
        "\n",
        "\n",
        "def v_star(x, ifp):\n",
        "  beta, gamma = ifp.beta, ifp.gamma\n",
        "  return (1 - beta**(1 / gamma))**(-gamma) * (x**(1-gamma) / (1-gamma))"
      ],
      "execution_count": 6,
      "outputs": []
    },
    {
      "cell_type": "code",
      "metadata": {
        "id": "GaerhGtANyCj",
        "colab_type": "code",
        "colab": {
          "base_uri": "https://localhost:8080/",
          "height": 202
        },
        "outputId": "7f2907ca-b6c7-4c5b-8978-ae3cf07f1d29"
      },
      "source": [
        "%%time\n",
        "\n",
        "ifp_cake_eating = IFPModel(r=0, y=(0.0, 0.0))\n",
        "sigma_ce = compute_policy_function(ifp_cake_eating)"
      ],
      "execution_count": 7,
      "outputs": [
        {
          "output_type": "stream",
          "text": [
            "Error is 0.023332272630518403 at interation 25.\n",
            "Error is 0.005301238424149757 at interation 50.\n",
            "Error is 0.00197063246255591 at interation 75.\n",
            "Error is 0.0008675521338489811 at interation 100.\n",
            "Error is 0.0004107354220824755 at interation 125.\n",
            "Error is 0.00020120334007689422 at interation 150.\n",
            "Error is 0.00010021430783813123 at interation 175.\n",
            "\n",
            "Converged on interation 176!\n",
            "CPU times: user 455 ms, sys: 4.8 ms, total: 460 ms\n",
            "Wall time: 458 ms\n"
          ],
          "name": "stdout"
        }
      ]
    },
    {
      "cell_type": "code",
      "metadata": {
        "id": "57aTzMPEOBlG",
        "colab_type": "code",
        "colab": {
          "base_uri": "https://localhost:8080/",
          "height": 265
        },
        "outputId": "b963fa28-6c57-4a33-f19a-4bbce68287f2"
      },
      "source": [
        "grids = ifp_cake_eating.asset_grids\n",
        "plt.plot(grids, sigma_ce[:,0], label='Simulated policy')\n",
        "plt.plot(grids, c_star(grids, ifp_cake_eating), 'r--', label='Real policy')\n",
        "plt.legend();"
      ],
      "execution_count": 8,
      "outputs": [
        {
          "output_type": "display_data",
          "data": {
            "image/png": "[encoded data removed]",
            "text/plain": [
              "<Figure size 432x288 with 1 Axes>"
            ]
          },
          "metadata": {
            "tags": [],
            "needs_background": "light"
          }
        }
      ]
    },
    {
      "cell_type": "markdown",
      "metadata": {
        "id": "4yArnu16PCTC",
        "colab_type": "text"
      },
      "source": [
        "## Exercise 1"
      ]
    },
    {
      "cell_type": "code",
      "metadata": {
        "id": "BxftiJ5DP5PH",
        "colab_type": "code",
        "colab": {
          "base_uri": "https://localhost:8080/",
          "height": 265
        },
        "outputId": "d9722efa-537f-4f9a-8269-84bf167e2f50"
      },
      "source": [
        "rs = np.linspace(0, 0.04, 4)\n",
        "for r in rs:\n",
        "  ifp_ = IFPModel(r = r)\n",
        "  sigma_ = compute_policy_function(ifp_, verbose=False)\n",
        "  plt.plot(ifp_.asset_grids, sigma_[:, 0], label=fr'$r$={r:.3f}')\n",
        "plt.legend();"
      ],
      "execution_count": 9,
      "outputs": [
        {
          "output_type": "display_data",
          "data": {
            "image/png": "[encoded data removed]",
            "text/plain": [
              "<Figure size 432x288 with 1 Axes>"
            ]
          },
          "metadata": {
            "tags": [],
            "needs_background": "light"
          }
        }
      ]
    },
    {
      "cell_type": "markdown",
      "metadata": {
        "id": "7vTDaFdhQt4Y",
        "colab_type": "text"
      },
      "source": [
        "## Exercise 2"
      ]
    },
    {
      "cell_type": "code",
      "metadata": {
        "id": "pgD-yjK1RAJG",
        "colab_type": "code",
        "colab": {}
      },
      "source": [
        "mc = MarkovChain(ifp.P)\n",
        "z_draws = mc.simulate(ts_length=500_000)\n",
        "\n",
        "@njit\n",
        "def Simulations(ifp, sigma, z_draws, a=4, T=500_000):\n",
        "  asset_grids, P, R, Y = ifp.asset_grids, ifp.P, ifp.R, ifp.y\n",
        "  asset = np.zeros(T+1)\n",
        "  asset[0] = a\n",
        "  \n",
        "  def Sigma(a, z):\n",
        "    return interp(asset_grids, sigma[:, z], a)\n",
        "\n",
        "  for i in range(T):\n",
        "    c = Sigma(asset[i], z_draws[i])\n",
        "    asset[i+1] = R*(asset[i] - c) + Y[z_draws[i]]\n",
        "  \n",
        "  return asset"
      ],
      "execution_count": 10,
      "outputs": []
    },
    {
      "cell_type": "code",
      "metadata": {
        "id": "zZbQ09F-mJK7",
        "colab_type": "code",
        "colab": {
          "base_uri": "https://localhost:8080/",
          "height": 50
        },
        "outputId": "c96bf9bc-b436-46e3-fe63-1b476e56251a"
      },
      "source": [
        "%%time\n",
        "\n",
        "asset = Simulations(ifp, sigma, z_draws)"
      ],
      "execution_count": 11,
      "outputs": [
        {
          "output_type": "stream",
          "text": [
            "CPU times: user 285 ms, sys: 5.01 ms, total: 290 ms\n",
            "Wall time: 290 ms\n"
          ],
          "name": "stdout"
        }
      ]
    },
    {
      "cell_type": "code",
      "metadata": {
        "id": "Ar5UOwFcmgwD",
        "colab_type": "code",
        "colab": {
          "base_uri": "https://localhost:8080/",
          "height": 279
        },
        "outputId": "9e68070b-2754-4138-c5d4-195621599f81"
      },
      "source": [
        "plt.hist(asset, bins=50, density=True)\n",
        "plt.xlabel('asset')\n",
        "plt.ylabel('density');"
      ],
      "execution_count": 12,
      "outputs": [
        {
          "output_type": "display_data",
          "data": {
            "image/png": "[encoded data removed]",
            "text/plain": [
              "<Figure size 432x288 with 1 Axes>"
            ]
          },
          "metadata": {
            "tags": [],
            "needs_background": "light"
          }
        }
      ]
    },
    {
      "cell_type": "markdown",
      "metadata": {
        "id": "mkf-pPuZozPU",
        "colab_type": "text"
      },
      "source": [
        "## Exercise 3"
      ]
    },
    {
      "cell_type": "code",
      "metadata": {
        "id": "dbSL6w8IqUto",
        "colab_type": "code",
        "colab": {
          "base_uri": "https://localhost:8080/",
          "height": 50
        },
        "outputId": "4a8c7d85-f65c-4310-9162-6a365924934b"
      },
      "source": [
        "%%time\n",
        "interest_rates = np.linspace(0, 0.03, 20)\n",
        "aggregate_capital = np.empty_like(interest_rates)\n",
        "for i, r_val in enumerate(interest_rates):\n",
        "  ifp_ = IFPModel(r=r_val)\n",
        "  sigma_ = compute_policy_function(ifp_, verbose=False)\n",
        "  aggregate_capital[i] = Simulations(ifp_, sigma_, z_draws).mean()"
      ],
      "execution_count": 13,
      "outputs": [
        {
          "output_type": "stream",
          "text": [
            "CPU times: user 2.37 s, sys: 9.79 ms, total: 2.38 s\n",
            "Wall time: 2.38 s\n"
          ],
          "name": "stdout"
        }
      ]
    },
    {
      "cell_type": "code",
      "metadata": {
        "id": "JMsMFlZ1rIPb",
        "colab_type": "code",
        "colab": {
          "base_uri": "https://localhost:8080/",
          "height": 279
        },
        "outputId": "23423462-00db-44e7-8c8a-b0e4c1697e6e"
      },
      "source": [
        "plt.plot(aggregate_capital, interest_rates, label='Agg capital as a function of r')\n",
        "plt.xlabel('Aggregate Capital')\n",
        "plt.ylabel('Interest Rate');"
      ],
      "execution_count": 14,
      "outputs": [
        {
          "output_type": "display_data",
          "data": {
            "image/png": "[encoded data removed]",
            "text/plain": [
              "<Figure size 432x288 with 1 Axes>"
            ]
          },
          "metadata": {
            "tags": [],
            "needs_background": "light"
          }
        }
      ]
    },
    {
      "cell_type": "code",
      "metadata": {
        "id": "afIAGl52rjIl",
        "colab_type": "code",
        "colab": {}
      },
      "source": [
        ""
      ],
      "execution_count": 14,
      "outputs": []
    }
  ]
}