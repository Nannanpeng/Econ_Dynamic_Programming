{
  "nbformat": 4,
  "nbformat_minor": 0,
  "metadata": {
    "colab": {
      "name": "Job_search_III.ipynb",
      "provenance": [],
      "authorship_tag": "ABX9TyPKwLmlqukA9b5ATsy9d3p9",
      "include_colab_link": true
    },
    "kernelspec": {
      "name": "python3",
      "display_name": "Python 3"
    }
  },
  "cells": [
    {
      "cell_type": "markdown",
      "metadata": {
        "id": "view-in-github",
        "colab_type": "text"
      },
      "source": [
        "<a href=\"https://colab.research.google.com/github/Nannanpeng/Econ_Dynamic_Programming/blob/master/Job_search_III.ipynb\" target=\"_parent\"><img src=\"https://colab.research.google.com/assets/colab-badge.svg\" alt=\"Open In Colab\"/></a>"
      ]
    },
    {
      "cell_type": "code",
      "metadata": {
        "id": "o9p2r478bqxx",
        "colab_type": "code",
        "colab": {
          "base_uri": "https://localhost:8080/",
          "height": 588
        },
        "outputId": "74dcec32-f190-4158-cd91-32142c97d9c3"
      },
      "source": [
        "!pip install --upgrade quantecon\n",
        "!pip install interpolation"
      ],
      "execution_count": 1,
      "outputs": [
        {
          "output_type": "stream",
          "text": [
            "Collecting quantecon\n",
            "\u001b[?25l  Downloading https://files.pythonhosted.org/packages/5d/e3/4fd5f948de917036b5696347b28fa25da7bd7df995e4f9f42db1c3070eb8/quantecon-0.4.8-py3-none-any.whl (230kB)\n",
            "\u001b[K     |████████████████████████████████| 235kB 3.4MB/s \n",
            "\u001b[?25hRequirement already satisfied, skipping upgrade: sympy in /usr/local/lib/python3.6/dist-packages (from quantecon) (1.1.1)\n",
            "Requirement already satisfied, skipping upgrade: numba>=0.38 in /usr/local/lib/python3.6/dist-packages (from quantecon) (0.48.0)\n",
            "Requirement already satisfied, skipping upgrade: numpy in /usr/local/lib/python3.6/dist-packages (from quantecon) (1.18.5)\n",
            "Requirement already satisfied, skipping upgrade: scipy>=1.0.0 in /usr/local/lib/python3.6/dist-packages (from quantecon) (1.4.1)\n",
            "Requirement already satisfied, skipping upgrade: requests in /usr/local/lib/python3.6/dist-packages (from quantecon) (2.23.0)\n",
            "Requirement already satisfied, skipping upgrade: mpmath>=0.19 in /usr/local/lib/python3.6/dist-packages (from sympy->quantecon) (1.1.0)\n",
            "Requirement already satisfied, skipping upgrade: llvmlite<0.32.0,>=0.31.0dev0 in /usr/local/lib/python3.6/dist-packages (from numba>=0.38->quantecon) (0.31.0)\n",
            "Requirement already satisfied, skipping upgrade: setuptools in /usr/local/lib/python3.6/dist-packages (from numba>=0.38->quantecon) (47.3.1)\n",
            "Requirement already satisfied, skipping upgrade: chardet<4,>=3.0.2 in /usr/local/lib/python3.6/dist-packages (from requests->quantecon) (3.0.4)\n",
            "Requirement already satisfied, skipping upgrade: certifi>=2017.4.17 in /usr/local/lib/python3.6/dist-packages (from requests->quantecon) (2020.6.20)\n",
            "Requirement already satisfied, skipping upgrade: urllib3!=1.25.0,!=1.25.1,<1.26,>=1.21.1 in /usr/local/lib/python3.6/dist-packages (from requests->quantecon) (1.24.3)\n",
            "Requirement already satisfied, skipping upgrade: idna<3,>=2.5 in /usr/local/lib/python3.6/dist-packages (from requests->quantecon) (2.9)\n",
            "Installing collected packages: quantecon\n",
            "Successfully installed quantecon-0.4.8\n",
            "Collecting interpolation\n",
            "\u001b[?25l  Downloading https://files.pythonhosted.org/packages/37/de/2e541d51046d637758b43cbb373250bc0b0dd62f2d383e94664e12820243/interpolation-2.1.6-py3-none-any.whl (54kB)\n",
            "\u001b[K     |████████████████████████████████| 61kB 1.8MB/s \n",
            "\u001b[?25hRequirement already satisfied: scipy>=1.4.1 in /usr/local/lib/python3.6/dist-packages (from interpolation) (1.4.1)\n",
            "Requirement already satisfied: numpy>=1.18.1 in /usr/local/lib/python3.6/dist-packages (from interpolation) (1.18.5)\n",
            "Requirement already satisfied: numba>=0.47 in /usr/local/lib/python3.6/dist-packages (from interpolation) (0.48.0)\n",
            "Collecting tempita>=0.5.2\n",
            "  Downloading https://files.pythonhosted.org/packages/56/c8/8ed6eee83dbddf7b0fc64dd5d4454bc05e6ccaafff47991f73f2894d9ff4/Tempita-0.5.2.tar.gz\n",
            "Requirement already satisfied: llvmlite<0.32.0,>=0.31.0dev0 in /usr/local/lib/python3.6/dist-packages (from numba>=0.47->interpolation) (0.31.0)\n",
            "Requirement already satisfied: setuptools in /usr/local/lib/python3.6/dist-packages (from numba>=0.47->interpolation) (47.3.1)\n",
            "Building wheels for collected packages: tempita\n",
            "  Building wheel for tempita (setup.py) ... \u001b[?25l\u001b[?25hdone\n",
            "  Created wheel for tempita: filename=Tempita-0.5.2-cp36-none-any.whl size=12882 sha256=6c101981f53061cbfb33854fb6fa15b6161430a4a701d588a9362de4dda9a1e3\n",
            "  Stored in directory: /root/.cache/pip/wheels/1e/db/04/d827f417f162a149fbdfdd1d015c7769b393124aa98eb29642\n",
            "Successfully built tempita\n",
            "Installing collected packages: tempita, interpolation\n",
            "Successfully installed interpolation-2.1.6 tempita-0.5.2\n"
          ],
          "name": "stdout"
        }
      ]
    },
    {
      "cell_type": "code",
      "metadata": {
        "id": "4d1eOxFhbtde",
        "colab_type": "code",
        "colab": {}
      },
      "source": [
        "import numpy as np\n",
        "import matplotlib.pyplot as plt\n",
        "%matplotlib inline\n",
        "\n",
        "import quantecon as qe\n",
        "from interpolation import interp\n",
        "from numpy.random import randn\n",
        "from numba import njit, jitclass, prange, float64, int32, boolean"
      ],
      "execution_count": 2,
      "outputs": []
    },
    {
      "cell_type": "code",
      "metadata": {
        "id": "fPHkIDbab1Ri",
        "colab_type": "code",
        "colab": {}
      },
      "source": [
        "mccall_data_continuous = [\n",
        "    ('c', float64),          # unemployment compensation\n",
        "    ('α', float64),          # job separation rate\n",
        "    ('β', float64),          # discount factor\n",
        "    ('sigma', float64),          # scale parameter in lognormal distribution\n",
        "    ('mu', float64),          # location parameter in lognormal distribution\n",
        "    ('w_grid', float64[:]),  # grid of points for fitted VFI\n",
        "    ('w_draws', float64[:]),  # draws of wages for Monte Carlo\n",
        "    ('n', int32),\n",
        "    ('m', float64),\n",
        "    ('s', float64),\n",
        "    ('uniform', boolean)\n",
        "\n",
        "]\n",
        "\n",
        "@jitclass(mccall_data_continuous)\n",
        "class McCallModelContinuous:\n",
        "\n",
        "    def __init__(self, \n",
        "            c=1,\n",
        "            α=0.1,\n",
        "            β=0.96,\n",
        "            sigma = 0.5,\n",
        "            mu = 2.5,\n",
        "            grid_min=1e-10,\n",
        "            grid_max=5,\n",
        "            grid_size=100,\n",
        "            n_draws=10000,\n",
        "            m = 2.0,\n",
        "            s = 1.0,\n",
        "            uniform=False):\n",
        "      \n",
        "        self.c, self.α, self.β = c, α, β\n",
        "        self.mu, self.sigma, self.n = mu, sigma, n_draws\n",
        "        self.m, self.s, self.uniform = m, s, uniform\n",
        "        self.w_grid = np.linspace(grid_min, grid_max, grid_size)\n",
        "        self.w_draws = self._draws() if not uniform else self._drawsUniform()\n",
        "\n",
        "    def _draws(self):\n",
        "      np.random.seed(1234)\n",
        "      z = np.random.randn(self.n)\n",
        "      w_draws = np.exp(self.mu + self.sigma * z)\n",
        "      return w_draws\n",
        "    \n",
        "    def _drawsUniform(self):\n",
        "      np.random.seed(1234)\n",
        "      w_draws = np.random.uniform(self.m - self.s, self.m + self.s, size = self.n)\n",
        "      return w_draws\n",
        "\n",
        "    def update(self, v, d):\n",
        "\n",
        "        # Simplify names\n",
        "        c, α, β = self.c, self.α, self.β\n",
        "        w = self.w_grid\n",
        "        u = lambda x: np.log(x)\n",
        "\n",
        "        # Interpolate array represented value function\n",
        "        vf = lambda x: interp(w, v, x)\n",
        "\n",
        "        # Update d using Monte Carlo to evaluate integral\n",
        "        d_new = np.mean(np.maximum(vf(self.w_draws), u(c) + β * d))\n",
        "\n",
        "        # Update v\n",
        "        v_new = u(w) + β * ((1 - α) * v + α * d)\n",
        "\n",
        "        return v_new, d_new"
      ],
      "execution_count": 10,
      "outputs": []
    },
    {
      "cell_type": "code",
      "metadata": {
        "id": "0wbDl-5SdFfy",
        "colab_type": "code",
        "colab": {}
      },
      "source": [
        "@njit\n",
        "def solve_model(mcm, tol=1e-5, max_iter=2000):\n",
        "    \"\"\"\n",
        "    Iterates to convergence on the Bellman equations\n",
        "\n",
        "    * mcm is an instance of McCallModel\n",
        "    \"\"\"\n",
        "\n",
        "    v = np.ones_like(mcm.w_grid)    # Initial guess of v\n",
        "    d = 1                           # Initial guess of d\n",
        "    i = 0\n",
        "    error = tol + 1\n",
        "\n",
        "    while error > tol and i < max_iter:\n",
        "        v_new, d_new = mcm.update(v, d)\n",
        "        error_1 = np.max(np.abs(v_new - v))\n",
        "        error_2 = np.abs(d_new - d)\n",
        "        error = max(error_1, error_2)\n",
        "        v = v_new\n",
        "        d = d_new\n",
        "        i += 1\n",
        "    if i >= max_iter:\n",
        "      raise ValueError('Iteration failed.')\n",
        "    return v, d"
      ],
      "execution_count": 11,
      "outputs": []
    },
    {
      "cell_type": "code",
      "metadata": {
        "id": "3NFu6uQpdV4w",
        "colab_type": "code",
        "colab": {}
      },
      "source": [
        "@njit\n",
        "def compute_reservation_wage(mcm):\n",
        "    \"\"\"\n",
        "    Computes the reservation wage of an instance of the McCall model\n",
        "    by finding the smallest w such that v(w) >= h.\n",
        "\n",
        "    If no such w exists, then w_bar is set to np.inf.\n",
        "    \"\"\"\n",
        "    u = lambda x: np.log(x)\n",
        "\n",
        "    v, d = solve_model(mcm)\n",
        "    h = u(mcm.c) + mcm.β * d\n",
        "\n",
        "    w_bar = np.inf\n",
        "    for i, wage in enumerate(mcm.w_grid):\n",
        "        if v[i] > h:\n",
        "            w_bar = wage\n",
        "            break\n",
        "    return w_bar"
      ],
      "execution_count": 12,
      "outputs": []
    },
    {
      "cell_type": "code",
      "metadata": {
        "id": "u8YyaANKdXJO",
        "colab_type": "code",
        "colab": {
          "base_uri": "https://localhost:8080/",
          "height": 50
        },
        "outputId": "1fe4bab5-8d30-4c35-ba47-d69a08361257"
      },
      "source": [
        "%%time\n",
        "\n",
        "mu_vals = np.linspace(0.0, 2.0, 15)\n",
        "w_bar_vals = np.empty_like(mu_vals)\n",
        "for i, mu in enumerate(mu_vals):\n",
        "  mcm = mcm = McCallModelContinuous(mu = mu)\n",
        "  w_bar_vals[i] = compute_reservation_wage(mcm)"
      ],
      "execution_count": 13,
      "outputs": [
        {
          "output_type": "stream",
          "text": [
            "CPU times: user 6.83 s, sys: 16.3 ms, total: 6.84 s\n",
            "Wall time: 6.89 s\n"
          ],
          "name": "stdout"
        }
      ]
    },
    {
      "cell_type": "code",
      "metadata": {
        "id": "YGGtZszIeWJT",
        "colab_type": "code",
        "colab": {
          "base_uri": "https://localhost:8080/",
          "height": 265
        },
        "outputId": "f80559d2-613b-465f-d90e-881cc19af01f"
      },
      "source": [
        "plt.plot(mu_vals, w_bar_vals, label=r'$\\bar{w}$ as a function of $\\mu$')\n",
        "plt.legend();"
      ],
      "execution_count": 14,
      "outputs": [
        {
          "output_type": "display_data",
          "data": {
            "image/png": "[encoded data removed]",
            "text/plain": [
              "<Figure size 432x288 with 1 Axes>"
            ]
          },
          "metadata": {
            "tags": [],
            "needs_background": "light"
          }
        }
      ]
    },
    {
      "cell_type": "code",
      "metadata": {
        "id": "QMB_-uQfgbnF",
        "colab_type": "code",
        "colab": {
          "base_uri": "https://localhost:8080/",
          "height": 50
        },
        "outputId": "7b5b316b-7092-499e-8d1e-c9c3a88ce41a"
      },
      "source": [
        "%%time\n",
        "\n",
        "s_vals = np.linspace(1.0, 2.0, 15)\n",
        "w_bar_vals = np.empty_like(s_vals)\n",
        "for i, s in enumerate(s_vals):\n",
        "  mcm = McCallModelContinuous(s = s, uniform=True)\n",
        "  w_bar_vals[i] = compute_reservation_wage(mcm)"
      ],
      "execution_count": 15,
      "outputs": [
        {
          "output_type": "stream",
          "text": [
            "CPU times: user 4.11 s, sys: 2.81 ms, total: 4.11 s\n",
            "Wall time: 4.15 s\n"
          ],
          "name": "stdout"
        }
      ]
    },
    {
      "cell_type": "code",
      "metadata": {
        "id": "5mz9fLCzoK8F",
        "colab_type": "code",
        "colab": {
          "base_uri": "https://localhost:8080/",
          "height": 265
        },
        "outputId": "92b7f1db-8b23-4104-b153-093a27aa95b0"
      },
      "source": [
        "plt.plot(s_vals, w_bar_vals, label=r'$\\bar{w}$ as a function of $s$')\n",
        "plt.legend();"
      ],
      "execution_count": 16,
      "outputs": [
        {
          "output_type": "display_data",
          "data": {
            "image/png": "[encoded data removed]",
            "text/plain": [
              "<Figure size 432x288 with 1 Axes>"
            ]
          },
          "metadata": {
            "tags": [],
            "needs_background": "light"
          }
        }
      ]
    },
    {
      "cell_type": "code",
      "metadata": {
        "id": "CX1ta5Y-oZu_",
        "colab_type": "code",
        "colab": {}
      },
      "source": [
        ""
      ],
      "execution_count": 9,
      "outputs": []
    }
  ]
}