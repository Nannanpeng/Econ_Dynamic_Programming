{
  "nbformat": 4,
  "nbformat_minor": 0,
  "metadata": {
    "colab": {
      "name": "Optimal_growth_model_I.ipynb",
      "provenance": [],
      "authorship_tag": "ABX9TyP4muIkKVckVlmdQtVQ2AE7",
      "include_colab_link": true
    },
    "kernelspec": {
      "name": "python3",
      "display_name": "Python 3"
    }
  },
  "cells": [
    {
      "cell_type": "markdown",
      "metadata": {
        "id": "view-in-github",
        "colab_type": "text"
      },
      "source": [
        "<a href=\"https://colab.research.google.com/github/Nannanpeng/Econ_Dynamic_Programming/blob/master/Optimal_growth_model_I.ipynb\" target=\"_parent\"><img src=\"https://colab.research.google.com/assets/colab-badge.svg\" alt=\"Open In Colab\"/></a>"
      ]
    },
    {
      "cell_type": "code",
      "metadata": {
        "id": "57RMRmutS_RC",
        "colab_type": "code",
        "colab": {}
      },
      "source": [
        "import numpy as np\n",
        "import matplotlib.pyplot as plt\n",
        "from scipy.interpolate import interp1d\n",
        "from scipy.optimize import minimize_scalar\n",
        "\n",
        "%matplotlib inline"
      ],
      "execution_count": 1,
      "outputs": []
    },
    {
      "cell_type": "code",
      "metadata": {
        "id": "E9NetN4XRbww",
        "colab_type": "code",
        "colab": {}
      },
      "source": [
        "class OptimalGrowthModel:\n",
        "  def __init__(self, alpha=0.4,\n",
        "             beta=0.96,       \n",
        "             mu=0,          # shock location parameter\n",
        "             s=0.1,        # shock scale parameter\n",
        "             grid_max=4,\n",
        "             grid_size=120,\n",
        "             shock_size=250,\n",
        "             seed=1234):\n",
        "    \n",
        "    self.alpha, self.beta = alpha, beta\n",
        "    self.y_grids = np.linspace(1e-4, grid_max, grid_size)\n",
        "    np.random.seed(seed)\n",
        "    self.mc_shocks = np.exp(mu + s*np.random.randn(shock_size))\n",
        "\n",
        "  def u(self, c):\n",
        "    return np.log(c)\n",
        "  \n",
        "  def f(self, k):\n",
        "    return k**self.alpha\n",
        "  \n",
        "  def state_action_value(self, c, y, v):\n",
        "    u, beta, z, f = self.u, self.beta, self.mc_shocks, self.f\n",
        "    fun_v = interp1d(self.y_grids, v)\n",
        "    value = self.u(c) + self.beta * fun_v(f(y-c)*z).mean()\n",
        "    #print(c, y, v, value)\n",
        "    return value\n",
        "\n",
        "  def find_best_c(self, y, v):\n",
        "    obj = lambda c: -self.state_action_value(c, y, v) \n",
        "    res = minimize_scalar(obj, bounds=(0, y), method='Bounded')\n",
        "    return res.x, -res.fun\n",
        "  \n",
        "  def T(self, v):\n",
        "    Tv = np.empty_like(v)\n",
        "    for i, val in enumerate(self.y_grids):\n",
        "      Tv[i] = self.find_best_c(val, v)[1]\n",
        "    return Tv\n",
        "  \n",
        "  def fit(self, max_iter=500, tol=1e-5, verbose=True):\n",
        "    v = np.ones_like(self.y_grids)\n",
        "    i = 0\n",
        "    err = 1 + tol\n",
        "    while i < max_iter and err > tol:\n",
        "      Tv = self.T(v)\n",
        "      i += 1\n",
        "      err = np.max(np.abs(Tv - v))\n",
        "      v = Tv\n",
        "      if verbose and i%25==0:\n",
        "        print(f'Error is {err} at interation {i}.')\n",
        "\n",
        "    if i == max_iter:\n",
        "      raise ValueError('Iteration failed.')\n",
        "    \n",
        "    if verbose:\n",
        "      print(f'\\nConverged on interation {i}!')\n",
        "\n",
        "    return v\n",
        "  \n",
        "  def OptimalPolicy(self, v):\n",
        "    policy = np.empty_like(self.y_grids) \n",
        "    for i, val in enumerate(self.y_grids):\n",
        "      policy[i] = self.find_best_c(val, v)[0]\n",
        "    return policy\n"
      ],
      "execution_count": 2,
      "outputs": []
    },
    {
      "cell_type": "code",
      "metadata": {
        "id": "x4IlOGy3S-aE",
        "colab_type": "code",
        "colab": {
          "base_uri": "https://localhost:8080/",
          "height": 269
        },
        "outputId": "38cc3b0a-2339-496c-9ba5-612135b52f66"
      },
      "source": [
        "%%time\n",
        "\n",
        "ogm = OptimalGrowthModel()\n",
        "v = ogm.fit()\n",
        "policy = ogm.OptimalPolicy(v)"
      ],
      "execution_count": 3,
      "outputs": [
        {
          "output_type": "stream",
          "text": [
            "Error is 0.44184738352142006 at interation 25.\n",
            "Error is 0.15924034540612553 at interation 50.\n",
            "Error is 0.057389697675713336 at interation 75.\n",
            "Error is 0.020683058623809814 at interation 100.\n",
            "Error is 0.007454106422613904 at interation 125.\n",
            "Error is 0.0026864354818343372 at interation 150.\n",
            "Error is 0.0009681825277034761 at interation 175.\n",
            "Error is 0.00034892980431067144 at interation 200.\n",
            "Error is 0.00012575315589558045 at interation 225.\n",
            "Error is 4.532102452614595e-05 at interation 250.\n",
            "Error is 1.6333548451541446e-05 at interation 275.\n",
            "\n",
            "Converged on interation 288!\n",
            "CPU times: user 46.6 s, sys: 28.6 ms, total: 46.7 s\n",
            "Wall time: 46.7 s\n"
          ],
          "name": "stdout"
        }
      ]
    },
    {
      "cell_type": "code",
      "metadata": {
        "id": "bCEymOyRiTiW",
        "colab_type": "code",
        "colab": {}
      },
      "source": [
        "def v_star(y, ogm):\n",
        "  alpha, beta, mu = ogm.alpha, ogm.beta, 0\n",
        "  left = np.log(1-alpha*beta)/(1-beta)\n",
        "  middle = (mu+alpha*np.log(alpha*beta))/(1-alpha)*(1/(1-beta) - 1/(1-alpha*beta))\n",
        "  right = np.log(y)/(1-alpha*beta)\n",
        "  return left + middle + right\n",
        "\n",
        "def sigma_star(y, ogm):\n",
        "  alpha, beta = ogm.alpha, ogm.beta\n",
        "  return (1-alpha*beta)*y"
      ],
      "execution_count": 4,
      "outputs": []
    },
    {
      "cell_type": "code",
      "metadata": {
        "id": "jn3rEsZVY1uf",
        "colab_type": "code",
        "colab": {
          "base_uri": "https://localhost:8080/",
          "height": 623
        },
        "outputId": "be3fa97e-c7e2-43c4-f52f-1475cebddeec"
      },
      "source": [
        "fig, axes = plt.subplots(2, 1, figsize=(6, 10))\n",
        "for ax, val, title in zip(axes.flatten(), [v, policy], ['Value function', 'Policy function']):\n",
        "  ax.plot(ogm.y_grids, val, label='Simulation')\n",
        "  ax.set(title=title)\n",
        "axes[0].plot(ogm.y_grids, v_star(ogm.y_grids, ogm), label='Real')\n",
        "axes[1].plot(ogm.y_grids, sigma_star(ogm.y_grids, ogm), label='Real')\n",
        "axes[0].legend()\n",
        "axes[1].legend()\n",
        "axes[1].set(xlabel='$y$');"
      ],
      "execution_count": 5,
      "outputs": [
        {
          "output_type": "display_data",
          "data": {
            "image/png": "[encoded data removed]",
            "text/plain": [
              "<Figure size 432x720 with 2 Axes>"
            ]
          },
          "metadata": {
            "tags": [],
            "needs_background": "light"
          }
        }
      ]
    },
    {
      "cell_type": "markdown",
      "metadata": {
        "id": "yJCPUA0Rf4Pe",
        "colab_type": "text"
      },
      "source": [
        "## Exercise 1"
      ]
    },
    {
      "cell_type": "code",
      "metadata": {
        "id": "zKYLWrBJls6F",
        "colab_type": "code",
        "colab": {}
      },
      "source": [
        "class OptimalGrowthModel2(OptimalGrowthModel):\n",
        "  def __init__(self, alpha=0.4,\n",
        "             beta=0.96,       \n",
        "             mu=0,          # shock location parameter\n",
        "             s=0.1,        # shock scale parameter\n",
        "             grid_max=4,\n",
        "             grid_size=120,\n",
        "             shock_size=250,\n",
        "             seed=1234,\n",
        "             gamma = 1.5):\n",
        "    super().__init__(alpha, beta, mu, s, grid_max, grid_size, shock_size, seed)\n",
        "    self.gamma = gamma\n",
        "  def u(self, c):\n",
        "    gamma = self.gamma\n",
        "    return c**(1-gamma)/(1-gamma)"
      ],
      "execution_count": 6,
      "outputs": []
    },
    {
      "cell_type": "code",
      "metadata": {
        "id": "yAQERWlEmMg2",
        "colab_type": "code",
        "colab": {
          "base_uri": "https://localhost:8080/",
          "height": 286
        },
        "outputId": "f37851f0-c2d5-4447-fe84-61ca3d49a8b3"
      },
      "source": [
        "%%time\n",
        "\n",
        "ogm2 = OptimalGrowthModel2(gamma=1.5)\n",
        "v2 = ogm2.fit()\n",
        "policy2 = ogm2.OptimalPolicy(v2)"
      ],
      "execution_count": 7,
      "outputs": [
        {
          "output_type": "stream",
          "text": [
            "Error is 1.3416934187295055 at interation 25.\n",
            "Error is 0.4835408491891968 at interation 50.\n",
            "Error is 0.17426653451464347 at interation 75.\n",
            "Error is 0.06280508689729913 at interation 100.\n",
            "Error is 0.022634747119809617 at interation 125.\n",
            "Error is 0.008157488548931724 at interation 150.\n",
            "Error is 0.0029399320908680693 at interation 175.\n",
            "Error is 0.0010595418733601036 at interation 200.\n",
            "Error is 0.0003818554126127083 at interation 225.\n",
            "Error is 0.00013761943705503654 at interation 250.\n",
            "Error is 4.9597593374528515e-05 at interation 275.\n",
            "Error is 1.787480982784473e-05 at interation 300.\n",
            "\n",
            "Converged on interation 315!\n",
            "CPU times: user 53.5 s, sys: 25 ms, total: 53.5 s\n",
            "Wall time: 53.6 s\n"
          ],
          "name": "stdout"
        }
      ]
    },
    {
      "cell_type": "code",
      "metadata": {
        "id": "AOSE8oOXmYI0",
        "colab_type": "code",
        "colab": {
          "base_uri": "https://localhost:8080/",
          "height": 623
        },
        "outputId": "e4dfc804-0a83-4761-996a-595c0153ab5f"
      },
      "source": [
        "fig, axes = plt.subplots(2, 1, figsize=(6, 10))\n",
        "for ax, val, title in zip(axes.flatten(), [v2, policy2], ['Value function', 'Policy function']):\n",
        "  ax.plot(ogm2.y_grids, val, label='Simulation')\n",
        "  ax.set(title=title)\n",
        "axes[1].set(xlabel='$y$');"
      ],
      "execution_count": 8,
      "outputs": [
        {
          "output_type": "display_data",
          "data": {
            "image/png": "[encoded data removed]",
            "text/plain": [
              "<Figure size 432x720 with 2 Axes>"
            ]
          },
          "metadata": {
            "tags": [],
            "needs_background": "light"
          }
        }
      ]
    },
    {
      "cell_type": "code",
      "metadata": {
        "id": "CUH4NCgCneop",
        "colab_type": "code",
        "colab": {}
      },
      "source": [
        ""
      ],
      "execution_count": 8,
      "outputs": []
    }
  ]
}