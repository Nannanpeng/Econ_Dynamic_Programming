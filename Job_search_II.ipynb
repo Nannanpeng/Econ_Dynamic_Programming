{
  "nbformat": 4,
  "nbformat_minor": 0,
  "metadata": {
    "colab": {
      "name": "Job_search_II.ipynb",
      "provenance": [],
      "authorship_tag": "ABX9TyMcIvDkNkuPNxozEVOJmRi7",
      "include_colab_link": true
    },
    "kernelspec": {
      "name": "python3",
      "display_name": "Python 3"
    }
  },
  "cells": [
    {
      "cell_type": "markdown",
      "metadata": {
        "id": "view-in-github",
        "colab_type": "text"
      },
      "source": [
        "<a href=\"https://colab.research.google.com/github/Nannanpeng/Econ_Dynamic_Programming/blob/master/Job_search_II.ipynb\" target=\"_parent\"><img src=\"https://colab.research.google.com/assets/colab-badge.svg\" alt=\"Open In Colab\"/></a>"
      ]
    },
    {
      "cell_type": "code",
      "metadata": {
        "id": "rHbEkuZxEelp",
        "colab_type": "code",
        "colab": {
          "base_uri": "https://localhost:8080/",
          "height": 235
        },
        "outputId": "c877f38b-dd9c-4627-9e08-ba6545730566"
      },
      "source": [
        "!pip install --upgrade quantecon"
      ],
      "execution_count": 1,
      "outputs": [
        {
          "output_type": "stream",
          "text": [
            "Requirement already up-to-date: quantecon in /usr/local/lib/python3.6/dist-packages (0.4.8)\n",
            "Requirement already satisfied, skipping upgrade: sympy in /usr/local/lib/python3.6/dist-packages (from quantecon) (1.1.1)\n",
            "Requirement already satisfied, skipping upgrade: scipy>=1.0.0 in /usr/local/lib/python3.6/dist-packages (from quantecon) (1.4.1)\n",
            "Requirement already satisfied, skipping upgrade: numpy in /usr/local/lib/python3.6/dist-packages (from quantecon) (1.18.5)\n",
            "Requirement already satisfied, skipping upgrade: requests in /usr/local/lib/python3.6/dist-packages (from quantecon) (2.23.0)\n",
            "Requirement already satisfied, skipping upgrade: numba>=0.38 in /usr/local/lib/python3.6/dist-packages (from quantecon) (0.48.0)\n",
            "Requirement already satisfied, skipping upgrade: mpmath>=0.19 in /usr/local/lib/python3.6/dist-packages (from sympy->quantecon) (1.1.0)\n",
            "Requirement already satisfied, skipping upgrade: urllib3!=1.25.0,!=1.25.1,<1.26,>=1.21.1 in /usr/local/lib/python3.6/dist-packages (from requests->quantecon) (1.24.3)\n",
            "Requirement already satisfied, skipping upgrade: idna<3,>=2.5 in /usr/local/lib/python3.6/dist-packages (from requests->quantecon) (2.9)\n",
            "Requirement already satisfied, skipping upgrade: chardet<4,>=3.0.2 in /usr/local/lib/python3.6/dist-packages (from requests->quantecon) (3.0.4)\n",
            "Requirement already satisfied, skipping upgrade: certifi>=2017.4.17 in /usr/local/lib/python3.6/dist-packages (from requests->quantecon) (2020.6.20)\n",
            "Requirement already satisfied, skipping upgrade: setuptools in /usr/local/lib/python3.6/dist-packages (from numba>=0.38->quantecon) (47.3.1)\n",
            "Requirement already satisfied, skipping upgrade: llvmlite<0.32.0,>=0.31.0dev0 in /usr/local/lib/python3.6/dist-packages (from numba>=0.38->quantecon) (0.31.0)\n"
          ],
          "name": "stdout"
        }
      ]
    },
    {
      "cell_type": "code",
      "metadata": {
        "id": "lpS0xaO6Ettv",
        "colab_type": "code",
        "colab": {}
      },
      "source": [
        "import numpy as np\n",
        "import matplotlib.pyplot as plt\n",
        "%matplotlib inline\n",
        "\n",
        "from numba import njit, jitclass, float64\n",
        "from quantecon.distributions import BetaBinomial"
      ],
      "execution_count": 2,
      "outputs": []
    },
    {
      "cell_type": "markdown",
      "metadata": {
        "id": "5BYcg_JjEwUl",
        "colab_type": "text"
      },
      "source": [
        "## Exercise 1"
      ]
    },
    {
      "cell_type": "code",
      "metadata": {
        "id": "WNGAbGxTE3wx",
        "colab_type": "code",
        "colab": {}
      },
      "source": [
        "@njit\n",
        "def u(c, σ=2.0):\n",
        "    return (c**(1 - σ) - 1) / (1 - σ)"
      ],
      "execution_count": 3,
      "outputs": []
    },
    {
      "cell_type": "code",
      "metadata": {
        "id": "L-zlF39KE3lM",
        "colab_type": "code",
        "colab": {}
      },
      "source": [
        "n = 60                                  # n possible outcomes for w\n",
        "w_default = np.linspace(10, 20, n)      # wages between 10 and 20\n",
        "a, b = 600, 400                         # shape parameters\n",
        "dist = BetaBinomial(n-1, a, b)\n",
        "q_default = dist.pdf()"
      ],
      "execution_count": 4,
      "outputs": []
    },
    {
      "cell_type": "code",
      "metadata": {
        "id": "HYiSB9ipE3Vw",
        "colab_type": "code",
        "colab": {}
      },
      "source": [
        "mccall_data = [\n",
        "    ('α', float64),      # job separation rate\n",
        "    ('β', float64),      # discount factor\n",
        "    ('c', float64),      # unemployment compensation\n",
        "    ('w', float64[:]),   # list of wage values\n",
        "    ('q', float64[:])    # pmf of random variable w\n",
        "]\n",
        "\n",
        "@jitclass(mccall_data)\n",
        "class McCallModel:\n",
        "    \"\"\"\n",
        "    Stores the parameters and functions associated with a given model.\n",
        "    \"\"\"\n",
        "\n",
        "    def __init__(self, α=0.2, β=0.98, c=6.0, w=w_default, q=q_default):\n",
        "\n",
        "        self.α, self.β, self.c, self.w, self.q = α, β, c, w, q\n",
        "\n",
        "\n",
        "    def update(self, v, d):\n",
        "\n",
        "        α, β, c, w, q = self.α, self.β, self.c, self.w, self.q\n",
        "\n",
        "        v_new = np.empty_like(v)\n",
        "\n",
        "        for i in range(len(w)):\n",
        "            v_new[i] = u(w[i]) + β * ((1 - α) * v[i] + α * d)\n",
        "\n",
        "        d_new = np.sum(np.maximum(v, u(c) + β * d) * q)\n",
        "\n",
        "        return v_new, d_new"
      ],
      "execution_count": 5,
      "outputs": []
    },
    {
      "cell_type": "code",
      "metadata": {
        "id": "BCreyPUkFE0K",
        "colab_type": "code",
        "colab": {}
      },
      "source": [
        "@njit\n",
        "def solve_model(mcm, tol=1e-5, max_iter=2000):\n",
        "    \"\"\"\n",
        "    Iterates to convergence on the Bellman equations\n",
        "\n",
        "    * mcm is an instance of McCallModel\n",
        "    \"\"\"\n",
        "\n",
        "    v = np.ones_like(mcm.w)    # Initial guess of v\n",
        "    d = 1                      # Initial guess of d\n",
        "    i = 0\n",
        "    error = tol + 1\n",
        "\n",
        "    while error > tol and i < max_iter:\n",
        "        v_new, d_new = mcm.update(v, d)\n",
        "        error_1 = np.max(np.abs(v_new - v))\n",
        "        error_2 = np.abs(d_new - d)\n",
        "        error = max(error_1, error_2)\n",
        "        v = v_new\n",
        "        d = d_new\n",
        "        i += 1\n",
        "    if i >= max_iter:\n",
        "      raise ValueError('Iteration failed.')\n",
        "    return v, d"
      ],
      "execution_count": 6,
      "outputs": []
    },
    {
      "cell_type": "code",
      "metadata": {
        "id": "8GLhh98QFQeO",
        "colab_type": "code",
        "colab": {}
      },
      "source": [
        "def compute_reservation_wage(mcm):\n",
        "    \"\"\"\n",
        "    Computes the reservation wage of an instance of the McCall model\n",
        "    by finding the smallest w such that v(w) >= h.\n",
        "\n",
        "    If no such w exists, then w_bar is set to np.inf.\n",
        "    \"\"\"\n",
        "\n",
        "    v, d = solve_model(mcm)\n",
        "    h = u(mcm.c) + mcm.β * d\n",
        "\n",
        "    w_bar = np.inf\n",
        "    for i, wage in enumerate(mcm.w):\n",
        "        if v[i] > h:\n",
        "            w_bar = wage\n",
        "            break\n",
        "\n",
        "    return w_bar"
      ],
      "execution_count": 7,
      "outputs": []
    },
    {
      "cell_type": "code",
      "metadata": {
        "id": "IFcb2RYEEmGZ",
        "colab_type": "code",
        "colab": {}
      },
      "source": [
        "grid_size = 25\n",
        "c_vals = np.linspace(2, 12, grid_size)         # unemployment compensation\n",
        "beta_vals = np.linspace(0.8, 0.99, grid_size)  # discount factors\n",
        "alpha_vals = np.linspace(0.05, 0.5, grid_size) # separation rate"
      ],
      "execution_count": 8,
      "outputs": []
    },
    {
      "cell_type": "code",
      "metadata": {
        "id": "FRN0y35WFWMf",
        "colab_type": "code",
        "colab": {
          "base_uri": "https://localhost:8080/",
          "height": 50
        },
        "outputId": "4e660b40-dcfc-4712-d23d-5a657ac6c1af"
      },
      "source": [
        "%%time\n",
        "storage = np.empty((3, grid_size))\n",
        "for i, vals in enumerate([c_vals, beta_vals, alpha_vals]):\n",
        "  mcm = McCallModel()\n",
        "  for j, val in enumerate(vals):\n",
        "    if i == 0:\n",
        "      mcm.c = val\n",
        "    elif i == 1:\n",
        "      mcm.β = val\n",
        "    else:\n",
        "      mcm.α = val\n",
        "    w_bar = compute_reservation_wage(mcm)\n",
        "    storage[i, j] = w_bar"
      ],
      "execution_count": 9,
      "outputs": [
        {
          "output_type": "stream",
          "text": [
            "CPU times: user 2.03 s, sys: 22.3 ms, total: 2.06 s\n",
            "Wall time: 2.06 s\n"
          ],
          "name": "stdout"
        }
      ]
    },
    {
      "cell_type": "code",
      "metadata": {
        "id": "q_kWwHmuHO6g",
        "colab_type": "code",
        "colab": {
          "base_uri": "https://localhost:8080/",
          "height": 369
        },
        "outputId": "f456a01e-efad-46d0-ca68-6faddd181ecc"
      },
      "source": [
        "fig, axes = plt.subplots(1, 3, figsize=(16, 5))\n",
        "for w, val, ax, xlabel in zip(storage, [c_vals, beta_vals, alpha_vals], \\\n",
        "                  axes.flatten(), ['$c$', r\"$\\beta$\", r'$\\alpha$']):\n",
        "  ax.plot(val, w)\n",
        "  ax.set(xlabel=f'{xlabel}', ylabel=r'$\\bar{w}$')\n",
        "fig.tight_layout()"
      ],
      "execution_count": 10,
      "outputs": [
        {
          "output_type": "display_data",
          "data": {
            "image/png": "[encoded data removed]",
            "text/plain": [
              "<Figure size 1152x360 with 3 Axes>"
            ]
          },
          "metadata": {
            "tags": [],
            "needs_background": "light"
          }
        }
      ]
    },
    {
      "cell_type": "code",
      "metadata": {
        "id": "Hv1ER8XbKqla",
        "colab_type": "code",
        "colab": {}
      },
      "source": [
        ""
      ],
      "execution_count": 10,
      "outputs": []
    }
  ]
}