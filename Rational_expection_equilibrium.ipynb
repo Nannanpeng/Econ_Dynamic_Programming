{
  "nbformat": 4,
  "nbformat_minor": 0,
  "metadata": {
    "colab": {
      "name": "Rational_expection_equilibrium.ipynb",
      "provenance": [],
      "authorship_tag": "ABX9TyOZJyJcyv9FSBNs75Y94g/4",
      "include_colab_link": true
    },
    "kernelspec": {
      "name": "python3",
      "display_name": "Python 3"
    }
  },
  "cells": [
    {
      "cell_type": "markdown",
      "metadata": {
        "id": "view-in-github",
        "colab_type": "text"
      },
      "source": [
        "<a href=\"https://colab.research.google.com/github/Nannanpeng/Econ_Dynamic_Programming/blob/master/Rational_expection_equilibrium.ipynb\" target=\"_parent\"><img src=\"https://colab.research.google.com/assets/colab-badge.svg\" alt=\"Open In Colab\"/></a>"
      ]
    },
    {
      "cell_type": "code",
      "metadata": {
        "id": "WraC_PvDZ7eT",
        "colab_type": "code",
        "colab": {
          "base_uri": "https://localhost:8080/",
          "height": 235
        },
        "outputId": "73153fe3-2ae4-4ea1-a263-7a3075b8095b"
      },
      "source": [
        "!pip install --upgrade quantecon"
      ],
      "execution_count": 1,
      "outputs": [
        {
          "output_type": "stream",
          "text": [
            "Requirement already up-to-date: quantecon in /usr/local/lib/python3.6/dist-packages (0.4.8)\n",
            "Requirement already satisfied, skipping upgrade: sympy in /usr/local/lib/python3.6/dist-packages (from quantecon) (1.1.1)\n",
            "Requirement already satisfied, skipping upgrade: scipy>=1.0.0 in /usr/local/lib/python3.6/dist-packages (from quantecon) (1.4.1)\n",
            "Requirement already satisfied, skipping upgrade: requests in /usr/local/lib/python3.6/dist-packages (from quantecon) (2.23.0)\n",
            "Requirement already satisfied, skipping upgrade: numpy in /usr/local/lib/python3.6/dist-packages (from quantecon) (1.18.5)\n",
            "Requirement already satisfied, skipping upgrade: numba>=0.38 in /usr/local/lib/python3.6/dist-packages (from quantecon) (0.48.0)\n",
            "Requirement already satisfied, skipping upgrade: mpmath>=0.19 in /usr/local/lib/python3.6/dist-packages (from sympy->quantecon) (1.1.0)\n",
            "Requirement already satisfied, skipping upgrade: chardet<4,>=3.0.2 in /usr/local/lib/python3.6/dist-packages (from requests->quantecon) (3.0.4)\n",
            "Requirement already satisfied, skipping upgrade: idna<3,>=2.5 in /usr/local/lib/python3.6/dist-packages (from requests->quantecon) (2.10)\n",
            "Requirement already satisfied, skipping upgrade: certifi>=2017.4.17 in /usr/local/lib/python3.6/dist-packages (from requests->quantecon) (2020.6.20)\n",
            "Requirement already satisfied, skipping upgrade: urllib3!=1.25.0,!=1.25.1,<1.26,>=1.21.1 in /usr/local/lib/python3.6/dist-packages (from requests->quantecon) (1.24.3)\n",
            "Requirement already satisfied, skipping upgrade: setuptools in /usr/local/lib/python3.6/dist-packages (from numba>=0.38->quantecon) (49.1.0)\n",
            "Requirement already satisfied, skipping upgrade: llvmlite<0.32.0,>=0.31.0dev0 in /usr/local/lib/python3.6/dist-packages (from numba>=0.38->quantecon) (0.31.0)\n"
          ],
          "name": "stdout"
        }
      ]
    },
    {
      "cell_type": "code",
      "metadata": {
        "id": "Q7XQdIoEaE08",
        "colab_type": "code",
        "colab": {}
      },
      "source": [
        "from quantecon import LQ\n",
        "import numpy as np\n",
        "import matplotlib.pyplot as plt"
      ],
      "execution_count": 2,
      "outputs": []
    },
    {
      "cell_type": "markdown",
      "metadata": {
        "id": "cvYPSezvaL_B",
        "colab_type": "text"
      },
      "source": [
        "## Exercise 1"
      ]
    },
    {
      "cell_type": "code",
      "metadata": {
        "id": "b3P4x5RwaQbV",
        "colab_type": "code",
        "colab": {}
      },
      "source": [
        "a0, a1, beta = 100, 0.05, 0.95\n",
        "gamma, k0, k1 = 10, 95.5, 0.95"
      ],
      "execution_count": 3,
      "outputs": []
    },
    {
      "cell_type": "code",
      "metadata": {
        "id": "_paM67epaj7b",
        "colab_type": "code",
        "colab": {}
      },
      "source": [
        "R = np.array([[0, -a1/2, a0/2],\n",
        "        [-a1/2, 0, 0],\n",
        "        [a0/2, 0, 0]])\n",
        "R = -R\n",
        "Q = -gamma/2\n",
        "Q = -Q\n",
        "A = np.array([[1, 0, 0],\n",
        "        [0, k1, k0],\n",
        "        [0, 0, 1]])\n",
        "B = np.array([[1],\n",
        "        [0],\n",
        "        [0]])"
      ],
      "execution_count": 4,
      "outputs": []
    },
    {
      "cell_type": "code",
      "metadata": {
        "id": "ZLm8w3yEit8Q",
        "colab_type": "code",
        "colab": {}
      },
      "source": [
        "re_lq = LQ(Q, R, A, B, beta=beta)\n",
        "_, F, _ = re_lq.stationary_values()"
      ],
      "execution_count": 5,
      "outputs": []
    },
    {
      "cell_type": "code",
      "metadata": {
        "id": "AA3mJwGFi00C",
        "colab_type": "code",
        "colab": {
          "base_uri": "https://localhost:8080/",
          "height": 67
        },
        "outputId": "eae663a6-db15-4bcd-f823-dc8758fa83d9"
      },
      "source": [
        "print(f'h0 = {-F[0, 2]},\\nh1 = {1-F[0, 0]},\\nh2 = {-F[0,1]}')"
      ],
      "execution_count": 6,
      "outputs": [
        {
          "output_type": "stream",
          "text": [
            "h0 = 96.94871794872725,\n",
            "h1 = 1.0000000000000033,\n",
            "h2 = -0.046282051282042505\n"
          ],
          "name": "stdout"
        }
      ]
    },
    {
      "cell_type": "markdown",
      "metadata": {
        "id": "cjLE5F5dl4ng",
        "colab_type": "text"
      },
      "source": [
        "## Exercise 2"
      ]
    },
    {
      "cell_type": "code",
      "metadata": {
        "id": "0Z7MBQvnqW8Q",
        "colab_type": "code",
        "colab": {}
      },
      "source": [
        "k_pairs = [(94.0886298678, 0.923409232937), \n",
        "      (93.2119845412, 0.984323478873),\n",
        "      (95.0818452486, 0.952459076301)]\n",
        "\n",
        "def CheckRE(k):\n",
        "  A[1, 1:] = k[1], k[0]\n",
        "  re_lq = LQ(Q, R, A, B, beta=beta)\n",
        "  _, F, _ = re_lq.stationary_values()\n",
        "  h0 = -F[0, 2]\n",
        "  h1 = 1 - F[0, 0]\n",
        "  h2 = -F[0, 1]\n",
        "  if np.allclose(k, (h0, h1+h2)):\n",
        "    print(f'{k} satisfies rational expection!')\n",
        "  else:\n",
        "    print(f'{k} does not satisfy rational expection!')"
      ],
      "execution_count": 7,
      "outputs": []
    },
    {
      "cell_type": "code",
      "metadata": {
        "id": "RDGM2Zlmqgn3",
        "colab_type": "code",
        "colab": {
          "base_uri": "https://localhost:8080/",
          "height": 67
        },
        "outputId": "26b3e826-cb21-45d2-d3f4-a5b54f99b3e6"
      },
      "source": [
        "for k in k_pairs:\n",
        "  CheckRE(k)"
      ],
      "execution_count": 8,
      "outputs": [
        {
          "output_type": "stream",
          "text": [
            "(94.0886298678, 0.923409232937) does not satisfy rational expection!\n",
            "(93.2119845412, 0.984323478873) does not satisfy rational expection!\n",
            "(95.0818452486, 0.952459076301) satisfies rational expection!\n"
          ],
          "name": "stdout"
        }
      ]
    },
    {
      "cell_type": "markdown",
      "metadata": {
        "id": "bF5NI0H4siiV",
        "colab_type": "text"
      },
      "source": [
        "## Exercise 3"
      ]
    },
    {
      "cell_type": "code",
      "metadata": {
        "id": "LV7K4XG1uoad",
        "colab_type": "code",
        "colab": {}
      },
      "source": [
        "a0, a1, beta, gamma = 100, 0.05, 0.95, 10\n",
        "\n",
        "R = np.array([[a1/2, -a0/2],\n",
        "        [-a0/2, 0]])\n",
        "Q = gamma/2\n",
        "\n",
        "A = np.eye(2)\n",
        "B = np.array([[1], [0]])"
      ],
      "execution_count": 9,
      "outputs": []
    },
    {
      "cell_type": "code",
      "metadata": {
        "id": "WKH-CjkG4_9A",
        "colab_type": "code",
        "colab": {
          "base_uri": "https://localhost:8080/",
          "height": 50
        },
        "outputId": "e60d98fd-d84e-4099-959e-614db5979ace"
      },
      "source": [
        "re3_lq = LQ(Q, R, A, B, beta=beta)\n",
        "_, F, _ = re3_lq.stationary_values()\n",
        "\n",
        "k0 = 1 - F[0, 0]\n",
        "k1 = -F[0, 1]\n",
        "print(f'k0 = {k0},\\nk1 = {k1}')"
      ],
      "execution_count": 10,
      "outputs": [
        {
          "output_type": "stream",
          "text": [
            "k0 = 0.9524590627039239,\n",
            "k1 = 95.08187459214828\n"
          ],
          "name": "stdout"
        }
      ]
    }
  ]
}