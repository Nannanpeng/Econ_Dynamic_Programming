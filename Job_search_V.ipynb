{
  "nbformat": 4,
  "nbformat_minor": 0,
  "metadata": {
    "colab": {
      "name": "Job_search_V.ipynb",
      "provenance": [],
      "authorship_tag": "ABX9TyOv+Pym/51t1Yy9lPPoMTEu",
      "include_colab_link": true
    },
    "kernelspec": {
      "name": "python3",
      "display_name": "Python 3"
    }
  },
  "cells": [
    {
      "cell_type": "markdown",
      "metadata": {
        "id": "view-in-github",
        "colab_type": "text"
      },
      "source": [
        "<a href=\"https://colab.research.google.com/github/Nannanpeng/Econ_Dynamic_Programming/blob/master/Job_search_V.ipynb\" target=\"_parent\"><img src=\"https://colab.research.google.com/assets/colab-badge.svg\" alt=\"Open In Colab\"/></a>"
      ]
    },
    {
      "cell_type": "code",
      "metadata": {
        "id": "Ts4MhR64S4JR",
        "colab_type": "code",
        "colab": {
          "base_uri": "https://localhost:8080/",
          "height": 235
        },
        "outputId": "d16f3b02-6deb-45b1-d06a-efd7cf22d59b"
      },
      "source": [
        "!pip install --upgrade quantecon"
      ],
      "execution_count": 1,
      "outputs": [
        {
          "output_type": "stream",
          "text": [
            "Requirement already up-to-date: quantecon in /usr/local/lib/python3.6/dist-packages (0.4.8)\n",
            "Requirement already satisfied, skipping upgrade: scipy>=1.0.0 in /usr/local/lib/python3.6/dist-packages (from quantecon) (1.4.1)\n",
            "Requirement already satisfied, skipping upgrade: numba>=0.38 in /usr/local/lib/python3.6/dist-packages (from quantecon) (0.48.0)\n",
            "Requirement already satisfied, skipping upgrade: requests in /usr/local/lib/python3.6/dist-packages (from quantecon) (2.23.0)\n",
            "Requirement already satisfied, skipping upgrade: numpy in /usr/local/lib/python3.6/dist-packages (from quantecon) (1.18.5)\n",
            "Requirement already satisfied, skipping upgrade: sympy in /usr/local/lib/python3.6/dist-packages (from quantecon) (1.1.1)\n",
            "Requirement already satisfied, skipping upgrade: setuptools in /usr/local/lib/python3.6/dist-packages (from numba>=0.38->quantecon) (47.3.1)\n",
            "Requirement already satisfied, skipping upgrade: llvmlite<0.32.0,>=0.31.0dev0 in /usr/local/lib/python3.6/dist-packages (from numba>=0.38->quantecon) (0.31.0)\n",
            "Requirement already satisfied, skipping upgrade: urllib3!=1.25.0,!=1.25.1,<1.26,>=1.21.1 in /usr/local/lib/python3.6/dist-packages (from requests->quantecon) (1.24.3)\n",
            "Requirement already satisfied, skipping upgrade: certifi>=2017.4.17 in /usr/local/lib/python3.6/dist-packages (from requests->quantecon) (2020.6.20)\n",
            "Requirement already satisfied, skipping upgrade: chardet<4,>=3.0.2 in /usr/local/lib/python3.6/dist-packages (from requests->quantecon) (3.0.4)\n",
            "Requirement already satisfied, skipping upgrade: idna<3,>=2.5 in /usr/local/lib/python3.6/dist-packages (from requests->quantecon) (2.9)\n",
            "Requirement already satisfied, skipping upgrade: mpmath>=0.19 in /usr/local/lib/python3.6/dist-packages (from sympy->quantecon) (1.1.0)\n"
          ],
          "name": "stdout"
        }
      ]
    },
    {
      "cell_type": "code",
      "metadata": {
        "id": "8CfiXhdMVRN5",
        "colab_type": "code",
        "colab": {}
      },
      "source": [
        "import numpy as np\n",
        "import quantecon as qe\n",
        "import matplotlib.pyplot as plt\n",
        "%matplotlib inline\n",
        "from numba import njit, prange\n",
        "from quantecon.distributions import BetaBinomial\n",
        "from scipy.special import binom, beta\n",
        "from mpl_toolkits.mplot3d.axes3d import Axes3D\n",
        "from matplotlib import cm"
      ],
      "execution_count": 2,
      "outputs": []
    },
    {
      "cell_type": "markdown",
      "metadata": {
        "id": "flfnrVfYkMiW",
        "colab_type": "text"
      },
      "source": [
        "## Exercise 1"
      ]
    },
    {
      "cell_type": "code",
      "metadata": {
        "id": "JB0pl8doWBc_",
        "colab_type": "code",
        "colab": {}
      },
      "source": [
        "class CareerWorkerProblem:\n",
        "\n",
        "    def __init__(self,\n",
        "                 B=5.0,          # Upper bound\n",
        "                 β=0.95,         # Discount factor\n",
        "                 grid_size=50,   # Grid size\n",
        "                 F_a=1,\n",
        "                 F_b=1,\n",
        "                 G_a=1,\n",
        "                 G_b=1):\n",
        "\n",
        "        self.β, self.grid_size, self.B = β, grid_size, B\n",
        "\n",
        "        self.θ = np.linspace(0, B, grid_size)     # Set of θ values\n",
        "        self.ϵ = np.linspace(0, B, grid_size)     # Set of ϵ values\n",
        "\n",
        "        self.F_probs = BetaBinomial(grid_size - 1, F_a, F_b).pdf()\n",
        "        self.G_probs = BetaBinomial(grid_size - 1, G_a, G_b).pdf()\n",
        "        self.F_mean = np.sum(self.θ * self.F_probs)\n",
        "        self.G_mean = np.sum(self.ϵ * self.G_probs)\n",
        "\n",
        "        # Store these parameters for str and repr methods\n",
        "        self._F_a, self._F_b = F_a, F_b\n",
        "        self._G_a, self._G_b = G_a, G_b"
      ],
      "execution_count": 3,
      "outputs": []
    },
    {
      "cell_type": "code",
      "metadata": {
        "id": "OLdVZRZ_Tp3I",
        "colab_type": "code",
        "colab": {}
      },
      "source": [
        "def operator_factory(cw, parallel_flag=True):\n",
        "\n",
        "    \"\"\"\n",
        "    Returns jitted versions of the Bellman operator and the\n",
        "    greedy policy function\n",
        "\n",
        "    cw is an instance of ``CareerWorkerProblem``\n",
        "    \"\"\"\n",
        "\n",
        "    θ, ϵ, β = cw.θ, cw.ϵ, cw.β\n",
        "    F_probs, G_probs = cw.F_probs, cw.G_probs\n",
        "    F_mean, G_mean = cw.F_mean, cw.G_mean\n",
        "\n",
        "    @njit(parallel=parallel_flag)\n",
        "    def T(v):\n",
        "        \"The Bellman operator\"\n",
        "\n",
        "        v_new = np.empty_like(v)\n",
        "\n",
        "        for i in prange(len(v)):\n",
        "            for j in prange(len(v)):\n",
        "                v1 = θ[i] + ϵ[j] + β * v[i, j]                    # Stay put\n",
        "                v2 = θ[i] + G_mean + β * v[i, :] @ G_probs        # New job\n",
        "                v3 = G_mean + F_mean + β * F_probs @ v @ G_probs  # New life\n",
        "                v_new[i, j] = max(v1, v2, v3)\n",
        "\n",
        "        return v_new\n",
        "\n",
        "    @njit\n",
        "    def get_greedy(v):\n",
        "        \"Computes the v-greedy policy\"\n",
        "\n",
        "        σ = np.empty(v.shape)\n",
        "\n",
        "        for i in range(len(v)):\n",
        "            for j in range(len(v)):\n",
        "                v1 = θ[i] + ϵ[j] + β * v[i, j]\n",
        "                v2 = θ[i] + G_mean + β * v[i, :] @ G_probs\n",
        "                v3 = G_mean + F_mean + β * F_probs @ v @ G_probs\n",
        "                if v1 > max(v2, v3):\n",
        "                    action = 1\n",
        "                elif v2 > max(v1, v3):\n",
        "                    action = 2\n",
        "                else:\n",
        "                    action = 3\n",
        "                σ[i, j] = action\n",
        "\n",
        "        return σ\n",
        "\n",
        "    return T, get_greedy"
      ],
      "execution_count": 4,
      "outputs": []
    },
    {
      "cell_type": "code",
      "metadata": {
        "id": "yGDYDbjrUXBG",
        "colab_type": "code",
        "colab": {}
      },
      "source": [
        "def solve_model(cw,\n",
        "                use_parallel=True,\n",
        "                tol=1e-4,\n",
        "                max_iter=1000,\n",
        "                verbose=True,\n",
        "                print_skip=25):\n",
        "\n",
        "    T, _ = operator_factory(cw, parallel_flag=use_parallel)\n",
        "\n",
        "    # Set up loop\n",
        "    v = np.ones((cw.grid_size, cw.grid_size)) * 100  # Initial guess\n",
        "    i = 0\n",
        "    error = tol + 1\n",
        "\n",
        "    while i < max_iter and error > tol:\n",
        "        v_new = T(v)\n",
        "        error = np.max(np.abs(v - v_new))\n",
        "        i += 1\n",
        "        if verbose and i % print_skip == 0:\n",
        "            print(f\"Error at iteration {i} is {error}.\")\n",
        "        v = v_new\n",
        "\n",
        "    if i == max_iter:\n",
        "        print(\"Failed to converge!\")\n",
        "\n",
        "    if verbose and i < max_iter:\n",
        "        print(f\"\\nConverged in {i} iterations.\")\n",
        "\n",
        "    return v_new"
      ],
      "execution_count": 5,
      "outputs": []
    },
    {
      "cell_type": "code",
      "metadata": {
        "id": "xB-EMULVWC91",
        "colab_type": "code",
        "colab": {}
      },
      "source": [
        "cw = CareerWorkerProblem()\n",
        "T, get_greedy = operator_factory(cw)\n",
        "v_star = solve_model(cw, verbose=False)\n",
        "greedy_star = get_greedy(v_star)"
      ],
      "execution_count": 6,
      "outputs": []
    },
    {
      "cell_type": "code",
      "metadata": {
        "id": "63R0EZyYWFis",
        "colab_type": "code",
        "colab": {}
      },
      "source": [
        "n_sims = 20\n",
        "F_cdf = cw.F_probs.cumsum()\n",
        "G_cdf = cw.G_probs.cumsum()\n",
        "thetas, epsilons = cw.θ, cw.ε\n",
        "theta_indices = np.full(n_sims, -1, dtype=int)\n",
        "epsilon_indices = np.full(n_sims, -1, dtype=int)"
      ],
      "execution_count": 7,
      "outputs": []
    },
    {
      "cell_type": "code",
      "metadata": {
        "id": "6QEogc_ZY3Yj",
        "colab_type": "code",
        "colab": {}
      },
      "source": [
        "theta_indices[0] = 0\n",
        "epsilon_indices[0] = 0\n",
        "for i in range(n_sims-1):\n",
        "  t_idx, e_idx = theta_indices[i], epsilon_indices[i]\n",
        "  action = greedy_star[t_idx, e_idx]\n",
        "  if action == 1:\n",
        "    theta_indices[i+1] = theta_indices[i]\n",
        "    epsilon_indices[i+1] = epsilon_indices[i]\n",
        "  elif action == 2:\n",
        "    theta_indices[i+1] = theta_indices[i]\n",
        "    epsilon_indices[i+1] = qe.random.draw(G_cdf)\n",
        "  else:\n",
        "    theta_indices[i+1] = qe.random.draw(F_cdf)\n",
        "    epsilon_indices[i+1] = qe.random.draw(G_cdf)\n",
        "theta_draws = thetas[theta_indices]\n",
        "epsilon_draws = epsilons[epsilon_indices]"
      ],
      "execution_count": 8,
      "outputs": []
    },
    {
      "cell_type": "code",
      "metadata": {
        "id": "l8gzlH3qcdgO",
        "colab_type": "code",
        "colab": {
          "base_uri": "https://localhost:8080/",
          "height": 279
        },
        "outputId": "00cf8dad-fd49-4f35-c53a-959afde0b3bc"
      },
      "source": [
        "for draws, label in zip([theta_draws, epsilon_draws], [r'$\\theta$', r'$\\epsilon$']):\n",
        "  plt.plot(draws, label=label)\n",
        "plt.xlabel('Time')\n",
        "plt.legend();"
      ],
      "execution_count": 9,
      "outputs": [
        {
          "output_type": "display_data",
          "data": {
            "image/png": "[encoded data removed]",
            "text/plain": [
              "<Figure size 432x288 with 1 Axes>"
            ]
          },
          "metadata": {
            "tags": [],
            "needs_background": "light"
          }
        }
      ]
    },
    {
      "cell_type": "markdown",
      "metadata": {
        "id": "r1gRYuOPkRMz",
        "colab_type": "text"
      },
      "source": [
        "## Exercise 2"
      ]
    },
    {
      "cell_type": "code",
      "metadata": {
        "id": "DCU22xH_c94a",
        "colab_type": "code",
        "colab": {}
      },
      "source": [
        "G_cdf, F_cdf = cw.G_probs.cumsum(), cw.F_probs.cumsum()\n",
        "\n",
        "@njit\n",
        "def Simulations(policy=greedy_star, theta_init=0, epsilon_init=0, n_sims=25000):  \n",
        "  t_idx_init = 0\n",
        "  e_idx_init = 0\n",
        "  storage = np.empty(n_sims)\n",
        "  for i in prange(n_sims):\n",
        "    action = policy[t_idx_init, e_idx_init]\n",
        "    t_idx_new = t_idx_init\n",
        "    count = 0\n",
        "    while action != 1:\n",
        "      if action == 2:\n",
        "        t_idx_next = t_idx_new\n",
        "        e_idx_next = qe.random.draw(G_cdf)\n",
        "      else:\n",
        "        t_idx_next = qe.random.draw(F_cdf)\n",
        "        e_idx_next = qe.random.draw(G_cdf)  \n",
        "      action = policy[t_idx_next, e_idx_next]\n",
        "      t_idx_new = t_idx_next\n",
        "      count += 1\n",
        "    storage[i] = count\n",
        "  return storage"
      ],
      "execution_count": 10,
      "outputs": []
    },
    {
      "cell_type": "code",
      "metadata": {
        "id": "akx-NmX6fdW-",
        "colab_type": "code",
        "colab": {
          "base_uri": "https://localhost:8080/",
          "height": 34
        },
        "outputId": "bd2c8370-dd8c-4bb7-bfd5-bdce86cf04ae"
      },
      "source": [
        "np.median(Simulations())"
      ],
      "execution_count": 11,
      "outputs": [
        {
          "output_type": "execute_result",
          "data": {
            "text/plain": [
              "7.0"
            ]
          },
          "metadata": {
            "tags": []
          },
          "execution_count": 11
        }
      ]
    },
    {
      "cell_type": "code",
      "metadata": {
        "id": "2l3d6VFWk7DI",
        "colab_type": "code",
        "colab": {}
      },
      "source": [
        ""
      ],
      "execution_count": 11,
      "outputs": []
    }
  ]
}