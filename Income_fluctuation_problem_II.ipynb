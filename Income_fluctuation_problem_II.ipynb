{
  "nbformat": 4,
  "nbformat_minor": 0,
  "metadata": {
    "colab": {
      "name": "Income_fluctuation_problem_II.ipynb",
      "provenance": [],
      "collapsed_sections": [],
      "authorship_tag": "ABX9TyNj1u7j2mOe5V+qRf+7QpZx",
      "include_colab_link": true
    },
    "kernelspec": {
      "name": "python3",
      "display_name": "Python 3"
    },
    "accelerator": "TPU"
  },
  "cells": [
    {
      "cell_type": "markdown",
      "metadata": {
        "id": "view-in-github",
        "colab_type": "text"
      },
      "source": [
        "<a href=\"https://colab.research.google.com/github/Nannanpeng/Econ_Dynamic_Programming/blob/master/Income_fluctuation_problem_II.ipynb\" target=\"_parent\"><img src=\"https://colab.research.google.com/assets/colab-badge.svg\" alt=\"Open In Colab\"/></a>"
      ]
    },
    {
      "cell_type": "code",
      "metadata": {
        "id": "Ey9qbt2FSAUx",
        "colab_type": "code",
        "colab": {
          "base_uri": "https://localhost:8080/",
          "height": 353
        },
        "outputId": "df5e0041-1045-4509-c6a3-81ffe9cf8a9e"
      },
      "source": [
        "!pip install --upgrade quantecon\n",
        "!pip install interpolation"
      ],
      "execution_count": 1,
      "outputs": [
        {
          "output_type": "stream",
          "text": [
            "Requirement already up-to-date: quantecon in /usr/local/lib/python3.6/dist-packages (0.4.8)\n",
            "Requirement already satisfied, skipping upgrade: sympy in /usr/local/lib/python3.6/dist-packages (from quantecon) (1.1.1)\n",
            "Requirement already satisfied, skipping upgrade: numba>=0.38 in /usr/local/lib/python3.6/dist-packages (from quantecon) (0.48.0)\n",
            "Requirement already satisfied, skipping upgrade: requests in /usr/local/lib/python3.6/dist-packages (from quantecon) (2.23.0)\n",
            "Requirement already satisfied, skipping upgrade: scipy>=1.0.0 in /usr/local/lib/python3.6/dist-packages (from quantecon) (1.4.1)\n",
            "Requirement already satisfied, skipping upgrade: numpy in /usr/local/lib/python3.6/dist-packages (from quantecon) (1.18.5)\n",
            "Requirement already satisfied, skipping upgrade: mpmath>=0.19 in /usr/local/lib/python3.6/dist-packages (from sympy->quantecon) (1.1.0)\n",
            "Requirement already satisfied, skipping upgrade: llvmlite<0.32.0,>=0.31.0dev0 in /usr/local/lib/python3.6/dist-packages (from numba>=0.38->quantecon) (0.31.0)\n",
            "Requirement already satisfied, skipping upgrade: setuptools in /usr/local/lib/python3.6/dist-packages (from numba>=0.38->quantecon) (47.3.1)\n",
            "Requirement already satisfied, skipping upgrade: urllib3!=1.25.0,!=1.25.1,<1.26,>=1.21.1 in /usr/local/lib/python3.6/dist-packages (from requests->quantecon) (1.24.3)\n",
            "Requirement already satisfied, skipping upgrade: idna<3,>=2.5 in /usr/local/lib/python3.6/dist-packages (from requests->quantecon) (2.9)\n",
            "Requirement already satisfied, skipping upgrade: certifi>=2017.4.17 in /usr/local/lib/python3.6/dist-packages (from requests->quantecon) (2020.6.20)\n",
            "Requirement already satisfied, skipping upgrade: chardet<4,>=3.0.2 in /usr/local/lib/python3.6/dist-packages (from requests->quantecon) (3.0.4)\n",
            "Requirement already satisfied: interpolation in /usr/local/lib/python3.6/dist-packages (2.1.6)\n",
            "Requirement already satisfied: numpy>=1.18.1 in /usr/local/lib/python3.6/dist-packages (from interpolation) (1.18.5)\n",
            "Requirement already satisfied: tempita>=0.5.2 in /usr/local/lib/python3.6/dist-packages (from interpolation) (0.5.2)\n",
            "Requirement already satisfied: numba>=0.47 in /usr/local/lib/python3.6/dist-packages (from interpolation) (0.48.0)\n",
            "Requirement already satisfied: scipy>=1.4.1 in /usr/local/lib/python3.6/dist-packages (from interpolation) (1.4.1)\n",
            "Requirement already satisfied: llvmlite<0.32.0,>=0.31.0dev0 in /usr/local/lib/python3.6/dist-packages (from numba>=0.47->interpolation) (0.31.0)\n",
            "Requirement already satisfied: setuptools in /usr/local/lib/python3.6/dist-packages (from numba>=0.47->interpolation) (47.3.1)\n"
          ],
          "name": "stdout"
        }
      ]
    },
    {
      "cell_type": "code",
      "metadata": {
        "id": "57RMRmutS_RC",
        "colab_type": "code",
        "colab": {}
      },
      "source": [
        "from numba import njit, prange, vectorize, float64, jitclass, int32\n",
        "from interpolation import mlinterp, interp\n",
        "from math import gamma\n",
        "import numpy as np\n",
        "import matplotlib.pyplot as plt\n",
        "%matplotlib inline\n",
        "from matplotlib import cm\n",
        "import scipy.optimize as op\n",
        "from scipy.stats import cumfreq, beta"
      ],
      "execution_count": 2,
      "outputs": []
    },
    {
      "cell_type": "markdown",
      "metadata": {
        "id": "X23tvbyIG_z8",
        "colab_type": "text"
      },
      "source": [
        "## Method 1"
      ]
    },
    {
      "cell_type": "code",
      "metadata": {
        "id": "E9NetN4XRbww",
        "colab_type": "code",
        "colab": {}
      },
      "source": [
        "js_data=[('beta', float64),\n",
        "     ('c', float64),\n",
        "     ('w_grids', float64[:]),\n",
        "     ('pi_grids', float64[:]),\n",
        "     ('F_draws', float64[:]),\n",
        "     ('G_draws', float64[:]),\n",
        "     ('F_a', float64),\n",
        "     ('F_b', float64),\n",
        "     ('G_a', float64),\n",
        "     ('G_b', float64),\n",
        "     ('mc_size', int32)\n",
        "    ]\n",
        "\n",
        "@jitclass(js_data)\n",
        "class JSLearningModel:\n",
        "  def __init__(self,beta=0.95,\n",
        "            c=0.3,\n",
        "            F_a=1.0, \n",
        "            F_b=1.0,\n",
        "            G_a=3.0,\n",
        "            G_b=1.2,\n",
        "            mc_size=500,\n",
        "            w_max=1,\n",
        "            grid_size=100,\n",
        "            seed=1234):\n",
        "    \n",
        "    self.beta, self.c = beta, c\n",
        "    self.F_a, self.F_b, self.G_a, self.G_b = F_a, F_b, G_a, G_b\n",
        "    self.mc_size = mc_size\n",
        "    self.w_grids = np.linspace(0, w_max, grid_size)\n",
        "    self.pi_grids = np.linspace(1e-3, 1-1e-3, grid_size)\n",
        "  \n",
        "    np.random.seed(seed)\n",
        "    self.F_draws = np.random.beta(F_a, F_b, size=mc_size)\n",
        "    self.G_draws = np.random.beta(G_a, G_b, size=mc_size)\n",
        "\n",
        "\n",
        "@vectorize\n",
        "def p(x, a, b):\n",
        "  r = gamma(a + b) / (gamma(a) * gamma(b))\n",
        "  return r * x**(a-1) * (1 - x)**(b-1)\n",
        "\n",
        "@njit\n",
        "def compute_weight(w, pi, jsl):\n",
        "  F_a, F_b, G_a, G_b = jsl.F_a, jsl.F_b, jsl.G_a, jsl.G_b\n",
        "  num = pi*p(w, F_a, F_b)\n",
        "  den = num + (1 - pi)*p(w, G_a, G_b)\n",
        "  return num/den\n",
        "\n",
        "@njit(parallel=True)\n",
        "def state_action_value(w, pi, v, jsl):\n",
        "  beta, c = jsl.beta, jsl.c\n",
        "  w_grids, pi_grids = jsl.w_grids, jsl.pi_grids\n",
        "  mc_size, F_draws, G_draws = jsl.mc_size, jsl.F_draws, jsl.G_draws\n",
        "\n",
        "  def V(w, pi):\n",
        "    return mlinterp((w_grids, pi_grids), v, (w, pi))\n",
        "\n",
        "  integralf, integralg = 0, 0\n",
        "  for i in prange(mc_size):\n",
        "    integralf += V(F_draws[i], compute_weight(F_draws[i], pi, jsl))\n",
        "    integralg += V(G_draws[i], compute_weight(G_draws[i], pi, jsl))\n",
        "  integral = (pi*integralf + (1-pi)*integralg)/mc_size\n",
        "\n",
        "  return max(w/(1-beta), c+beta*integral)\n",
        "\n",
        "\n",
        "@njit\n",
        "def T(v, jsl):\n",
        "  w_grids, pi_grids = jsl.w_grids, jsl.pi_grids\n",
        "  Tv = np.empty_like(v)\n",
        "  for i in range(len(w_grids)):\n",
        "    for j in range(len(pi_grids)):\n",
        "      w, pi = w_grids[i], pi_grids[j] \n",
        "      Tv[i, j] = state_action_value(w, pi, v, jsl)\n",
        "  return Tv\n",
        "\n",
        "\n",
        "def compute_value_function(jsl, max_iter=1000, tol=1e-4, verbose=True, print_skip=5):\n",
        "  v = np.zeros((len(jsl.w_grids), len(jsl.pi_grids))) + 10\n",
        "\n",
        "  i = 0\n",
        "  err = 1 + tol\n",
        "  while i < max_iter and err > tol:\n",
        "    Tv = T(v, jsl)\n",
        "    i += 1\n",
        "    err = np.max(np.abs(Tv - v))\n",
        "    v = Tv\n",
        "    if verbose and i%print_skip==0:\n",
        "      print(f'Error is {err} at interation {i}.')\n",
        "    \n",
        "  if i == max_iter:\n",
        "    raise RuntimeError('Iteration failed.')\n",
        "  \n",
        "  if verbose:\n",
        "    print(f'\\nConverged on interation {i}!')\n",
        "\n",
        "  return v\n",
        "\n",
        "@njit\n",
        "def policy(v, jsl):\n",
        "  sigma = np.empty_like(v)\n",
        "  for i, w in enumerate(jsl.w_grids):\n",
        "    v1 = w/(1-jsl.beta)\n",
        "    for j, pi in enumerate(jsl.pi_grids):\n",
        "      v2 = state_action_value(w, pi, v, jsl)\n",
        "      sigma[i, j] = 1 if v1 >= v2 else 0\n",
        "  return sigma"
      ],
      "execution_count": 3,
      "outputs": []
    },
    {
      "cell_type": "code",
      "metadata": {
        "id": "x4IlOGy3S-aE",
        "colab_type": "code",
        "colab": {
          "base_uri": "https://localhost:8080/",
          "height": 185
        },
        "outputId": "0ee175dc-8e4e-407a-ebbc-1b6ce4939983"
      },
      "source": [
        "%%time\n",
        "\n",
        "jsl = JSLearningModel()\n",
        "v = compute_value_function(jsl)"
      ],
      "execution_count": 4,
      "outputs": [
        {
          "output_type": "stream",
          "text": [
            "Error is 0.4615731148518005 at interation 5.\n",
            "Error is 0.07536687871352044 at interation 10.\n",
            "Error is 0.014922773848509152 at interation 15.\n",
            "Error is 0.0030796441720983836 at interation 20.\n",
            "Error is 0.0006357929845268728 at interation 25.\n",
            "Error is 0.00013126401980478875 at interation 30.\n",
            "\n",
            "Converged on interation 31!\n",
            "CPU times: user 4min 28s, sys: 9.49 s, total: 4min 38s\n",
            "Wall time: 2min 31s\n"
          ],
          "name": "stdout"
        }
      ]
    },
    {
      "cell_type": "code",
      "metadata": {
        "id": "U35z5AD0J9I1",
        "colab_type": "code",
        "colab": {
          "base_uri": "https://localhost:8080/",
          "height": 426
        },
        "outputId": "49654471-b39f-434e-e1b1-ed279baae9cf"
      },
      "source": [
        "%%time \n",
        "\n",
        "fig, ax = plt.subplots(figsize=(6, 6))\n",
        "ax.contourf(jsl.pi_grids, jsl.w_grids, v, 12, alpha=0.6, cmap=cm.jet)\n",
        "cs = ax.contour(jsl.pi_grids, jsl.w_grids, v, 12, colors=\"black\")\n",
        "ax.clabel(cs, inline=1, fontsize=10)\n",
        "ax.set(xlabel='$\\pi$', ylabel='$w$');"
      ],
      "execution_count": 5,
      "outputs": [
        {
          "output_type": "stream",
          "text": [
            "CPU times: user 65.1 ms, sys: 14.2 ms, total: 79.3 ms\n",
            "Wall time: 73.1 ms\n"
          ],
          "name": "stdout"
        },
        {
          "output_type": "display_data",
          "data": {
            "image/png": "[encoded data removed]",
            "text/plain": [
              "<Figure size 432x432 with 1 Axes>"
            ]
          },
          "metadata": {
            "tags": [],
            "needs_background": "light"
          }
        }
      ]
    },
    {
      "cell_type": "code",
      "metadata": {
        "id": "YY80PCSMTh5i",
        "colab_type": "code",
        "colab": {
          "base_uri": "https://localhost:8080/",
          "height": 50
        },
        "outputId": "47fc4f62-ea36-4b49-9783-e9de371c86c5"
      },
      "source": [
        "%%time\n",
        "\n",
        "sigma = policy(v, jsl)"
      ],
      "execution_count": 6,
      "outputs": [
        {
          "output_type": "stream",
          "text": [
            "CPU times: user 8.82 s, sys: 274 ms, total: 9.09 s\n",
            "Wall time: 5.04 s\n"
          ],
          "name": "stdout"
        }
      ]
    },
    {
      "cell_type": "code",
      "metadata": {
        "id": "CkTwPGoAVzh2",
        "colab_type": "code",
        "colab": {
          "base_uri": "https://localhost:8080/",
          "height": 392
        },
        "outputId": "935aa92f-b60a-46c3-c28c-dda79c971e45"
      },
      "source": [
        "fig, ax = plt.subplots(figsize=(6, 6))\n",
        "ax.contourf(jsl.pi_grids, jsl.w_grids, sigma, 1, alpha=0.6, cmap=cm.jet)\n",
        "ax.contour(jsl.pi_grids, jsl.w_grids, sigma, 1, colors=\"black\")\n",
        "ax.set(xlabel='$\\pi$', ylabel='$w$')\n",
        "\n",
        "ax.text(0.5, 0.6, 'reject')\n",
        "ax.text(0.7, 0.9, 'accept');"
      ],
      "execution_count": 7,
      "outputs": [
        {
          "output_type": "display_data",
          "data": {
            "image/png": "[encoded data removed]",
            "text/plain": [
              "<Figure size 432x432 with 1 Axes>"
            ]
          },
          "metadata": {
            "tags": [],
            "needs_background": "light"
          }
        }
      ]
    },
    {
      "cell_type": "markdown",
      "metadata": {
        "id": "GRIlTuZFV49C",
        "colab_type": "text"
      },
      "source": [
        "## Method 2"
      ]
    },
    {
      "cell_type": "code",
      "metadata": {
        "id": "xXIVjOMMWlOS",
        "colab_type": "code",
        "colab": {}
      },
      "source": [
        "@njit(parallel=True)\n",
        "def state_action_value2(pi, w, jsl):\n",
        "  c, beta = jsl.c, jsl.beta\n",
        "  mc_size, F_draws, G_draws = jsl.mc_size, jsl.F_draws, jsl.G_draws\n",
        "  pi_grids = jsl.pi_grids\n",
        "\n",
        "  W = lambda pi_: interp(pi_grids, w, pi_)\n",
        "  expected = 0\n",
        "\n",
        "  integralf = integralg = 0\n",
        "  for i in prange(mc_size):\n",
        "    integralf += max(F_draws[i]/(1-beta), W(compute_weight(F_draws[i], pi, jsl))/(1-beta))\n",
        "    integralg += max(G_draws[i]/(1-beta), W(compute_weight(G_draws[i], pi, jsl))/(1-beta))\n",
        "  integral = (pi*integralf + (1-pi)*integralg)/mc_size\n",
        "  return c*(1-beta)+beta*(1-beta)*integral\n",
        "\n",
        "@njit\n",
        "def K(w, jsl):\n",
        "  pi_grids = jsl.pi_grids\n",
        "  Kw = np.empty_like(w)\n",
        "  for i, pi in enumerate(pi_grids):\n",
        "    Kw[i] = state_action_value2(pi, w, jsl)\n",
        "  return Kw\n",
        "\n",
        "def compute_policy(jsl, max_iter=1000, tol=1e-4, verbose=True, print_skip=25):\n",
        "  w = np.copy(jsl.pi_grids)/(1-jsl.beta)\n",
        "  i = 0\n",
        "  err = 1+tol\n",
        "  while i < max_iter and err>tol:\n",
        "    Kw = K(w, jsl)\n",
        "    i += 1\n",
        "    err = np.max(np.abs(Kw-w))\n",
        "    w = Kw\n",
        "    if verbose and i%print_skip==0:\n",
        "      print(f\"Error is {err} on interation {i}.\")\n",
        "  \n",
        "  if i == max_iter:\n",
        "    raise RuntimeError('Iteration failed!')\n",
        "  \n",
        "  if verbose:\n",
        "    print(f'\\nConverged on interation {i}!')\n",
        "  \n",
        "  return w\n",
        "\n",
        "@njit\n",
        "def compute_action(w, jsl):\n",
        "  w_grids, pi_grids = jsl.w_grids, jsl.pi_grids\n",
        "  beta = jsl.beta\n",
        "  action = np.empty((len(w_grids), len(pi_grids)))\n",
        "  w_bar = lambda pi: interp(pi_grids, w, pi)\n",
        "  for i, w_val in enumerate(w_grids):\n",
        "    for j, pi_val in enumerate(pi_grids):\n",
        "      action[i, j] = 1 if w_val > w_bar(pi_val) else 0\n",
        "  return action"
      ],
      "execution_count": 8,
      "outputs": []
    },
    {
      "cell_type": "code",
      "metadata": {
        "id": "0YOoKj8txkvr",
        "colab_type": "code",
        "colab": {
          "base_uri": "https://localhost:8080/",
          "height": 134
        },
        "outputId": "e5a0864d-3a8c-4dd1-b12a-18f1946f956e"
      },
      "source": [
        "%%time\n",
        "jsl2 = JSLearningModel()\n",
        "sigma_policy = compute_policy(jsl2)"
      ],
      "execution_count": 9,
      "outputs": [
        {
          "output_type": "stream",
          "text": [
            "Error is 0.28667623207530113 on interation 25.\n",
            "Error is 0.07886779263553345 on interation 50.\n",
            "Error is 0.005563929784597299 on interation 75.\n",
            "\n",
            "Converged on interation 88!\n",
            "CPU times: user 8.18 s, sys: 245 ms, total: 8.42 s\n",
            "Wall time: 5.68 s\n"
          ],
          "name": "stdout"
        }
      ]
    },
    {
      "cell_type": "code",
      "metadata": {
        "id": "cX0Ym78rxua5",
        "colab_type": "code",
        "colab": {
          "base_uri": "https://localhost:8080/",
          "height": 50
        },
        "outputId": "f6df99f4-8a48-4450-919e-f8f7f6c7c54c"
      },
      "source": [
        "%%time\n",
        "policy2 = compute_action(sigma_policy, jsl2)"
      ],
      "execution_count": 10,
      "outputs": [
        {
          "output_type": "stream",
          "text": [
            "CPU times: user 220 ms, sys: 2.97 ms, total: 223 ms\n",
            "Wall time: 223 ms\n"
          ],
          "name": "stdout"
        }
      ]
    },
    {
      "cell_type": "code",
      "metadata": {
        "id": "TTxLBTcuD73i",
        "colab_type": "code",
        "colab": {
          "base_uri": "https://localhost:8080/",
          "height": 392
        },
        "outputId": "869e24f5-8dfd-46c0-b7c0-21dcbbe0f443"
      },
      "source": [
        "fig, ax = plt.subplots(figsize=(6, 6))\n",
        "ax.contourf(jsl2.pi_grids, jsl2.w_grids, policy2, 1, alpha=0.6, cmap=cm.jet)\n",
        "ax.contour(jsl2.pi_grids, jsl2.w_grids, policy2, 1, colors=\"black\")\n",
        "ax.set(xlabel='$\\pi$', ylabel='$w$')\n",
        "\n",
        "ax.text(0.5, 0.6, 'reject')\n",
        "ax.text(0.7, 0.9, 'accept');"
      ],
      "execution_count": 11,
      "outputs": [
        {
          "output_type": "display_data",
          "data": {
            "image/png": "[encoded data removed]",
            "text/plain": [
              "<Figure size 432x432 with 1 Axes>"
            ]
          },
          "metadata": {
            "tags": [],
            "needs_background": "light"
          }
        }
      ]
    },
    {
      "cell_type": "code",
      "metadata": {
        "id": "J8QcM8YxHWtS",
        "colab_type": "code",
        "colab": {}
      },
      "source": [
        ""
      ],
      "execution_count": 11,
      "outputs": []
    }
  ]
}