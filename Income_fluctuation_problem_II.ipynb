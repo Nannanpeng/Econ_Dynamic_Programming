{
  "nbformat": 4,
  "nbformat_minor": 0,
  "metadata": {
    "colab": {
      "name": "Income_fluctuation_problem_II.ipynb",
      "provenance": [],
      "collapsed_sections": [],
      "authorship_tag": "ABX9TyMfRlnu7xd9n7gbItOIb0ob",
      "include_colab_link": true
    },
    "kernelspec": {
      "name": "python3",
      "display_name": "Python 3"
    }
  },
  "cells": [
    {
      "cell_type": "markdown",
      "metadata": {
        "id": "view-in-github",
        "colab_type": "text"
      },
      "source": [
        "<a href=\"https://colab.research.google.com/github/Nannanpeng/Econ_Dynamic_Programming/blob/master/Income_fluctuation_problem_II.ipynb\" target=\"_parent\"><img src=\"https://colab.research.google.com/assets/colab-badge.svg\" alt=\"Open In Colab\"/></a>"
      ]
    },
    {
      "cell_type": "code",
      "metadata": {
        "id": "Ey9qbt2FSAUx",
        "colab_type": "code",
        "colab": {
          "base_uri": "https://localhost:8080/",
          "height": 353
        },
        "outputId": "fb0add9b-e639-4b74-8142-2842fe92e2e3"
      },
      "source": [
        "!pip install --upgrade quantecon\n",
        "!pip install interpolation"
      ],
      "execution_count": 1,
      "outputs": [
        {
          "output_type": "stream",
          "text": [
            "Requirement already up-to-date: quantecon in /usr/local/lib/python3.6/dist-packages (0.4.8)\n",
            "Requirement already satisfied, skipping upgrade: requests in /usr/local/lib/python3.6/dist-packages (from quantecon) (2.23.0)\n",
            "Requirement already satisfied, skipping upgrade: numpy in /usr/local/lib/python3.6/dist-packages (from quantecon) (1.18.5)\n",
            "Requirement already satisfied, skipping upgrade: numba>=0.38 in /usr/local/lib/python3.6/dist-packages (from quantecon) (0.48.0)\n",
            "Requirement already satisfied, skipping upgrade: scipy>=1.0.0 in /usr/local/lib/python3.6/dist-packages (from quantecon) (1.4.1)\n",
            "Requirement already satisfied, skipping upgrade: sympy in /usr/local/lib/python3.6/dist-packages (from quantecon) (1.1.1)\n",
            "Requirement already satisfied, skipping upgrade: chardet<4,>=3.0.2 in /usr/local/lib/python3.6/dist-packages (from requests->quantecon) (3.0.4)\n",
            "Requirement already satisfied, skipping upgrade: urllib3!=1.25.0,!=1.25.1,<1.26,>=1.21.1 in /usr/local/lib/python3.6/dist-packages (from requests->quantecon) (1.24.3)\n",
            "Requirement already satisfied, skipping upgrade: certifi>=2017.4.17 in /usr/local/lib/python3.6/dist-packages (from requests->quantecon) (2020.6.20)\n",
            "Requirement already satisfied, skipping upgrade: idna<3,>=2.5 in /usr/local/lib/python3.6/dist-packages (from requests->quantecon) (2.9)\n",
            "Requirement already satisfied, skipping upgrade: llvmlite<0.32.0,>=0.31.0dev0 in /usr/local/lib/python3.6/dist-packages (from numba>=0.38->quantecon) (0.31.0)\n",
            "Requirement already satisfied, skipping upgrade: setuptools in /usr/local/lib/python3.6/dist-packages (from numba>=0.38->quantecon) (47.3.1)\n",
            "Requirement already satisfied, skipping upgrade: mpmath>=0.19 in /usr/local/lib/python3.6/dist-packages (from sympy->quantecon) (1.1.0)\n",
            "Requirement already satisfied: interpolation in /usr/local/lib/python3.6/dist-packages (2.1.6)\n",
            "Requirement already satisfied: tempita>=0.5.2 in /usr/local/lib/python3.6/dist-packages (from interpolation) (0.5.2)\n",
            "Requirement already satisfied: scipy>=1.4.1 in /usr/local/lib/python3.6/dist-packages (from interpolation) (1.4.1)\n",
            "Requirement already satisfied: numpy>=1.18.1 in /usr/local/lib/python3.6/dist-packages (from interpolation) (1.18.5)\n",
            "Requirement already satisfied: numba>=0.47 in /usr/local/lib/python3.6/dist-packages (from interpolation) (0.48.0)\n",
            "Requirement already satisfied: llvmlite<0.32.0,>=0.31.0dev0 in /usr/local/lib/python3.6/dist-packages (from numba>=0.47->interpolation) (0.31.0)\n",
            "Requirement already satisfied: setuptools in /usr/local/lib/python3.6/dist-packages (from numba>=0.47->interpolation) (47.3.1)\n"
          ],
          "name": "stdout"
        }
      ]
    },
    {
      "cell_type": "code",
      "metadata": {
        "id": "57RMRmutS_RC",
        "colab_type": "code",
        "colab": {}
      },
      "source": [
        "import numpy as np\n",
        "from quantecon.optimize import brent_max, brentq\n",
        "from interpolation import interp\n",
        "from numba import njit, float64, jitclass, prange\n",
        "import matplotlib.pyplot as plt\n",
        "%matplotlib inline\n",
        "from quantecon import MarkovChain"
      ],
      "execution_count": 2,
      "outputs": []
    },
    {
      "cell_type": "code",
      "metadata": {
        "id": "E9NetN4XRbww",
        "colab_type": "code",
        "colab": {}
      },
      "source": [
        "ifp_data=[('a_r', float64),\n",
        "     ('b_r', float64),\n",
        "     ('a_y', float64),\n",
        "     ('b_y', float64),\n",
        "     ('beta', float64),\n",
        "     ('gamma', float64),\n",
        "     ('P', float64[:,:]),\n",
        "     ('s_grids', float64[:]),\n",
        "     ('eta_draws', float64[:]),\n",
        "     ('zeta_draws', float64[:])\n",
        "    ]\n",
        "\n",
        "@jitclass(ifp_data)\n",
        "class IFPModel2:\n",
        "  def __init__(self, beta=0.96,\n",
        "            gamma=1.5,\n",
        "            P=((0.9, 0.1),\n",
        "             (0.1, 0.9)),\n",
        "            a_r=0.1, \n",
        "            b_r=0.0,\n",
        "            a_y=0.2,\n",
        "            b_y=0.5,\n",
        "            mc_size=50,\n",
        "            grid_min=0,\n",
        "            grid_max=10,\n",
        "            grid_size=100,\n",
        "            seed=1234):\n",
        "    \n",
        "    self.beta, self.gamma = beta, gamma\n",
        "    self.a_r, self.b_r, self.a_y, self.b_y = a_r, b_r, a_y, b_y\n",
        "    self.s_grids = np.linspace(grid_min, grid_max, grid_size)\n",
        "    self.P = np.array(P)\n",
        "    np.random.seed(seed)\n",
        "    self.eta_draws = np.random.randn(mc_size)\n",
        "    self.zeta_draws = np.random.randn(mc_size)\n",
        "\n",
        "    self._check_stability()\n",
        "\n",
        "  def R(self, z, shock):\n",
        "    a_r, b_r = self.a_r, self.b_r\n",
        "    return np.exp(a_r*shock + b_r)\n",
        "  \n",
        "  def Y(self, z, shock):\n",
        "    a_y, b_y = self.a_y, self.b_y\n",
        "    return np.exp(a_y*shock+z*b_y)\n",
        "\n",
        "  def _check_stability(self):\n",
        "    a_r, b_r, beta = self.a_r, self.b_r, self.beta\n",
        "    expected_R = np.exp(b_r + a_r**2/2)\n",
        "    assert beta*expected_R < 1, 'Stability condition is violated!'\n",
        "\n",
        "  def u(self, c):\n",
        "    gamma = self.gamma\n",
        "    return np.log(c) if gamma == 1 else c**(1-gamma)/(1-gamma) \n",
        "  \n",
        "  def u_prime(self, c):\n",
        "    gamma = self.gamma\n",
        "    return 1/c if gamma==1 else c**(-gamma) \n",
        "  \n",
        "  def u_prime_inverse(self, u):\n",
        "    gamma = self.gamma\n",
        "    return 1/u if gamma==1 else u**(-1/gamma)\n",
        "\n",
        "@njit\n",
        "def compute_consumption(s, z, a_grids, sigma, ifp):\n",
        "  R, Y = ifp.R, ifp.Y\n",
        "  u_prime_inverse, beta, P = ifp.u_prime_inverse, ifp.beta, ifp.P\n",
        "  eta_draws, zeta_draws = ifp.eta_draws, ifp.zeta_draws\n",
        "  u_prime = ifp.u_prime\n",
        "\n",
        "  def Sigma(a, z):\n",
        "    return interp(a_grids[:, z], sigma[:, z], a)\n",
        "\n",
        "  expected = 0\n",
        "  for z_hat in range(len(P)):\n",
        "    for zeta in zeta_draws:\n",
        "      R_hat = R(z_hat, zeta)\n",
        "      for eta in eta_draws:\n",
        "        Y_hat = Y(z_hat, eta)\n",
        "        expected += R_hat*u_prime(Sigma(R_hat*s + Y_hat, z_hat))*P[z, z_hat]\n",
        "  expected /= len(zeta_draws)*len(eta_draws)\n",
        "\n",
        "  return u_prime_inverse(beta*expected)\n",
        "\n",
        "\n",
        "@njit\n",
        "def K(sigma, ifp):\n",
        "  s_grids, P = ifp.s_grids, ifp.P\n",
        "  Ksigma = np.empty_like(sigma)\n",
        "  a_grids = np.copy(s_grids).reshape(-1, 1) + sigma\n",
        "  for z in range(len(P)):\n",
        "    for i, s in enumerate(s_grids):\n",
        "      if s < 1e-12:\n",
        "        Ksigma[i, z] = 0\n",
        "      else:\n",
        "        Ksigma[i, z] = compute_consumption(s, z, a_grids, sigma, ifp)\n",
        "  return Ksigma\n",
        "\n",
        "\n",
        "def compute_policy_function(ifp, max_iter=1000, tol=1e-4, verbose=True):\n",
        "  sigma = np.column_stack((ifp.s_grids, ifp.s_grids))\n",
        "\n",
        "  i = 0\n",
        "  err = 1 + tol\n",
        "  while i < max_iter and err > tol:\n",
        "    Ksigma = K(sigma, ifp)\n",
        "    i += 1\n",
        "    err = np.max(np.abs(Ksigma - sigma))\n",
        "    sigma = Ksigma\n",
        "    if verbose and i%25==0:\n",
        "      print(f'Error is {err} at interation {i}.')\n",
        "    \n",
        "  if i == max_iter:\n",
        "    raise RuntimeError('Iteration failed.')\n",
        "  \n",
        "  if verbose:\n",
        "    print(f'\\nConverged on interation {i}!')\n",
        "\n",
        "  return sigma"
      ],
      "execution_count": 3,
      "outputs": []
    },
    {
      "cell_type": "code",
      "metadata": {
        "id": "x4IlOGy3S-aE",
        "colab_type": "code",
        "colab": {
          "base_uri": "https://localhost:8080/",
          "height": 101
        },
        "outputId": "d299408d-53af-45b7-df1f-290d44295a72"
      },
      "source": [
        "%%time\n",
        "\n",
        "ifp = IFPModel2(gamma=1.5, grid_min=0)\n",
        "sigma = compute_policy_function(ifp)"
      ],
      "execution_count": 4,
      "outputs": [
        {
          "output_type": "stream",
          "text": [
            "Error is 0.0016028049918972442 at interation 25.\n",
            "\n",
            "Converged on interation 45!\n",
            "CPU times: user 11.7 s, sys: 24.5 ms, total: 11.7 s\n",
            "Wall time: 11.7 s\n"
          ],
          "name": "stdout"
        }
      ]
    },
    {
      "cell_type": "code",
      "metadata": {
        "id": "jn3rEsZVY1uf",
        "colab_type": "code",
        "colab": {
          "base_uri": "https://localhost:8080/",
          "height": 320
        },
        "outputId": "c18d79b5-7447-44ec-f9f5-963f81b20853"
      },
      "source": [
        "a_grids = ifp.s_grids.reshape(-1, 1) + sigma\n",
        "fig, ax = plt.subplots(1, 1, figsize=(6, 5))\n",
        "for i in range(len(ifp.P)):\n",
        "  ax.plot(a_grids[:, i], sigma[:, i], label=fr'$\\sigma$ when z={i}')\n",
        "ax.legend();"
      ],
      "execution_count": 5,
      "outputs": [
        {
          "output_type": "display_data",
          "data": {
            "image/png": "[encoded data removed]",
            "text/plain": [
              "<Figure size 432x360 with 1 Axes>"
            ]
          },
          "metadata": {
            "tags": [],
            "needs_background": "light"
          }
        }
      ]
    },
    {
      "cell_type": "code",
      "metadata": {
        "id": "RBZNTWcUsA8s",
        "colab_type": "code",
        "colab": {}
      },
      "source": [
        "T = 1_000_000\n",
        "mc = MarkovChain(ifp.P)\n",
        "z_draws = mc.simulate(ts_length=T, random_state=88)\n",
        "\n",
        "@njit\n",
        "def Simulations(ifp, sigma, z_draws, T, a=4):\n",
        "  s_grids, P, R, Y = ifp.s_grids, ifp.P, ifp.R, ifp.Y\n",
        "  asset = np.zeros(T+1)\n",
        "  asset[0] = a\n",
        "  asset_grids = np.copy(s_grids).reshape(-1, 1) + sigma\n",
        "\n",
        "  def Sigma(a, z):\n",
        "    return interp(asset_grids[:, z], sigma[:, z], a)\n",
        "\n",
        "  for i in range(T):\n",
        "    c = Sigma(asset[i], z_draws[i])\n",
        "    eta, zeta = np.random.randn(2)\n",
        "    R_next = R(z_draws[i], zeta)\n",
        "    Y_next = Y(z_draws[i], eta)\n",
        "    asset[i+1] = R_next*(asset[i] - c) + Y_next\n",
        "  \n",
        "  return asset"
      ],
      "execution_count": 6,
      "outputs": []
    },
    {
      "cell_type": "code",
      "metadata": {
        "id": "CSfR8uwYyq6C",
        "colab_type": "code",
        "colab": {
          "base_uri": "https://localhost:8080/",
          "height": 50
        },
        "outputId": "42133e6e-3f5f-4c1a-d75b-aea510c7db1f"
      },
      "source": [
        "%%time\n",
        "\n",
        "asset = Simulations(ifp, sigma, z_draws, T)"
      ],
      "execution_count": 7,
      "outputs": [
        {
          "output_type": "stream",
          "text": [
            "CPU times: user 1.02 s, sys: 5.02 ms, total: 1.02 s\n",
            "Wall time: 1.02 s\n"
          ],
          "name": "stdout"
        }
      ]
    },
    {
      "cell_type": "code",
      "metadata": {
        "id": "fbn9iO3qyyE5",
        "colab_type": "code",
        "colab": {
          "base_uri": "https://localhost:8080/",
          "height": 279
        },
        "outputId": "e763b132-53d4-4c01-8e1b-7e9206df59d2"
      },
      "source": [
        "plt.hist(asset, bins=50, density=True)\n",
        "plt.xlabel('Asset')\n",
        "plt.ylabel('Density');"
      ],
      "execution_count": 8,
      "outputs": [
        {
          "output_type": "display_data",
          "data": {
            "image/png": "[encoded data removed]",
            "text/plain": [
              "<Figure size 432x288 with 1 Axes>"
            ]
          },
          "metadata": {
            "tags": [],
            "needs_background": "light"
          }
        }
      ]
    },
    {
      "cell_type": "code",
      "metadata": {
        "id": "vlDxVGwszBLV",
        "colab_type": "code",
        "colab": {}
      },
      "source": [
        ""
      ],
      "execution_count": 8,
      "outputs": []
    }
  ]
}