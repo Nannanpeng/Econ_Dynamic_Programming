{
  "nbformat": 4,
  "nbformat_minor": 0,
  "metadata": {
    "colab": {
      "name": "inventory_dynamics_exercise.ipynb",
      "provenance": [],
      "authorship_tag": "ABX9TyOoxxtb5wf8vhqzBv01zGek",
      "include_colab_link": true
    },
    "kernelspec": {
      "name": "python3",
      "display_name": "Python 3"
    },
    "accelerator": "GPU"
  },
  "cells": [
    {
      "cell_type": "markdown",
      "metadata": {
        "id": "view-in-github",
        "colab_type": "text"
      },
      "source": [
        "<a href=\"https://colab.research.google.com/github/Nannanpeng/Econ_Dynamic_Programming/blob/master/inventory_dynamics_exercise.ipynb\" target=\"_parent\"><img src=\"https://colab.research.google.com/assets/colab-badge.svg\" alt=\"Open In Colab\"/></a>"
      ]
    },
    {
      "cell_type": "markdown",
      "metadata": {
        "id": "77Apl87lxiUH",
        "colab_type": "text"
      },
      "source": [
        "## Exercise 1"
      ]
    },
    {
      "cell_type": "code",
      "metadata": {
        "id": "t1Oy3mlRchg-",
        "colab_type": "code",
        "colab": {}
      },
      "source": [
        "import numpy as np\n",
        "import matplotlib.pyplot as plt\n",
        "%matplotlib inline\n",
        "from numba import njit, jitclass, float64, prange\n",
        "\n",
        "firm_data = [\n",
        "   ('s', float64),          # restock trigger level\n",
        "   ('S', float64),          # capacity\n",
        "   ('mu', float64),         # shock location parameter\n",
        "   ('sigma', float64)       # shock scale parameter\n",
        "]\n",
        "\n",
        "@jitclass(firm_data)\n",
        "class Firm:\n",
        "\n",
        "    def __init__(self, s=10, S=100, mu=1.0, sigma=0.5):\n",
        "        self.s, self.S, self.mu, self.sigma = s, S, mu, sigma\n",
        "\n",
        "    def update(self, x):\n",
        "        \"Update the state from t to t+1 given current state x.\"\n",
        "        Z = np.random.randn()\n",
        "        D = np.exp(self.mu + self.sigma * Z)\n",
        "        if x <= self.s:\n",
        "            return max(self.S - D, 0)\n",
        "        else:\n",
        "            return max(x - D, 0)\n",
        "\n",
        "    def sim_inventory_path(self, x_init, sim_length):\n",
        "        X = np.empty(sim_length)\n",
        "        X[0] = x_init\n",
        "\n",
        "        for t in range(sim_length-1):\n",
        "            X[t+1] = self.update(X[t])\n",
        "        return X"
      ],
      "execution_count": 2,
      "outputs": []
    },
    {
      "cell_type": "code",
      "metadata": {
        "id": "tt1bmfMIpUIE",
        "colab_type": "code",
        "colab": {}
      },
      "source": [
        "T = [10, 50, 250, 500, 750]\n",
        "n = 50000\n",
        "init_stock = 50\n",
        "\n",
        "firm = Firm()\n",
        "stock_path = []\n",
        "for _ in range(n):\n",
        "  path = firm.sim_inventory_path(init_stock, T[-1]+1)\n",
        "  stock_path.append(path)"
      ],
      "execution_count": 3,
      "outputs": []
    },
    {
      "cell_type": "code",
      "metadata": {
        "id": "XJQQUVaBtYRZ",
        "colab_type": "code",
        "colab": {}
      },
      "source": [
        "T_stock_path = np.array(stock_path)[:, T]"
      ],
      "execution_count": 4,
      "outputs": []
    },
    {
      "cell_type": "code",
      "metadata": {
        "id": "Fwk1drsbunR7",
        "colab_type": "code",
        "colab": {
          "base_uri": "https://localhost:8080/",
          "height": 265
        },
        "outputId": "0f6b8451-fded-4998-a6c7-8109df0cc4f4"
      },
      "source": [
        "from sklearn.neighbors import KernelDensity\n",
        "\n",
        "xmin, xmax = 0.9 * T_stock_path.min(), 1.1 * T_stock_path.max()\n",
        "xgrid = np.linspace(xmin, xmax, 200)\n",
        "for sample, t in zip(T_stock_path.T, T):\n",
        "  kde = KernelDensity(kernel='gaussian').fit(sample.reshape(-1, 1))\n",
        "  log_dens = kde.score_samples(xgrid.reshape(-1, 1))\n",
        "  plt.plot(xgrid, np.exp(log_dens), label=f'$T$ = {t}')\n",
        "plt.legend();"
      ],
      "execution_count": 5,
      "outputs": [
        {
          "output_type": "display_data",
          "data": {
            "image/png": "[encoded data removed]",
            "text/plain": [
              "<Figure size 432x288 with 1 Axes>"
            ]
          },
          "metadata": {
            "tags": [],
            "needs_background": "light"
          }
        }
      ]
    },
    {
      "cell_type": "markdown",
      "metadata": {
        "id": "3V7I5YQWut0u",
        "colab_type": "text"
      },
      "source": [
        "## Exercise 2"
      ]
    },
    {
      "cell_type": "code",
      "metadata": {
        "id": "Qk5epGlVwDLb",
        "colab_type": "code",
        "colab": {
          "base_uri": "https://localhost:8080/",
          "height": 50
        },
        "outputId": "39232fd0-f2d5-4b66-bfc5-46f1be0331f7"
      },
      "source": [
        "%%time\n",
        "\n",
        "init_stock = 70\n",
        "t = 50\n",
        "n = 1000000\n",
        "stock_path = []\n",
        "for _ in range(n):\n",
        "  path = firm.sim_inventory_path(init_stock, t)\n",
        "  stock_path.append(path)"
      ],
      "execution_count": 6,
      "outputs": [
        {
          "output_type": "stream",
          "text": [
            "CPU times: user 8.86 s, sys: 131 ms, total: 8.99 s\n",
            "Wall time: 8.99 s\n"
          ],
          "name": "stdout"
        }
      ]
    },
    {
      "cell_type": "code",
      "metadata": {
        "id": "nYcPw1RnyOAM",
        "colab_type": "code",
        "colab": {}
      },
      "source": [
        "stock_path = np.array(stock_path)\n",
        "\n",
        "total_restock = (stock_path <= firm.s).sum(axis=1)\n",
        "\n",
        "prob_twice_restock = (total_restock == 2).sum()/n"
      ],
      "execution_count": 7,
      "outputs": []
    },
    {
      "cell_type": "code",
      "metadata": {
        "id": "U65ntTzFzYse",
        "colab_type": "code",
        "colab": {
          "base_uri": "https://localhost:8080/",
          "height": 34
        },
        "outputId": "6909622b-8537-4300-a74e-b742125ff156"
      },
      "source": [
        "prob_twice_restock"
      ],
      "execution_count": 8,
      "outputs": [
        {
          "output_type": "execute_result",
          "data": {
            "text/plain": [
              "0.44731"
            ]
          },
          "metadata": {
            "tags": []
          },
          "execution_count": 8
        }
      ]
    },
    {
      "cell_type": "code",
      "metadata": {
        "id": "-KQII7bIze1w",
        "colab_type": "code",
        "colab": {}
      },
      "source": [
        ""
      ],
      "execution_count": 8,
      "outputs": []
    }
  ]
}