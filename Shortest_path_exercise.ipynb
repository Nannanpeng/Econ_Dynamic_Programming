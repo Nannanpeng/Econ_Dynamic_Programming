{
  "nbformat": 4,
  "nbformat_minor": 0,
  "metadata": {
    "colab": {
      "name": "Shortest_path_exercise.ipynb",
      "provenance": [],
      "authorship_tag": "ABX9TyN21u1po4f4PJD0C0jKzwyh",
      "include_colab_link": true
    },
    "kernelspec": {
      "name": "python3",
      "display_name": "Python 3"
    }
  },
  "cells": [
    {
      "cell_type": "markdown",
      "metadata": {
        "id": "view-in-github",
        "colab_type": "text"
      },
      "source": [
        "<a href=\"https://colab.research.google.com/github/Nannanpeng/Econ_Dynamic_Programming/blob/master/Shortest_path_exercise.ipynb\" target=\"_parent\"><img src=\"https://colab.research.google.com/assets/colab-badge.svg\" alt=\"Open In Colab\"/></a>"
      ]
    },
    {
      "cell_type": "markdown",
      "metadata": {
        "id": "mW8hOqq4fGSj",
        "colab_type": "text"
      },
      "source": [
        "## Exercise 1"
      ]
    },
    {
      "cell_type": "code",
      "metadata": {
        "id": "yHkO55qXh33M",
        "colab_type": "code",
        "colab": {}
      },
      "source": [
        "import numpy as np\n",
        "import re"
      ],
      "execution_count": 1,
      "outputs": []
    },
    {
      "cell_type": "code",
      "metadata": {
        "id": "yWiBOuKke0hX",
        "colab_type": "code",
        "colab": {
          "base_uri": "https://localhost:8080/",
          "height": 34
        },
        "outputId": "e7f524f8-d9d1-45d6-b02a-bb851b5e5aac"
      },
      "source": [
        "%%file graph.txt\n",
        "node0, node1 0.04, node8 11.11, node14 72.21\n",
        "node1, node46 1247.25, node6 20.59, node13 64.94\n",
        "node2, node66 54.18, node31 166.80, node45 1561.45\n",
        "node3, node20 133.65, node6 2.06, node11 42.43\n",
        "node4, node75 3706.67, node5 0.73, node7 1.02\n",
        "node5, node45 1382.97, node7 3.33, node11 34.54\n",
        "node6, node31 63.17, node9 0.72, node10 13.10\n",
        "node7, node50 478.14, node9 3.15, node10 5.85\n",
        "node8, node69 577.91, node11 7.45, node12 3.18\n",
        "node9, node70 2454.28, node13 4.42, node20 16.53\n",
        "node10, node89 5352.79, node12 1.87, node16 25.16\n",
        "node11, node94 4961.32, node18 37.55, node20 65.08\n",
        "node12, node84 3914.62, node24 34.32, node28 170.04\n",
        "node13, node60 2135.95, node38 236.33, node40 475.33\n",
        "node14, node67 1878.96, node16 2.70, node24 38.65\n",
        "node15, node91 3597.11, node17 1.01, node18 2.57\n",
        "node16, node36 392.92, node19 3.49, node38 278.71\n",
        "node17, node76 783.29, node22 24.78, node23 26.45\n",
        "node18, node91 3363.17, node23 16.23, node28 55.84\n",
        "node19, node26 20.09, node20 0.24, node28 70.54\n",
        "node20, node98 3523.33, node24 9.81, node33 145.80\n",
        "node21, node56 626.04, node28 36.65, node31 27.06\n",
        "node22, node72 1447.22, node39 136.32, node40 124.22\n",
        "node23, node52 336.73, node26 2.66, node33 22.37\n",
        "node24, node66 875.19, node26 1.80, node28 14.25\n",
        "node25, node70 1343.63, node32 36.58, node35 45.55\n",
        "node26, node47 135.78, node27 0.01, node42 122.00\n",
        "node27, node65 480.55, node35 48.10, node43 246.24\n",
        "node28, node82 2538.18, node34 21.79, node36 15.52\n",
        "node29, node64 635.52, node32 4.22, node33 12.61\n",
        "node30, node98 2616.03, node33 5.61, node35 13.95\n",
        "node31, node98 3350.98, node36 20.44, node44 125.88\n",
        "node32, node97 2613.92, node34 3.33, node35 1.46\n",
        "node33, node81 1854.73, node41 3.23, node47 111.54\n",
        "node34, node73 1075.38, node42 51.52, node48 129.45\n",
        "node35, node52 17.57, node41 2.09, node50 78.81\n",
        "node36, node71 1171.60, node54 101.08, node57 260.46\n",
        "node37, node75 269.97, node38 0.36, node46 80.49\n",
        "node38, node93 2767.85, node40 1.79, node42 8.78\n",
        "node39, node50 39.88, node40 0.95, node41 1.34\n",
        "node40, node75 548.68, node47 28.57, node54 53.46\n",
        "node41, node53 18.23, node46 0.28, node54 162.24\n",
        "node42, node59 141.86, node47 10.08, node72 437.49\n",
        "node43, node98 2984.83, node54 95.06, node60 116.23\n",
        "node44, node91 807.39, node46 1.56, node47 2.14\n",
        "node45, node58 79.93, node47 3.68, node49 15.51\n",
        "node46, node52 22.68, node57 27.50, node67 65.48\n",
        "node47, node50 2.82, node56 49.31, node61 172.64\n",
        "node48, node99 2564.12, node59 34.52, node60 66.44\n",
        "node49, node78 53.79, node50 0.51, node56 10.89\n",
        "node50, node85 251.76, node53 1.38, node55 20.10\n",
        "node51, node98 2110.67, node59 23.67, node60 73.79\n",
        "node52, node94 1471.80, node64 102.41, node66 123.03\n",
        "node53, node72 22.85, node56 4.33, node67 88.35\n",
        "node54, node88 967.59, node59 24.30, node73 238.61\n",
        "node55, node84 86.09, node57 2.13, node64 60.80\n",
        "node56, node76 197.03, node57 0.02, node61 11.06\n",
        "node57, node86 701.09, node58 0.46, node60 7.01\n",
        "node58, node83 556.70, node64 29.85, node65 34.32\n",
        "node59, node90 820.66, node60 0.72, node71 0.67\n",
        "node60, node76 48.03, node65 4.76, node67 1.63\n",
        "node61, node98 1057.59, node63 0.95, node64 4.88\n",
        "node62, node91 132.23, node64 2.94, node76 38.43\n",
        "node63, node66 4.43, node72 70.08, node75 56.34\n",
        "node64, node80 47.73, node65 0.30, node76 11.98\n",
        "node65, node94 594.93, node66 0.64, node73 33.23\n",
        "node66, node98 395.63, node68 2.66, node73 37.53\n",
        "node67, node82 153.53, node68 0.09, node70 0.98\n",
        "node68, node94 232.10, node70 3.35, node71 1.66\n",
        "node69, node99 247.80, node70 0.06, node73 8.99\n",
        "node70, node76 27.18, node72 1.50, node73 8.37\n",
        "node71, node89 104.50, node74 8.86, node91 284.64\n",
        "node72, node76 15.32, node84 102.77, node92 133.06\n",
        "node73, node83 52.22, node76 1.40, node90 243.00\n",
        "node74, node81 1.07, node76 0.52, node78 8.08\n",
        "node75, node92 68.53, node76 0.81, node77 1.19\n",
        "node76, node85 13.18, node77 0.45, node78 2.36\n",
        "node77, node80 8.94, node78 0.98, node86 64.32\n",
        "node78, node98 355.90, node81 2.59\n",
        "node79, node81 0.09, node85 1.45, node91 22.35\n",
        "node80, node92 121.87, node88 28.78, node98 264.34\n",
        "node81, node94 99.78, node89 39.52, node92 99.89\n",
        "node82, node91 47.44, node88 28.05, node93 11.99\n",
        "node83, node94 114.95, node86 8.75, node88 5.78\n",
        "node84, node89 19.14, node94 30.41, node98 121.05\n",
        "node85, node97 94.51, node87 2.66, node89 4.90\n",
        "node86, node97 85.09\n",
        "node87, node88 0.21, node91 11.14, node92 21.23\n",
        "node88, node93 1.31, node91 6.83, node98 6.12\n",
        "node89, node97 36.97, node99 82.12\n",
        "node90, node96 23.53, node94 10.47, node99 50.99\n",
        "node91, node97 22.17\n",
        "node92, node96 10.83, node97 11.24, node99 34.68\n",
        "node93, node94 0.19, node97 6.71, node99 32.77\n",
        "node94, node98 5.91, node96 2.03\n",
        "node95, node98 6.17, node99 0.27\n",
        "node96, node98 3.32, node97 0.43, node99 5.87\n",
        "node97, node98 0.30\n",
        "node98, node99 0.33\n",
        "node99,"
      ],
      "execution_count": 2,
      "outputs": [
        {
          "output_type": "stream",
          "text": [
            "Overwriting graph.txt\n"
          ],
          "name": "stdout"
        }
      ]
    },
    {
      "cell_type": "code",
      "metadata": {
        "id": "DKjotdzlfBx4",
        "colab_type": "code",
        "colab": {}
      },
      "source": [
        "f = open('graph.txt', 'r')\n",
        "lines = f.readlines()\n",
        "f.close()\n",
        "n = len(lines)\n",
        "Q = np.full((n, n), np.inf)\n",
        "eq_v = np.zeros(n)\n",
        "next_v = np.empty(n)\n",
        "n_iter = 300\n",
        "count = 0"
      ],
      "execution_count": 3,
      "outputs": []
    },
    {
      "cell_type": "code",
      "metadata": {
        "id": "T11MXtPOfcF1",
        "colab_type": "code",
        "colab": {}
      },
      "source": [
        "for line in lines:\n",
        "  s_line = line.strip().split(sep=',')\n",
        "  if len(s_line) == 2 and not s_line[1]:\n",
        "    idx = int(re.findall('\\d+', s_line[0])[0])\n",
        "    Q[idx, idx] = 0\n",
        "  else:\n",
        "    row_idx = int(re.findall('\\d+', s_line[0])[0])\n",
        "    for link in s_line[1:]:\n",
        "      s_link = link.split()\n",
        "      col_idx = int(re.findall('\\d+', s_link[0])[0])\n",
        "      Q[row_idx, col_idx] = float(s_link[1])"
      ],
      "execution_count": 4,
      "outputs": []
    },
    {
      "cell_type": "code",
      "metadata": {
        "id": "efAhMqx5lY8L",
        "colab_type": "code",
        "colab": {
          "base_uri": "https://localhost:8080/",
          "height": 34
        },
        "outputId": "fb96c8f8-5c76-4712-f9ca-781a3ae2f1fe"
      },
      "source": [
        "while count <= n_iter:\n",
        "  for i in range(n):\n",
        "    lowest_v = np.min(Q[i, :] + eq_v) \n",
        "    next_v[i] = lowest_v\n",
        "  if np.allclose(next_v, eq_v):\n",
        "    print(f'Covergence is reached at iteration {count}.')\n",
        "    break\n",
        "  else:\n",
        "    eq_v[:] = next_v\n",
        "    count += 1\n",
        "    if count >= n_iter:\n",
        "      print('Too many iterations!')"
      ],
      "execution_count": 5,
      "outputs": [
        {
          "output_type": "stream",
          "text": [
            "Covergence is reached at iteration 25.\n"
          ],
          "name": "stdout"
        }
      ]
    },
    {
      "cell_type": "code",
      "metadata": {
        "id": "Qi1MMnGZrC3Y",
        "colab_type": "code",
        "colab": {
          "base_uri": "https://localhost:8080/",
          "height": 487
        },
        "outputId": "6e632292-94be-44d4-f98a-2a360231eecd"
      },
      "source": [
        "path = 0\n",
        "total_cost = 0\n",
        "print('Optimal path is : \\n###\\n')\n",
        "while path != 99:\n",
        "  all_cost = Q[path, :] + eq_v\n",
        "  next_path = all_cost.argmin()\n",
        "  cost = Q[path, next_path]\n",
        "  print(f\"{path} to {next_path}, cost = {cost}\")\n",
        "  path = next_path\n",
        "  total_cost += cost\n",
        "print(f'\\nTotal_cost = {total_cost}')"
      ],
      "execution_count": 6,
      "outputs": [
        {
          "output_type": "stream",
          "text": [
            "Optimal path is : \n",
            "###\n",
            "\n",
            "0 to 8, cost = 11.11\n",
            "8 to 11, cost = 7.45\n",
            "11 to 18, cost = 37.55\n",
            "18 to 23, cost = 16.23\n",
            "23 to 33, cost = 22.37\n",
            "33 to 41, cost = 3.23\n",
            "41 to 53, cost = 18.23\n",
            "53 to 56, cost = 4.33\n",
            "56 to 57, cost = 0.02\n",
            "57 to 60, cost = 7.01\n",
            "60 to 67, cost = 1.63\n",
            "67 to 70, cost = 0.98\n",
            "70 to 73, cost = 8.37\n",
            "73 to 76, cost = 1.4\n",
            "76 to 85, cost = 13.18\n",
            "85 to 87, cost = 2.66\n",
            "87 to 88, cost = 0.21\n",
            "88 to 93, cost = 1.31\n",
            "93 to 94, cost = 0.19\n",
            "94 to 96, cost = 2.03\n",
            "96 to 97, cost = 0.43\n",
            "97 to 98, cost = 0.3\n",
            "98 to 99, cost = 0.33\n",
            "\n",
            "Total_cost = 160.55000000000007\n"
          ],
          "name": "stdout"
        }
      ]
    },
    {
      "cell_type": "code",
      "metadata": {
        "id": "rVFohTF8sHK4",
        "colab_type": "code",
        "colab": {}
      },
      "source": [
        ""
      ],
      "execution_count": 6,
      "outputs": []
    }
  ]
}