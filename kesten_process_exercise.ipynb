{
  "nbformat": 4,
  "nbformat_minor": 0,
  "metadata": {
    "colab": {
      "name": "kesten_process_exercise.ipynb",
      "provenance": [],
      "authorship_tag": "ABX9TyOyfJZkzZs48rTcdrKvAFAG",
      "include_colab_link": true
    },
    "kernelspec": {
      "name": "python3",
      "display_name": "Python 3"
    }
  },
  "cells": [
    {
      "cell_type": "markdown",
      "metadata": {
        "id": "view-in-github",
        "colab_type": "text"
      },
      "source": [
        "<a href=\"https://colab.research.google.com/github/Nannanpeng/Econ_Dynamic_Programming/blob/master/kesten_process_exercise.ipynb\" target=\"_parent\"><img src=\"https://colab.research.google.com/assets/colab-badge.svg\" alt=\"Open In Colab\"/></a>"
      ]
    },
    {
      "cell_type": "code",
      "metadata": {
        "id": "WDmXlsGkQ1tA",
        "colab_type": "code",
        "colab": {
          "base_uri": "https://localhost:8080/",
          "height": 235
        },
        "outputId": "44110902-42ee-4606-b420-d9891b16ceab"
      },
      "source": [
        "!pip install --upgrade quantecon"
      ],
      "execution_count": 1,
      "outputs": [
        {
          "output_type": "stream",
          "text": [
            "Requirement already up-to-date: quantecon in /usr/local/lib/python3.6/dist-packages (0.4.7)\n",
            "Requirement already satisfied, skipping upgrade: requests in /usr/local/lib/python3.6/dist-packages (from quantecon) (2.23.0)\n",
            "Requirement already satisfied, skipping upgrade: sympy in /usr/local/lib/python3.6/dist-packages (from quantecon) (1.1.1)\n",
            "Requirement already satisfied, skipping upgrade: scipy>=1.0.0 in /usr/local/lib/python3.6/dist-packages (from quantecon) (1.4.1)\n",
            "Requirement already satisfied, skipping upgrade: numpy in /usr/local/lib/python3.6/dist-packages (from quantecon) (1.18.5)\n",
            "Requirement already satisfied, skipping upgrade: numba>=0.38 in /usr/local/lib/python3.6/dist-packages (from quantecon) (0.48.0)\n",
            "Requirement already satisfied, skipping upgrade: certifi>=2017.4.17 in /usr/local/lib/python3.6/dist-packages (from requests->quantecon) (2020.6.20)\n",
            "Requirement already satisfied, skipping upgrade: urllib3!=1.25.0,!=1.25.1,<1.26,>=1.21.1 in /usr/local/lib/python3.6/dist-packages (from requests->quantecon) (1.24.3)\n",
            "Requirement already satisfied, skipping upgrade: idna<3,>=2.5 in /usr/local/lib/python3.6/dist-packages (from requests->quantecon) (2.9)\n",
            "Requirement already satisfied, skipping upgrade: chardet<4,>=3.0.2 in /usr/local/lib/python3.6/dist-packages (from requests->quantecon) (3.0.4)\n",
            "Requirement already satisfied, skipping upgrade: mpmath>=0.19 in /usr/local/lib/python3.6/dist-packages (from sympy->quantecon) (1.1.0)\n",
            "Requirement already satisfied, skipping upgrade: llvmlite<0.32.0,>=0.31.0dev0 in /usr/local/lib/python3.6/dist-packages (from numba>=0.38->quantecon) (0.31.0)\n",
            "Requirement already satisfied, skipping upgrade: setuptools in /usr/local/lib/python3.6/dist-packages (from numba>=0.38->quantecon) (47.3.1)\n"
          ],
          "name": "stdout"
        }
      ]
    },
    {
      "cell_type": "code",
      "metadata": {
        "id": "D5kUW9NfhMZt",
        "colab_type": "code",
        "colab": {}
      },
      "source": [
        "import numpy as np\n",
        "import matplotlib.pyplot as plt\n",
        "from scipy.stats import norm\n",
        "from numba import jit, njit, prange\n",
        "import quantecon as qe"
      ],
      "execution_count": 2,
      "outputs": []
    },
    {
      "cell_type": "markdown",
      "metadata": {
        "id": "Ms_yJk86l5XC",
        "colab_type": "text"
      },
      "source": [
        "## Exercise 1"
      ]
    },
    {
      "cell_type": "code",
      "metadata": {
        "id": "EuvmPC9Mh-Uu",
        "colab_type": "code",
        "colab": {}
      },
      "source": [
        "alpha_0, alpha_1 = 0.00001, 0.1\n",
        "beta, sigma_0 = 0.9, 0\n",
        "years, days = 15, 250"
      ],
      "execution_count": 3,
      "outputs": []
    },
    {
      "cell_type": "code",
      "metadata": {
        "id": "bjWN-yYNhGOh",
        "colab_type": "code",
        "colab": {}
      },
      "source": [
        "sims = []\n",
        "sigma = sigma_0**2\n",
        "for _ in range(years):\n",
        "  for _ in range(days):\n",
        "    xi, zeta = np.random.randn(2)\n",
        "    sigma = alpha_0 + sigma*(alpha_1*xi**2 + beta)\n",
        "    returns = np.sqrt(sigma)*zeta \n",
        "    sims.append(returns)"
      ],
      "execution_count": 4,
      "outputs": []
    },
    {
      "cell_type": "code",
      "metadata": {
        "id": "H9hxYrYAjGoE",
        "colab_type": "code",
        "colab": {
          "base_uri": "https://localhost:8080/",
          "height": 267
        },
        "outputId": "a012028b-c519-4695-b5a2-fa78c023d1e3"
      },
      "source": [
        "plt.plot(sims, label='returns', alpha=0.7)\n",
        "plt.legend();"
      ],
      "execution_count": 5,
      "outputs": [
        {
          "output_type": "display_data",
          "data": {
            "image/png": "[encoded data removed]",
            "text/plain": [
              "<Figure size 432x288 with 1 Axes>"
            ]
          },
          "metadata": {
            "tags": [],
            "needs_background": "light"
          }
        }
      ]
    },
    {
      "cell_type": "markdown",
      "metadata": {
        "id": "mgawh9urljND",
        "colab_type": "text"
      },
      "source": [
        "## Exercise 4"
      ]
    },
    {
      "cell_type": "code",
      "metadata": {
        "id": "Clul7AO9mBcP",
        "colab_type": "code",
        "colab": {}
      },
      "source": [
        "mu_a = -0.5        # location parameter for a\n",
        "sigma_a = 0.1         # scale parameter for a\n",
        "mu_b = 0.0         # location parameter for b\n",
        "sigma_b = 0.5         # scale parameter for b\n",
        "mu_e = 0.0         # location parameter for e\n",
        "sigma_e = 0.5         # scale parameter for e\n",
        "s_bar = 1.0       # threshold\n",
        "T = 500           # sampling date\n",
        "M = 1_000_000    # number of firms\n",
        "s_init = 1.0      # initial condition for each firm"
      ],
      "execution_count": 6,
      "outputs": []
    },
    {
      "cell_type": "code",
      "metadata": {
        "id": "QtadBB0hsuxx",
        "colab_type": "code",
        "colab": {}
      },
      "source": [
        "@njit(parallel=True)\n",
        "def Simulation():\n",
        "  T_path = np.zeros(M)\n",
        "  for m in prange(M):\n",
        "    s = s_init\n",
        "    for _ in range(T):\n",
        "      if s < s_bar:\n",
        "        s = np.exp(mu_e+sigma_e*np.random.randn())\n",
        "      else:\n",
        "        s = np.exp(mu_a+sigma_a*np.random.randn())*s + \\\n",
        "           np.exp(mu_b+sigma_b*np.random.randn())\n",
        "    T_path[m] = s\n",
        "  return T_path"
      ],
      "execution_count": 7,
      "outputs": []
    },
    {
      "cell_type": "code",
      "metadata": {
        "id": "VUiGbqTFwOmH",
        "colab_type": "code",
        "colab": {
          "base_uri": "https://localhost:8080/",
          "height": 50
        },
        "outputId": "2f775fdf-8a6c-4572-fb86-56def134228e"
      },
      "source": [
        "%%time\n",
        "\n",
        "last_path = Simulation()"
      ],
      "execution_count": 8,
      "outputs": [
        {
          "output_type": "stream",
          "text": [
            "CPU times: user 1min 38s, sys: 22.2 ms, total: 1min 38s\n",
            "Wall time: 50.1 s\n"
          ],
          "name": "stdout"
        }
      ]
    },
    {
      "cell_type": "code",
      "metadata": {
        "id": "GOq2Ed9216Ue",
        "colab_type": "code",
        "colab": {}
      },
      "source": [
        "last_path.sort()\n",
        "largest_th_path = last_path[-1000:]"
      ],
      "execution_count": 9,
      "outputs": []
    },
    {
      "cell_type": "code",
      "metadata": {
        "id": "pxlSVZcI22PV",
        "colab_type": "code",
        "colab": {
          "base_uri": "https://localhost:8080/",
          "height": 265
        },
        "outputId": "3b600c9c-4179-4cc6-9b33-fcbb2503dd69"
      },
      "source": [
        "plt.plot(largest_th_path);"
      ],
      "execution_count": 10,
      "outputs": [
        {
          "output_type": "display_data",
          "data": {
            "image/png": "[encoded data removed]",
            "text/plain": [
              "<Figure size 432x288 with 1 Axes>"
            ]
          },
          "metadata": {
            "tags": [],
            "needs_background": "light"
          }
        }
      ]
    },
    {
      "cell_type": "code",
      "metadata": {
        "id": "PRH2sURp4CZP",
        "colab_type": "code",
        "colab": {
          "base_uri": "https://localhost:8080/",
          "height": 283
        },
        "outputId": "18a8456f-5304-40c8-8308-8c07405063d0"
      },
      "source": [
        "fig, ax = plt.subplots()\n",
        "qe.rank_size_plot(last_path, ax, c=0.01)\n",
        "plt.show()"
      ],
      "execution_count": 11,
      "outputs": [
        {
          "output_type": "display_data",
          "data": {
            "image/png": "[encoded data removed]",
            "text/plain": [
              "<Figure size 432x288 with 1 Axes>"
            ]
          },
          "metadata": {
            "tags": [],
            "needs_background": "light"
          }
        }
      ]
    },
    {
      "cell_type": "code",
      "metadata": {
        "id": "kr23LBJB4qFF",
        "colab_type": "code",
        "colab": {}
      },
      "source": [
        ""
      ],
      "execution_count": 11,
      "outputs": []
    }
  ]
}