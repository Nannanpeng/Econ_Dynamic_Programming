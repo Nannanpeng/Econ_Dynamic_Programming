{
  "nbformat": 4,
  "nbformat_minor": 0,
  "metadata": {
    "colab": {
      "name": "Optimal_growth_model_IV_EGM.ipynb",
      "provenance": [],
      "authorship_tag": "ABX9TyO72u47c+0nyhq6hEgiRhGB",
      "include_colab_link": true
    },
    "kernelspec": {
      "name": "python3",
      "display_name": "Python 3"
    }
  },
  "cells": [
    {
      "cell_type": "markdown",
      "metadata": {
        "id": "view-in-github",
        "colab_type": "text"
      },
      "source": [
        "<a href=\"https://colab.research.google.com/github/Nannanpeng/Econ_Dynamic_Programming/blob/master/Optimal_growth_model_IV_EGM.ipynb\" target=\"_parent\"><img src=\"https://colab.research.google.com/assets/colab-badge.svg\" alt=\"Open In Colab\"/></a>"
      ]
    },
    {
      "cell_type": "code",
      "metadata": {
        "id": "Ey9qbt2FSAUx",
        "colab_type": "code",
        "colab": {
          "base_uri": "https://localhost:8080/",
          "height": 353
        },
        "outputId": "d86caf78-dd9d-4270-b2cc-64f35708308a"
      },
      "source": [
        "!pip install --upgrade quantecon\n",
        "!pip install interpolation"
      ],
      "execution_count": 1,
      "outputs": [
        {
          "output_type": "stream",
          "text": [
            "Requirement already up-to-date: quantecon in /usr/local/lib/python3.6/dist-packages (0.4.8)\n",
            "Requirement already satisfied, skipping upgrade: scipy>=1.0.0 in /usr/local/lib/python3.6/dist-packages (from quantecon) (1.4.1)\n",
            "Requirement already satisfied, skipping upgrade: numpy in /usr/local/lib/python3.6/dist-packages (from quantecon) (1.18.5)\n",
            "Requirement already satisfied, skipping upgrade: sympy in /usr/local/lib/python3.6/dist-packages (from quantecon) (1.1.1)\n",
            "Requirement already satisfied, skipping upgrade: numba>=0.38 in /usr/local/lib/python3.6/dist-packages (from quantecon) (0.48.0)\n",
            "Requirement already satisfied, skipping upgrade: requests in /usr/local/lib/python3.6/dist-packages (from quantecon) (2.23.0)\n",
            "Requirement already satisfied, skipping upgrade: mpmath>=0.19 in /usr/local/lib/python3.6/dist-packages (from sympy->quantecon) (1.1.0)\n",
            "Requirement already satisfied, skipping upgrade: llvmlite<0.32.0,>=0.31.0dev0 in /usr/local/lib/python3.6/dist-packages (from numba>=0.38->quantecon) (0.31.0)\n",
            "Requirement already satisfied, skipping upgrade: setuptools in /usr/local/lib/python3.6/dist-packages (from numba>=0.38->quantecon) (47.3.1)\n",
            "Requirement already satisfied, skipping upgrade: urllib3!=1.25.0,!=1.25.1,<1.26,>=1.21.1 in /usr/local/lib/python3.6/dist-packages (from requests->quantecon) (1.24.3)\n",
            "Requirement already satisfied, skipping upgrade: idna<3,>=2.5 in /usr/local/lib/python3.6/dist-packages (from requests->quantecon) (2.9)\n",
            "Requirement already satisfied, skipping upgrade: certifi>=2017.4.17 in /usr/local/lib/python3.6/dist-packages (from requests->quantecon) (2020.6.20)\n",
            "Requirement already satisfied, skipping upgrade: chardet<4,>=3.0.2 in /usr/local/lib/python3.6/dist-packages (from requests->quantecon) (3.0.4)\n",
            "Requirement already satisfied: interpolation in /usr/local/lib/python3.6/dist-packages (2.1.6)\n",
            "Requirement already satisfied: scipy>=1.4.1 in /usr/local/lib/python3.6/dist-packages (from interpolation) (1.4.1)\n",
            "Requirement already satisfied: tempita>=0.5.2 in /usr/local/lib/python3.6/dist-packages (from interpolation) (0.5.2)\n",
            "Requirement already satisfied: numba>=0.47 in /usr/local/lib/python3.6/dist-packages (from interpolation) (0.48.0)\n",
            "Requirement already satisfied: numpy>=1.18.1 in /usr/local/lib/python3.6/dist-packages (from interpolation) (1.18.5)\n",
            "Requirement already satisfied: setuptools in /usr/local/lib/python3.6/dist-packages (from numba>=0.47->interpolation) (47.3.1)\n",
            "Requirement already satisfied: llvmlite<0.32.0,>=0.31.0dev0 in /usr/local/lib/python3.6/dist-packages (from numba>=0.47->interpolation) (0.31.0)\n"
          ],
          "name": "stdout"
        }
      ]
    },
    {
      "cell_type": "code",
      "metadata": {
        "id": "57RMRmutS_RC",
        "colab_type": "code",
        "colab": {}
      },
      "source": [
        "import numpy as np\n",
        "import quantecon as qe\n",
        "import matplotlib.pyplot as plt\n",
        "%matplotlib inline\n",
        "from interpolation import interp\n",
        "from quantecon.optimize import brentq\n",
        "\n",
        "from numba import jit, njit, jitclass, prange, float64, int32\n",
        "import time\n",
        "%matplotlib inline"
      ],
      "execution_count": 2,
      "outputs": []
    },
    {
      "cell_type": "code",
      "metadata": {
        "id": "E9NetN4XRbww",
        "colab_type": "code",
        "colab": {}
      },
      "source": [
        "ogm_data=[('alpha', float64),\n",
        "     ('beta', float64),\n",
        "     ('k_grids', float64[:]),\n",
        "     ('mc_shocks', float64[:]),\n",
        "     ('gamma', float64),\n",
        "     ('mu', float64),\n",
        "     ('s', float64)\n",
        "    ]\n",
        "\n",
        "@jitclass(ogm_data)\n",
        "class OptimalGrowthModel:\n",
        "  def __init__(self, alpha=0.4,\n",
        "             beta=0.96,       \n",
        "             mu=0,          # shock location parameter\n",
        "             s=0.1,        # shock scale parameter\n",
        "             gamma=1.5,\n",
        "             grid_min=1e-4,\n",
        "             grid_max=4,\n",
        "             grid_size=120,\n",
        "             shock_size=250,\n",
        "             seed=1234):\n",
        "    \n",
        "    self.alpha, self.beta = alpha, beta\n",
        "    self.k_grids = np.linspace(grid_min, grid_max, grid_size)\n",
        "    self.mu, self.s = mu, s\n",
        "    np.random.seed(seed)\n",
        "    self.mc_shocks = np.exp(mu + s*np.random.randn(shock_size))\n",
        "    self.gamma = gamma\n",
        "\n",
        "  def u(self, c):\n",
        "    gamma = self.gamma\n",
        "    return np.log(c) if gamma == 1 else c**(1-gamma)/(1-gamma) \n",
        "  \n",
        "  def u_prime(self, c):\n",
        "    gamma = self.gamma\n",
        "    return 1/c if gamma==1 else c**(-gamma) \n",
        "  \n",
        "  def u_prime_inverse(self, u):\n",
        "    gamma = self.gamma\n",
        "    return 1/u if gamma==1 else u**(-1/gamma)\n",
        "  \n",
        "  def f(self, k):\n",
        "    return k**self.alpha\n",
        "  \n",
        "  def f_prime(self, k):\n",
        "    alpha = self.alpha\n",
        "    return alpha*k**(alpha-1)\n",
        "  \n",
        "\n",
        "@njit\n",
        "def compute_consumption(k, y_grids, sigma, ogm):\n",
        "  u_prime, u_prime_inverse, f, beta, z, f_prime = ogm.u_prime, ogm.u_prime_inverse, ogm.f, ogm.beta, ogm.mc_shocks, ogm.f_prime\n",
        "  fun_sigma = lambda x: interp(y_grids, sigma, x)\n",
        "  fv = u_prime(fun_sigma(f(k)*z))*f_prime(k)*z\n",
        "  c = u_prime_inverse(beta*fv.mean())\n",
        "  return c\n",
        "\n",
        "\n",
        "@njit(parallel=True)\n",
        "def K(sigma, ogm):\n",
        "  Ksigma = np.empty_like(sigma)\n",
        "  y_grids = ogm.k_grids + sigma\n",
        "  for i in prange(len(ogm.k_grids)):\n",
        "    val = ogm.k_grids[i]\n",
        "    if val < 1e-12:\n",
        "      Ksigma[i] = 0\n",
        "    else:\n",
        "      Ksigma[i] = compute_consumption(val, y_grids, sigma, ogm)\n",
        "  return Ksigma\n",
        "\n",
        "\n",
        "def compute_policy_function(ogm, max_iter=500, tol=1e-6, verbose=True):\n",
        "  sigma = np.copy(ogm.k_grids)\n",
        "\n",
        "  i = 0\n",
        "  err = 1 + tol\n",
        "\n",
        "  while i < max_iter and err > tol:\n",
        "    Ksigma = K(sigma, ogm)\n",
        "    i += 1\n",
        "    err = np.max(np.abs(Ksigma - sigma))\n",
        "    sigma = Ksigma\n",
        "    if verbose and i%25==0:\n",
        "      print(f'Error is {err} at interation {i}.')\n",
        "    \n",
        "  if i == max_iter:\n",
        "    raise RuntimeError('Iteration failed.')\n",
        "  \n",
        "  if verbose:\n",
        "    print(f'\\nConverged on interation {i}!')\n",
        "\n",
        "  return sigma"
      ],
      "execution_count": 3,
      "outputs": []
    },
    {
      "cell_type": "code",
      "metadata": {
        "id": "x4IlOGy3S-aE",
        "colab_type": "code",
        "colab": {
          "base_uri": "https://localhost:8080/",
          "height": 84
        },
        "outputId": "190ab811-6830-4d89-fcc6-874b0d021470"
      },
      "source": [
        "%%time\n",
        "\n",
        "ogm = OptimalGrowthModel(gamma=1, grid_min=0)\n",
        "sigma = compute_policy_function(ogm)"
      ],
      "execution_count": 7,
      "outputs": [
        {
          "output_type": "stream",
          "text": [
            "\n",
            "Converged on interation 17!\n",
            "CPU times: user 40.3 ms, sys: 1.07 ms, total: 41.4 ms\n",
            "Wall time: 48.7 ms\n"
          ],
          "name": "stdout"
        }
      ]
    },
    {
      "cell_type": "code",
      "metadata": {
        "id": "bCEymOyRiTiW",
        "colab_type": "code",
        "colab": {}
      },
      "source": [
        "def v_star(y, ogm):\n",
        "  alpha, beta, mu = ogm.alpha, ogm.beta, ogm.mu\n",
        "  left = np.log(1-alpha*beta)/(1-beta)\n",
        "  middle = (mu+alpha*np.log(alpha*beta))/(1-alpha)*(1/(1-beta) - 1/(1-alpha*beta))\n",
        "  right = np.log(y)/(1-alpha*beta)\n",
        "  return left + middle + right\n",
        "\n",
        "def sigma_star(y, ogm):\n",
        "  alpha, beta = ogm.alpha, ogm.beta\n",
        "  return (1-alpha*beta)*y"
      ],
      "execution_count": 5,
      "outputs": []
    },
    {
      "cell_type": "code",
      "metadata": {
        "id": "jn3rEsZVY1uf",
        "colab_type": "code",
        "colab": {
          "base_uri": "https://localhost:8080/",
          "height": 320
        },
        "outputId": "a76798ef-0b67-4452-c995-ff4f88c09938"
      },
      "source": [
        "y_grids = sigma + ogm.k_grids\n",
        "fig, ax = plt.subplots(1, 1, figsize=(6, 5))\n",
        "ax.plot(y_grids, sigma, label='Simulation')\n",
        "ax.plot(y_grids, sigma_star(y_grids, ogm), 'r--', label='Real')\n",
        "ax.legend();"
      ],
      "execution_count": 6,
      "outputs": [
        {
          "output_type": "display_data",
          "data": {
            "image/png": "[encoded data removed]",
            "text/plain": [
              "<Figure size 432x360 with 1 Axes>"
            ]
          },
          "metadata": {
            "tags": [],
            "needs_background": "light"
          }
        }
      ]
    }
  ]
}