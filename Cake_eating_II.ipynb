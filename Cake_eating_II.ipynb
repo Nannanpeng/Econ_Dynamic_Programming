{
  "nbformat": 4,
  "nbformat_minor": 0,
  "metadata": {
    "colab": {
      "name": "Cake_eating_II.ipynb",
      "provenance": [],
      "authorship_tag": "ABX9TyNsqUetlXVvuvPsvMfd7X3l",
      "include_colab_link": true
    },
    "kernelspec": {
      "name": "python3",
      "display_name": "Python 3"
    }
  },
  "cells": [
    {
      "cell_type": "markdown",
      "metadata": {
        "id": "view-in-github",
        "colab_type": "text"
      },
      "source": [
        "<a href=\"https://colab.research.google.com/github/Nannanpeng/Econ_Dynamic_Programming/blob/master/Cake_eating_II.ipynb\" target=\"_parent\"><img src=\"https://colab.research.google.com/assets/colab-badge.svg\" alt=\"Open In Colab\"/></a>"
      ]
    },
    {
      "cell_type": "code",
      "metadata": {
        "id": "u5M90BegPMv0",
        "colab_type": "code",
        "colab": {
          "base_uri": "https://localhost:8080/",
          "height": 134
        },
        "outputId": "55461bb8-696b-49f4-84a7-1a79662acbd2"
      },
      "source": [
        "!pip install interpolation"
      ],
      "execution_count": 1,
      "outputs": [
        {
          "output_type": "stream",
          "text": [
            "Requirement already satisfied: interpolation in /usr/local/lib/python3.6/dist-packages (2.1.6)\n",
            "Requirement already satisfied: scipy>=1.4.1 in /usr/local/lib/python3.6/dist-packages (from interpolation) (1.4.1)\n",
            "Requirement already satisfied: tempita>=0.5.2 in /usr/local/lib/python3.6/dist-packages (from interpolation) (0.5.2)\n",
            "Requirement already satisfied: numpy>=1.18.1 in /usr/local/lib/python3.6/dist-packages (from interpolation) (1.18.5)\n",
            "Requirement already satisfied: numba>=0.47 in /usr/local/lib/python3.6/dist-packages (from interpolation) (0.48.0)\n",
            "Requirement already satisfied: setuptools in /usr/local/lib/python3.6/dist-packages (from numba>=0.47->interpolation) (47.3.1)\n",
            "Requirement already satisfied: llvmlite<0.32.0,>=0.31.0dev0 in /usr/local/lib/python3.6/dist-packages (from numba>=0.47->interpolation) (0.31.0)\n"
          ],
          "name": "stdout"
        }
      ]
    },
    {
      "cell_type": "code",
      "metadata": {
        "id": "NDBsM7k5PXgD",
        "colab_type": "code",
        "colab": {}
      },
      "source": [
        "import numpy as np\n",
        "import matplotlib.pyplot as plt\n",
        "%matplotlib inline\n",
        "\n",
        "from interpolation import interp\n",
        "from scipy.optimize import minimize_scalar, bisect\n",
        "from numba import jit, njit"
      ],
      "execution_count": 2,
      "outputs": []
    },
    {
      "cell_type": "markdown",
      "metadata": {
        "id": "FRp-OklcxUs2",
        "colab_type": "text"
      },
      "source": [
        "## Method 1: Value Function Iteration"
      ]
    },
    {
      "cell_type": "code",
      "metadata": {
        "id": "tb2iTcXTPX6-",
        "colab_type": "code",
        "colab": {}
      },
      "source": [
        "class CakeEating:\n",
        "  def __init__(self, gamma, beta, x_0, x_low=1e-3, num_grids=50):\n",
        "    self.gamma = gamma\n",
        "    self.beta = beta\n",
        "    self.x_grids = np.linspace(x_low, x_0, num_grids)\n",
        "\n",
        "  def utility(self, c):\n",
        "    gamma = self.gamma\n",
        "    return c**(1-gamma)/(1-gamma) if self.gamma != 1 else np.log(c)\n",
        "\n",
        "  def utility_prime(self, c):\n",
        "    return c**(-self.gamma) if self.gamma != 1 else 1/c\n",
        "\n",
        "  def value_fun(self, v, x):\n",
        "    return interp(self.x_grids, v, x)\n",
        "\n",
        "  def find_best_c(self, v, x):\n",
        "    fun_c = lambda c: -(self.utility(c) + self.beta*self.value_fun(v, x-c))\n",
        "    res = minimize_scalar(fun_c, bounds=(0, x), method='Bounded')\n",
        "    return res.x, -res.fun\n",
        "  \n",
        "  def T(self, v):\n",
        "    Tv = np.empty_like(v)\n",
        "    for i, x in enumerate(self.x_grids):\n",
        "      _, new_v = self.find_best_c(v, x)\n",
        "      Tv[i] = new_v\n",
        "    return Tv\n",
        "  \n",
        "  def fit(self, max_iter=500, tol=1e-5, verbose=True):\n",
        "    v = np.ones_like(self.x_grids)\n",
        "    i = 1\n",
        "    err = tol + 1\n",
        "    while i < max_iter and err > tol:\n",
        "      Tv = self.T(v)\n",
        "      err = np.max(np.abs(Tv - v))\n",
        "\n",
        "      if err >= tol:\n",
        "        v[:] = Tv\n",
        "      i += 1\n",
        "\n",
        "      if verbose and i%25 == 0:\n",
        "        print(f'Error is {err} at iteration {i}')\n",
        "\n",
        "    if i == max_iter:\n",
        "      raise ValueError('Iteration failed!')\n",
        "\n",
        "    if verbose:\n",
        "      print(f'\\nConverged on iteration {i}.')\n",
        "\n",
        "    return v\n",
        "\n",
        "  def OptimalPolicy(self, v):\n",
        "    policy = np.empty_like(self.x_grids)\n",
        "    for i, x in enumerate(self.x_grids):\n",
        "      c, _ = self.find_best_c(v, x)\n",
        "      policy[i] = c\n",
        "    return policy"
      ],
      "execution_count": 3,
      "outputs": []
    },
    {
      "cell_type": "code",
      "metadata": {
        "id": "q7SKVM5KXQbu",
        "colab_type": "code",
        "colab": {
          "base_uri": "https://localhost:8080/",
          "height": 302
        },
        "outputId": "77f57159-eecd-42bd-d6c1-c3105261288a"
      },
      "source": [
        "ce = CakeEating(gamma=1.5, beta=0.96, x_0=2.5, num_grids=120)\n",
        "v = ce.fit()\n",
        "policy = ce.OptimalPolicy(v)"
      ],
      "execution_count": 4,
      "outputs": [
        {
          "output_type": "stream",
          "text": [
            "Error is 24.807700055284045 at iteration 25\n",
            "Error is 8.94061365272296 at iteration 50\n",
            "Error is 3.222167807137339 at iteration 75\n",
            "Error is 1.1612586988578641 at iteration 100\n",
            "Error is 0.41851382249114977 at iteration 125\n",
            "Error is 0.1508310075855661 at iteration 150\n",
            "Error is 0.05435899993426574 at iteration 175\n",
            "Error is 0.01959080510800959 at iteration 200\n",
            "Error is 0.007060461841547294 at iteration 225\n",
            "Error is 0.002544567267364073 at iteration 250\n",
            "Error is 0.0009170536892497694 at iteration 275\n",
            "Error is 0.0003305031389118085 at iteration 300\n",
            "Error is 0.00011911224635241524 at iteration 325\n",
            "Error is 4.292766266189574e-05 at iteration 350\n",
            "Error is 1.547098889886911e-05 at iteration 375\n",
            "\n",
            "Converged on iteration 386.\n"
          ],
          "name": "stdout"
        }
      ]
    },
    {
      "cell_type": "code",
      "metadata": {
        "id": "OJc7d6TsgDlX",
        "colab_type": "code",
        "colab": {}
      },
      "source": [
        "def c_star(x, beta=ce.beta, gamma=ce.gamma):\n",
        "    return (1 - beta ** (1/gamma)) * x\n",
        "\n",
        "\n",
        "def v_star(x, beta=ce.beta, gamma=ce.gamma):\n",
        "\n",
        "    return (1 - beta**(1 / gamma))**(-gamma) * (x**(1-gamma) / (1-gamma))"
      ],
      "execution_count": 5,
      "outputs": []
    },
    {
      "cell_type": "code",
      "metadata": {
        "id": "MqS1RZU0XuP7",
        "colab_type": "code",
        "colab": {
          "base_uri": "https://localhost:8080/",
          "height": 621
        },
        "outputId": "7940d57f-c740-48c8-b679-2d9197da7e89"
      },
      "source": [
        "fig, axes = plt.subplots(2, 1, figsize=(6, 10))\n",
        "for vals, ax, title in zip([v, policy], axes.flatten(), ['Value function', 'Policy function']):\n",
        "  ax.plot(ce.x_grids, vals, label='Simulation')\n",
        "  ax.set(title=title)\n",
        "axes[0].plot(ce.x_grids, v_star(ce.x_grids), label='Real VF')\n",
        "axes[1].plot(ce.x_grids, c_star(ce.x_grids), label='Real PF')\n",
        "axes[1].set(xlabel='$x$')\n",
        "axes[0].legend()\n",
        "axes[1].legend();"
      ],
      "execution_count": 6,
      "outputs": [
        {
          "output_type": "display_data",
          "data": {
            "image/png": "[encoded data removed]",
            "text/plain": [
              "<Figure size 432x720 with 2 Axes>"
            ]
          },
          "metadata": {
            "tags": [],
            "needs_background": "light"
          }
        }
      ]
    },
    {
      "cell_type": "markdown",
      "metadata": {
        "id": "UX4r3SPxfefJ",
        "colab_type": "text"
      },
      "source": [
        "## Method 2: Time Iteration"
      ]
    },
    {
      "cell_type": "code",
      "metadata": {
        "id": "R7eXfQfLxeiU",
        "colab_type": "code",
        "colab": {}
      },
      "source": [
        "def compute_time_iteration(ce, max_iter=500, verbose=True, tol=1e-5):\n",
        "  x_grids, u_prime, beta = ce.x_grids, ce.utility_prime, ce.beta\n",
        "\n",
        "  def policy(sigmas, x):\n",
        "    return interp(x_grids, sigmas, x)\n",
        "  \n",
        "  def find_root(sigmas, x):\n",
        "    fun_c = lambda c: u_prime(c) - beta*u_prime(policy(sigmas, x-c))\n",
        "    if x < 1e-12:\n",
        "      c = 0\n",
        "    else:\n",
        "      c = bisect(fun_c, 1e-10, x-1e-10)\n",
        "    return c\n",
        "  \n",
        "  def update_sigmas(sigmas):\n",
        "    new_sigmas = np.empty_like(sigmas)\n",
        "    for i, val in enumerate(x_grids):\n",
        "      new_sigmas[i] = find_root(sigmas, val)\n",
        "    return new_sigmas\n",
        "  \n",
        "  def compute_eq():\n",
        "    sigmas = np.copy(x_grids)\n",
        "    err = 1+tol\n",
        "    i = 0\n",
        "    while i < max_iter and err > tol:\n",
        "      Tsigmas = update_sigmas(sigmas)\n",
        "      i += 1\n",
        "      err = np.max(np.abs(Tsigmas - sigmas))\n",
        "    \n",
        "      if verbose and i%25==0:\n",
        "        print(f\"Error is {err} at iteration {i}.\")\n",
        "\n",
        "      if err > tol:\n",
        "        sigmas = Tsigmas\n",
        "      \n",
        "    if i == max_iter:\n",
        "      raise ValueError('Iteration failed!')\n",
        "\n",
        "    if verbose:\n",
        "      print(f'\\nConverged on iteration {i}!')\n",
        "\n",
        "    return sigmas\n",
        "  \n",
        "  return compute_eq()\n",
        "      "
      ],
      "execution_count": 7,
      "outputs": []
    },
    {
      "cell_type": "code",
      "metadata": {
        "id": "-VIgDM4k-CcV",
        "colab_type": "code",
        "colab": {
          "base_uri": "https://localhost:8080/",
          "height": 168
        },
        "outputId": "e6c5f892-b424-4fe7-f528-f3591b27aeb6"
      },
      "source": [
        "ce = CakeEating(gamma=1.5, beta=0.96, x_0=2.5, num_grids=120, x_low=0)\n",
        "sigmas = compute_time_iteration(ce)"
      ],
      "execution_count": 8,
      "outputs": [
        {
          "output_type": "stream",
          "text": [
            "Error is 0.0036456675931543225 at iteration 25.\n",
            "Error is 0.0008283185047067848 at iteration 50.\n",
            "Error is 0.00030791132300957147 at iteration 75.\n",
            "Error is 0.00013555502390599772 at iteration 100.\n",
            "Error is 6.417740905302616e-05 at iteration 125.\n",
            "Error is 3.1438019047758115e-05 at iteration 150.\n",
            "Error is 1.5658492883291464e-05 at iteration 175.\n",
            "\n",
            "Converged on iteration 192!\n"
          ],
          "name": "stdout"
        }
      ]
    },
    {
      "cell_type": "code",
      "metadata": {
        "id": "Ljl0M5KfmrIB",
        "colab_type": "code",
        "colab": {
          "base_uri": "https://localhost:8080/",
          "height": 267
        },
        "outputId": "8555ee5a-ddd6-4616-ed09-bcdba4e3ce66"
      },
      "source": [
        "plt.plot(ce.x_grids, sigmas, label='Time iteration')\n",
        "plt.plot(ce.x_grids, c_star(ce.x_grids), label='Real PF')\n",
        "plt.legend();"
      ],
      "execution_count": 9,
      "outputs": [
        {
          "output_type": "display_data",
          "data": {
            "image/png": "[encoded data removed]",
            "text/plain": [
              "<Figure size 432x288 with 1 Axes>"
            ]
          },
          "metadata": {
            "tags": [],
            "needs_background": "light"
          }
        }
      ]
    },
    {
      "cell_type": "markdown",
      "metadata": {
        "id": "RRSJISd9pTYT",
        "colab_type": "text"
      },
      "source": [
        "## Exercise 1"
      ]
    },
    {
      "cell_type": "code",
      "metadata": {
        "id": "EaG2JxBJpeu4",
        "colab_type": "code",
        "colab": {}
      },
      "source": [
        "class CakeEating2(CakeEating):\n",
        "  def __init__(self, alpha, gamma, beta, x_0, x_low=1e-3, num_grids=50):\n",
        "    super().__init__(gamma, beta, x_0, x_low, num_grids)\n",
        "    self.alpha = alpha\n",
        "\n",
        "  def find_best_c(self, v, x):\n",
        "    utility, value_fun, alpha, beta = self.utility, self.value_fun, self.alpha, self.beta\n",
        "    fun_c = lambda c: -(utility(c) + beta*value_fun(v, (x-c)**alpha))\n",
        "    res = minimize_scalar(fun_c, bounds=(0, x), method='Bounded')\n",
        "    return res.x, -res.fun"
      ],
      "execution_count": 10,
      "outputs": []
    },
    {
      "cell_type": "code",
      "metadata": {
        "id": "Aq3tzn1vq1Sd",
        "colab_type": "code",
        "colab": {
          "base_uri": "https://localhost:8080/",
          "height": 252
        },
        "outputId": "53990f22-9ed7-4009-faee-b73c196fcfb7"
      },
      "source": [
        "ce2 = CakeEating2(gamma=1.5, beta=0.96, x_0=2.5, num_grids=120, alpha=0.4)\n",
        "v = ce2.fit()"
      ],
      "execution_count": 11,
      "outputs": [
        {
          "output_type": "stream",
          "text": [
            "Error is 1.400854253641974 at iteration 25\n",
            "Error is 0.5048632739194403 at iteration 50\n",
            "Error is 0.18195106638273728 at iteration 75\n",
            "Error is 0.06557456695351505 at iteration 100\n",
            "Error is 0.023632858639587084 at iteration 125\n",
            "Error is 0.0085172046638462 at iteration 150\n",
            "Error is 0.0030695725979512645 at iteration 175\n",
            "Error is 0.001106263886597958 at iteration 200\n",
            "Error is 0.00039869387271096457 at iteration 225\n",
            "Error is 0.0001436879632876753 at iteration 250\n",
            "Error is 5.1784670432653e-05 at iteration 275\n",
            "Error is 1.8663025386445042e-05 at iteration 300\n",
            "\n",
            "Converged on iteration 316.\n"
          ],
          "name": "stdout"
        }
      ]
    },
    {
      "cell_type": "code",
      "metadata": {
        "id": "sjPTSTK5wFRx",
        "colab_type": "code",
        "colab": {
          "base_uri": "https://localhost:8080/",
          "height": 279
        },
        "outputId": "4def9d80-df35-4353-bce2-16d0bd455495"
      },
      "source": [
        "plt.plot(ce2.x_grids, v, label='Value function')\n",
        "plt.xlabel('$x$')\n",
        "plt.legend();"
      ],
      "execution_count": 12,
      "outputs": [
        {
          "output_type": "display_data",
          "data": {
            "image/png": "[encoded data removed]",
            "text/plain": [
              "<Figure size 432x288 with 1 Axes>"
            ]
          },
          "metadata": {
            "tags": [],
            "needs_background": "light"
          }
        }
      ]
    },
    {
      "cell_type": "code",
      "metadata": {
        "id": "NXt0mIs1wgTe",
        "colab_type": "code",
        "colab": {
          "base_uri": "https://localhost:8080/",
          "height": 302
        },
        "outputId": "b78dd0e8-8764-4fda-fc96-359f4bafb527"
      },
      "source": [
        "policy2 = ce2.OptimalPolicy(v)\n",
        "ce3 = CakeEating2(gamma=1.5, beta=0.96, x_0=2.5, num_grids=120, alpha=0.99)\n",
        "v = ce3.fit()\n",
        "policy3 = ce3.OptimalPolicy(v)"
      ],
      "execution_count": 13,
      "outputs": [
        {
          "output_type": "stream",
          "text": [
            "Error is 24.807700055284045 at iteration 25\n",
            "Error is 8.94061365272296 at iteration 50\n",
            "Error is 3.222167807137339 at iteration 75\n",
            "Error is 1.1612586988578641 at iteration 100\n",
            "Error is 0.41851382249114977 at iteration 125\n",
            "Error is 0.1508310075855661 at iteration 150\n",
            "Error is 0.05435899993426574 at iteration 175\n",
            "Error is 0.01959080510800959 at iteration 200\n",
            "Error is 0.007060461841547294 at iteration 225\n",
            "Error is 0.002544567267250386 at iteration 250\n",
            "Error is 0.0009197057067353853 at iteration 275\n",
            "Error is 0.0003326430237962086 at iteration 300\n",
            "Error is 0.00012202238895042683 at iteration 325\n",
            "Error is 4.470395094813284e-05 at iteration 350\n",
            "Error is 1.8385580403901258e-05 at iteration 375\n",
            "\n",
            "Converged on iteration 389.\n"
          ],
          "name": "stdout"
        }
      ]
    },
    {
      "cell_type": "code",
      "metadata": {
        "id": "PscRjbAqyZQN",
        "colab_type": "code",
        "colab": {
          "base_uri": "https://localhost:8080/",
          "height": 265
        },
        "outputId": "2354e2a0-015f-40c1-851b-f1d8daf93324"
      },
      "source": [
        "for vals, alpha in zip([policy2, policy3], [0.4, 1]):\n",
        "  plt.plot(ce3.x_grids, vals, label=fr'$\\alpha$={alpha}')\n",
        "plt.legend();"
      ],
      "execution_count": 14,
      "outputs": [
        {
          "output_type": "display_data",
          "data": {
            "image/png": "[encoded data removed]",
            "text/plain": [
              "<Figure size 432x288 with 1 Axes>"
            ]
          },
          "metadata": {
            "tags": [],
            "needs_background": "light"
          }
        }
      ]
    },
    {
      "cell_type": "code",
      "metadata": {
        "id": "hdr1yLRCzA8W",
        "colab_type": "code",
        "colab": {}
      },
      "source": [
        ""
      ],
      "execution_count": 14,
      "outputs": []
    }
  ]
}