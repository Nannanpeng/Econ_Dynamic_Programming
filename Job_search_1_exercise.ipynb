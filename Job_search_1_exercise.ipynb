{
  "nbformat": 4,
  "nbformat_minor": 0,
  "metadata": {
    "colab": {
      "name": "Job_search_1_exercise.ipynb",
      "provenance": [],
      "authorship_tag": "ABX9TyNjSIl6JvXLRKdbuJcVqAaR",
      "include_colab_link": true
    },
    "kernelspec": {
      "name": "python3",
      "display_name": "Python 3"
    }
  },
  "cells": [
    {
      "cell_type": "markdown",
      "metadata": {
        "id": "view-in-github",
        "colab_type": "text"
      },
      "source": [
        "<a href=\"https://colab.research.google.com/github/Nannanpeng/Econ_Dynamic_Programming/blob/master/Job_search_1_exercise.ipynb\" target=\"_parent\"><img src=\"https://colab.research.google.com/assets/colab-badge.svg\" alt=\"Open In Colab\"/></a>"
      ]
    },
    {
      "cell_type": "code",
      "metadata": {
        "id": "zlomI-FcKyKz",
        "colab_type": "code",
        "colab": {
          "base_uri": "https://localhost:8080/",
          "height": 302
        },
        "outputId": "8b542b30-fe43-4fac-831b-5f037d98a725"
      },
      "source": [
        "!pip install --upgrade quantecon"
      ],
      "execution_count": 1,
      "outputs": [
        {
          "output_type": "stream",
          "text": [
            "Collecting quantecon\n",
            "\u001b[?25l  Downloading https://files.pythonhosted.org/packages/5d/e3/4fd5f948de917036b5696347b28fa25da7bd7df995e4f9f42db1c3070eb8/quantecon-0.4.8-py3-none-any.whl (230kB)\n",
            "\r\u001b[K     |█▍                              | 10kB 18.8MB/s eta 0:00:01\r\u001b[K     |██▉                             | 20kB 1.7MB/s eta 0:00:01\r\u001b[K     |████▎                           | 30kB 2.3MB/s eta 0:00:01\r\u001b[K     |█████▊                          | 40kB 2.6MB/s eta 0:00:01\r\u001b[K     |███████▏                        | 51kB 2.0MB/s eta 0:00:01\r\u001b[K     |████████▌                       | 61kB 2.3MB/s eta 0:00:01\r\u001b[K     |██████████                      | 71kB 2.5MB/s eta 0:00:01\r\u001b[K     |███████████▍                    | 81kB 2.7MB/s eta 0:00:01\r\u001b[K     |████████████▉                   | 92kB 2.9MB/s eta 0:00:01\r\u001b[K     |██████████████▎                 | 102kB 2.8MB/s eta 0:00:01\r\u001b[K     |███████████████▋                | 112kB 2.8MB/s eta 0:00:01\r\u001b[K     |█████████████████               | 122kB 2.8MB/s eta 0:00:01\r\u001b[K     |██████████████████▌             | 133kB 2.8MB/s eta 0:00:01\r\u001b[K     |████████████████████            | 143kB 2.8MB/s eta 0:00:01\r\u001b[K     |█████████████████████▍          | 153kB 2.8MB/s eta 0:00:01\r\u001b[K     |██████████████████████▊         | 163kB 2.8MB/s eta 0:00:01\r\u001b[K     |████████████████████████▏       | 174kB 2.8MB/s eta 0:00:01\r\u001b[K     |█████████████████████████▋      | 184kB 2.8MB/s eta 0:00:01\r\u001b[K     |███████████████████████████     | 194kB 2.8MB/s eta 0:00:01\r\u001b[K     |████████████████████████████▌   | 204kB 2.8MB/s eta 0:00:01\r\u001b[K     |█████████████████████████████▉  | 215kB 2.8MB/s eta 0:00:01\r\u001b[K     |███████████████████████████████▎| 225kB 2.8MB/s eta 0:00:01\r\u001b[K     |████████████████████████████████| 235kB 2.8MB/s \n",
            "\u001b[?25hRequirement already satisfied, skipping upgrade: numba>=0.38 in /usr/local/lib/python3.6/dist-packages (from quantecon) (0.48.0)\n",
            "Requirement already satisfied, skipping upgrade: requests in /usr/local/lib/python3.6/dist-packages (from quantecon) (2.23.0)\n",
            "Requirement already satisfied, skipping upgrade: numpy in /usr/local/lib/python3.6/dist-packages (from quantecon) (1.18.5)\n",
            "Requirement already satisfied, skipping upgrade: sympy in /usr/local/lib/python3.6/dist-packages (from quantecon) (1.1.1)\n",
            "Requirement already satisfied, skipping upgrade: scipy>=1.0.0 in /usr/local/lib/python3.6/dist-packages (from quantecon) (1.4.1)\n",
            "Requirement already satisfied, skipping upgrade: setuptools in /usr/local/lib/python3.6/dist-packages (from numba>=0.38->quantecon) (47.3.1)\n",
            "Requirement already satisfied, skipping upgrade: llvmlite<0.32.0,>=0.31.0dev0 in /usr/local/lib/python3.6/dist-packages (from numba>=0.38->quantecon) (0.31.0)\n",
            "Requirement already satisfied, skipping upgrade: chardet<4,>=3.0.2 in /usr/local/lib/python3.6/dist-packages (from requests->quantecon) (3.0.4)\n",
            "Requirement already satisfied, skipping upgrade: idna<3,>=2.5 in /usr/local/lib/python3.6/dist-packages (from requests->quantecon) (2.9)\n",
            "Requirement already satisfied, skipping upgrade: urllib3!=1.25.0,!=1.25.1,<1.26,>=1.21.1 in /usr/local/lib/python3.6/dist-packages (from requests->quantecon) (1.24.3)\n",
            "Requirement already satisfied, skipping upgrade: certifi>=2017.4.17 in /usr/local/lib/python3.6/dist-packages (from requests->quantecon) (2020.6.20)\n",
            "Requirement already satisfied, skipping upgrade: mpmath>=0.19 in /usr/local/lib/python3.6/dist-packages (from sympy->quantecon) (1.1.0)\n",
            "Installing collected packages: quantecon\n",
            "Successfully installed quantecon-0.4.8\n"
          ],
          "name": "stdout"
        }
      ]
    },
    {
      "cell_type": "code",
      "metadata": {
        "id": "L7rou2zC-2IZ",
        "colab_type": "code",
        "colab": {}
      },
      "source": [
        "import numpy as np\n",
        "import matplotlib.pyplot as plt\n",
        "from quantecon.distributions import BetaBinomial\n",
        "from numba import njit, jit, jitclass, float64\n",
        "from scipy.stats import norm\n",
        "import quantecon as qe"
      ],
      "execution_count": 13,
      "outputs": []
    },
    {
      "cell_type": "markdown",
      "metadata": {
        "id": "VwlZCNk0Csmx",
        "colab_type": "text"
      },
      "source": [
        "## Exercise 1"
      ]
    },
    {
      "cell_type": "code",
      "metadata": {
        "id": "rpniACmc3BVW",
        "colab_type": "code",
        "colab": {}
      },
      "source": [
        "n, a, b = 50, 200, 100                        # default parameters\n",
        "q_default = BetaBinomial(n, a, b).pdf()       # default choice of q\n",
        "\n",
        "w_min, w_max = 10, 60\n",
        "w_default = np.linspace(w_min, w_max, n+1)"
      ],
      "execution_count": 14,
      "outputs": []
    },
    {
      "cell_type": "code",
      "metadata": {
        "id": "NeJbuOcl-7N7",
        "colab_type": "code",
        "colab": {}
      },
      "source": [
        "mccall_data = [\n",
        "    ('c', float64),      # unemployment compensation\n",
        "    ('β', float64),      # discount factor\n",
        "    ('w', float64[:]),   # array of wage values, w[i] = wage at state i\n",
        "    ('q', float64[:])    # array of probabilities\n",
        "]"
      ],
      "execution_count": 15,
      "outputs": []
    },
    {
      "cell_type": "code",
      "metadata": {
        "id": "n8GrTRcx_Mm9",
        "colab_type": "code",
        "colab": {}
      },
      "source": [
        "@jitclass(mccall_data)\n",
        "class McCallModel:\n",
        "\n",
        "    def __init__(self, c=25, β=0.99, w=w_default, q=q_default):\n",
        "\n",
        "        self.c, self.β = c, β\n",
        "        self.w, self.q = w_default, q_default\n",
        "\n",
        "    def state_action_values(self, i, v):\n",
        "        \"\"\"\n",
        "        The values of state-action pairs.\n",
        "        \"\"\"\n",
        "        # Simplify names\n",
        "        c, β, w, q = self.c, self.β, self.w, self.q\n",
        "        # Evaluate value for each state-action pair\n",
        "        # Consider action = accept or reject the current offer\n",
        "        accept = w[i] / (1 - β)\n",
        "        reject = c + β * np.sum(v * q)\n",
        "\n",
        "        return np.array([accept, reject])"
      ],
      "execution_count": 16,
      "outputs": []
    },
    {
      "cell_type": "code",
      "metadata": {
        "id": "tZyZxBPCQWZ-",
        "colab_type": "code",
        "colab": {}
      },
      "source": [
        "@jit(nopython=True)\n",
        "def compute_reservation_wage_two(mcm, max_iter=500, tol=1e-5):\n",
        "    # Simplify names\n",
        "    c, β, w, q = mcm.c, mcm.β, mcm.w, mcm.q\n",
        "    # == First compute h == #\n",
        "    h = np.sum(w * q) / (1 - β)\n",
        "    i = 0\n",
        "    error = tol + 1\n",
        "    while i < max_iter and error > tol:\n",
        "\n",
        "        s = np.maximum(w / (1 - β), h)\n",
        "        h_next = c + β * np.sum(s * q)\n",
        "\n",
        "        error = np.abs(h_next - h)\n",
        "        i += 1\n",
        "\n",
        "        h = h_next\n",
        "    # == Now compute the reservation wage == #\n",
        "    return (1 - β) * h"
      ],
      "execution_count": 17,
      "outputs": []
    },
    {
      "cell_type": "code",
      "metadata": {
        "id": "1-VaZIfg3uBS",
        "colab_type": "code",
        "colab": {}
      },
      "source": [
        "@jit(nopython=True)\n",
        "def Simulation(eq_w, num_sims=100_000):\n",
        "  unem_len = np.empty(len(eq_w))\n",
        "  status = np.arange(len(q_default))\n",
        "  cdf = np.cumsum(q_default)\n",
        "  for i in range(len(eq_w)):\n",
        "    w_eq = eq_w[i]\n",
        "    count = 0\n",
        "    for _ in range(num_sims):\n",
        "      w = 0\n",
        "      while w < w_eq:\n",
        "        idx = qe.random.draw(cdf)\n",
        "        w = w_default[idx]\n",
        "        count += 1\n",
        "    unem_len[i] = count/num_sims\n",
        "  return unem_len"
      ],
      "execution_count": 18,
      "outputs": []
    },
    {
      "cell_type": "code",
      "metadata": {
        "id": "9nNJb8oe7V1g",
        "colab_type": "code",
        "colab": {}
      },
      "source": [
        "c_vals = np.linspace(10, 40, 25)\n",
        "eq_w = np.empty(len(c_vals))\n",
        "for i in range(len(c_vals)):\n",
        "  mcm = McCallModel(c=c_vals[i])\n",
        "  eq_w[i] = compute_reservation_wage_two(mcm)"
      ],
      "execution_count": 19,
      "outputs": []
    },
    {
      "cell_type": "code",
      "metadata": {
        "id": "CNn1IyRg79-s",
        "colab_type": "code",
        "colab": {
          "base_uri": "https://localhost:8080/",
          "height": 50
        },
        "outputId": "cdb87fc4-0a24-4eb6-ca0f-d19dff24c02d"
      },
      "source": [
        "%%time\n",
        "unem_len = Simulation(eq_w)"
      ],
      "execution_count": 20,
      "outputs": [
        {
          "output_type": "stream",
          "text": [
            "CPU times: user 2 s, sys: 1.69 ms, total: 2 s\n",
            "Wall time: 2 s\n"
          ],
          "name": "stdout"
        }
      ]
    },
    {
      "cell_type": "code",
      "metadata": {
        "id": "UDdi95ca8Hfb",
        "colab_type": "code",
        "colab": {
          "base_uri": "https://localhost:8080/",
          "height": 281
        },
        "outputId": "ae902735-65bd-424a-ecf5-6ea38d1fe816"
      },
      "source": [
        "plt.plot(c_vals, unem_len)\n",
        "plt.xlabel('$c$ value')\n",
        "plt.ylabel('unemployment length');"
      ],
      "execution_count": 21,
      "outputs": [
        {
          "output_type": "display_data",
          "data": {
            "image/png": "[encoded data removed]",
            "text/plain": [
              "<Figure size 432x288 with 1 Axes>"
            ]
          },
          "metadata": {
            "tags": [],
            "needs_background": "light"
          }
        }
      ]
    },
    {
      "cell_type": "markdown",
      "metadata": {
        "id": "ul5kqD6p8Yl5",
        "colab_type": "text"
      },
      "source": [
        "## Exercise 2"
      ]
    },
    {
      "cell_type": "code",
      "metadata": {
        "id": "kxzKGw8tG7_C",
        "colab_type": "code",
        "colab": {}
      },
      "source": [
        "random_s = norm.rvs(size=30000)\n",
        "@jit(nopython=True)\n",
        "def compute_reservation_wage_three(mcm, max_iter=50000, tol=1e-5, n_sims=2000):\n",
        "    # Simplify names\n",
        "    c, β, sigma, mu = mcm.c, mcm.β, 0.5, 2.5\n",
        "    # == First compute h == #\n",
        "    h = np.exp(mu) / (1 - β)\n",
        "    i = 0\n",
        "    error = tol + 1\n",
        "    while i < max_iter and error > tol:\n",
        "        right = np.exp(mu + sigma*random_s) / (1 - β)\n",
        "        s = np.maximum(right, h)\n",
        "        h_next = c + β * s.mean()\n",
        "\n",
        "        error = np.abs(h_next - h)\n",
        "        i += 1\n",
        "\n",
        "        h = h_next\n",
        "    # == Now compute the reservation wage == #\n",
        "    print(i, h)\n",
        "    return (1 - β) * h"
      ],
      "execution_count": 22,
      "outputs": []
    },
    {
      "cell_type": "code",
      "metadata": {
        "id": "L6EQHh94IdOZ",
        "colab_type": "code",
        "colab": {
          "base_uri": "https://localhost:8080/",
          "height": 67
        },
        "outputId": "a48f5abb-3177-47d5-86db-70a1ddb93673"
      },
      "source": [
        "%%time\n",
        "\n",
        "mcm = McCallModel()\n",
        "compute_reservation_wage_three(mcm)"
      ],
      "execution_count": 23,
      "outputs": [
        {
          "output_type": "stream",
          "text": [
            "572 3578.622555531908\n",
            "CPU times: user 830 ms, sys: 5.84 ms, total: 836 ms\n",
            "Wall time: 847 ms\n"
          ],
          "name": "stdout"
        }
      ]
    },
    {
      "cell_type": "code",
      "metadata": {
        "id": "UayP65osIqPV",
        "colab_type": "code",
        "colab": {}
      },
      "source": [
        ""
      ],
      "execution_count": null,
      "outputs": []
    }
  ]
}