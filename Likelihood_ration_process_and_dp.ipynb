{
  "nbformat": 4,
  "nbformat_minor": 0,
  "metadata": {
    "colab": {
      "name": "Likelihood_ration_process_and_dp.ipynb",
      "provenance": [],
      "authorship_tag": "ABX9TyMCsMQd02YPAzFauz0ManiF",
      "include_colab_link": true
    },
    "kernelspec": {
      "name": "python3",
      "display_name": "Python 3"
    }
  },
  "cells": [
    {
      "cell_type": "markdown",
      "metadata": {
        "id": "view-in-github",
        "colab_type": "text"
      },
      "source": [
        "<a href=\"https://colab.research.google.com/github/Nannanpeng/Econ_Dynamic_Programming/blob/master/Likelihood_ration_process_and_dp.ipynb\" target=\"_parent\"><img src=\"https://colab.research.google.com/assets/colab-badge.svg\" alt=\"Open In Colab\"/></a>"
      ]
    },
    {
      "cell_type": "code",
      "metadata": {
        "id": "TN6NnLaXSp3M",
        "colab_type": "code",
        "colab": {
          "base_uri": "https://localhost:8080/",
          "height": 353
        },
        "outputId": "2e06aec5-19e8-48d9-8a7a-5d7c40dd9cc8"
      },
      "source": [
        "!pip install --upgrade quantecon\n",
        "!pip install interpolation"
      ],
      "execution_count": 1,
      "outputs": [
        {
          "output_type": "stream",
          "text": [
            "Requirement already up-to-date: quantecon in /usr/local/lib/python3.6/dist-packages (0.4.8)\n",
            "Requirement already satisfied, skipping upgrade: sympy in /usr/local/lib/python3.6/dist-packages (from quantecon) (1.1.1)\n",
            "Requirement already satisfied, skipping upgrade: numba>=0.38 in /usr/local/lib/python3.6/dist-packages (from quantecon) (0.48.0)\n",
            "Requirement already satisfied, skipping upgrade: scipy>=1.0.0 in /usr/local/lib/python3.6/dist-packages (from quantecon) (1.4.1)\n",
            "Requirement already satisfied, skipping upgrade: requests in /usr/local/lib/python3.6/dist-packages (from quantecon) (2.23.0)\n",
            "Requirement already satisfied, skipping upgrade: numpy in /usr/local/lib/python3.6/dist-packages (from quantecon) (1.18.5)\n",
            "Requirement already satisfied, skipping upgrade: mpmath>=0.19 in /usr/local/lib/python3.6/dist-packages (from sympy->quantecon) (1.1.0)\n",
            "Requirement already satisfied, skipping upgrade: llvmlite<0.32.0,>=0.31.0dev0 in /usr/local/lib/python3.6/dist-packages (from numba>=0.38->quantecon) (0.31.0)\n",
            "Requirement already satisfied, skipping upgrade: setuptools in /usr/local/lib/python3.6/dist-packages (from numba>=0.38->quantecon) (47.3.1)\n",
            "Requirement already satisfied, skipping upgrade: idna<3,>=2.5 in /usr/local/lib/python3.6/dist-packages (from requests->quantecon) (2.9)\n",
            "Requirement already satisfied, skipping upgrade: urllib3!=1.25.0,!=1.25.1,<1.26,>=1.21.1 in /usr/local/lib/python3.6/dist-packages (from requests->quantecon) (1.24.3)\n",
            "Requirement already satisfied, skipping upgrade: chardet<4,>=3.0.2 in /usr/local/lib/python3.6/dist-packages (from requests->quantecon) (3.0.4)\n",
            "Requirement already satisfied, skipping upgrade: certifi>=2017.4.17 in /usr/local/lib/python3.6/dist-packages (from requests->quantecon) (2020.6.20)\n",
            "Requirement already satisfied: interpolation in /usr/local/lib/python3.6/dist-packages (2.1.6)\n",
            "Requirement already satisfied: scipy>=1.4.1 in /usr/local/lib/python3.6/dist-packages (from interpolation) (1.4.1)\n",
            "Requirement already satisfied: numpy>=1.18.1 in /usr/local/lib/python3.6/dist-packages (from interpolation) (1.18.5)\n",
            "Requirement already satisfied: tempita>=0.5.2 in /usr/local/lib/python3.6/dist-packages (from interpolation) (0.5.2)\n",
            "Requirement already satisfied: numba>=0.47 in /usr/local/lib/python3.6/dist-packages (from interpolation) (0.48.0)\n",
            "Requirement already satisfied: llvmlite<0.32.0,>=0.31.0dev0 in /usr/local/lib/python3.6/dist-packages (from numba>=0.47->interpolation) (0.31.0)\n",
            "Requirement already satisfied: setuptools in /usr/local/lib/python3.6/dist-packages (from numba>=0.47->interpolation) (47.3.1)\n"
          ],
          "name": "stdout"
        }
      ]
    },
    {
      "cell_type": "code",
      "metadata": {
        "id": "UQGMxW6cTAsv",
        "colab_type": "code",
        "colab": {}
      },
      "source": [
        "import numpy as np\n",
        "import matplotlib.pyplot as plt\n",
        "from numba import njit, jit, prange, jitclass, float64, int64\n",
        "from interpolation import interp\n",
        "from math import gamma"
      ],
      "execution_count": 2,
      "outputs": []
    },
    {
      "cell_type": "code",
      "metadata": {
        "id": "Jh3iC7UfTDRG",
        "colab_type": "code",
        "colab": {}
      },
      "source": [
        "wf_data = [('a0', float64),          # Parameters of beta distributions\n",
        "      ('b0', float64),\n",
        "      ('a1', float64),\n",
        "      ('b1', float64),\n",
        "      ('c', float64),           # Cost of another draw\n",
        "      ('pi_grid_size', int64),\n",
        "      ('L0', float64),          # Cost of selecting f0 when f1 is true\n",
        "      ('L1', float64),          # Cost of selecting f1 when f0 is true\n",
        "      ('pi_grids', float64[:]),\n",
        "      ('mc_size', int64),\n",
        "      ('z0_draws', float64[:]),\n",
        "      ('z1_draws', float64[:])]"
      ],
      "execution_count": 3,
      "outputs": []
    },
    {
      "cell_type": "code",
      "metadata": {
        "id": "2MrL-x7eTYvS",
        "colab_type": "code",
        "colab": {}
      },
      "source": [
        "@jitclass(wf_data)\n",
        "class WaldFriedman:\n",
        "  def __init__(self, c=1.25,\n",
        "            a0=1.0,\n",
        "            b0=1.0,\n",
        "            a1=3.0,\n",
        "            b1=1.2,\n",
        "            L0=25.0,\n",
        "            L1=25.0,\n",
        "            pi_grid_size=200,\n",
        "            mc_size=1000):\n",
        "    self.c, self.a0, self.b0, self.a1, self.b1 = c, a0, b0, a1, b1\n",
        "    self.L0, self.L1 = L0, L1\n",
        "    self.pi_grid_size, self.mc_size = pi_grid_size, mc_size\n",
        "    self.pi_grids = np.linspace(0, 1, pi_grid_size)\n",
        "    self.z0_draws = np.random.beta(a0, b0, size=mc_size)\n",
        "    self.z1_draws = np.random.beta(a1, b1, size=mc_size)\n",
        "\n",
        "@njit\n",
        "def p(x, a, b):\n",
        "  r = gamma(a + b) / (gamma(a) * gamma(b))\n",
        "  return r * x**(a-1) * (1 - x)**(b-1)\n",
        "\n",
        "@njit\n",
        "def compute_weight(z, pi, wf):\n",
        "  a0, b0, a1, b1 = wf.a0, wf.b0, wf.a1, wf.b1\n",
        "  num = pi*p(z, a0, b0)\n",
        "  den = num + (1 - pi)*p(z, a1, b1)\n",
        "  return num/den\n",
        "\n",
        "@njit\n",
        "def state_action_value(pi, h, wf):\n",
        "  L0, L1, c = wf.L0, wf.L1, wf.c\n",
        "  z0_draws, z1_draws, mc_size = wf.z0_draws, wf.z1_draws, wf.mc_size\n",
        "  pi_grids = wf.pi_grids\n",
        "\n",
        "  H = lambda pi_: interp(pi_grids, h, pi_)\n",
        "  integral0, integral1 = 0, 0\n",
        "  for i in range(mc_size):\n",
        "    pi0 = compute_weight(z0_draws[i], pi, wf)\n",
        "    integral0 += min((1-pi0)*L0, pi0*L1, H(pi0))\n",
        "    pi1 = compute_weight(z1_draws[i], pi, wf) \n",
        "    integral1 += min((1-pi1)*L0, pi1*L1, H(pi1)) \n",
        "  integral = (pi*integral0 + (1-pi)*integral1)/mc_size\n",
        "  return c + integral\n",
        "\n",
        "@njit\n",
        "def Q(h, wf):\n",
        "  Qh = np.empty_like(h)\n",
        "  for i, pi in enumerate(wf.pi_grids):\n",
        "    Qh[i] = state_action_value(pi, h, wf)\n",
        "  return Qh\n",
        "\n",
        "def compute_convergence(wf, max_iter=1000, tol=1e-5, verbose=True, print_skip=25):\n",
        "  h = np.zeros_like(wf.pi_grids)\n",
        "  err=1+tol\n",
        "  i=1\n",
        "  while i < max_iter and err > tol:\n",
        "    Qh = Q(h, wf)\n",
        "    err = np.max(np.abs(Qh-h))\n",
        "    h = Qh\n",
        "    i += 1\n",
        "    if verbose and i%print_skip==0:\n",
        "      print(f\"Error is {err} on iteration {i}.\")\n",
        "\n",
        "  if i == max_iter:\n",
        "    raise RuntimeError('Iteration failed!')\n",
        "  \n",
        "  if verbose:\n",
        "    print(f\"\\nConverged on iteration {i}!\")\n",
        "\n",
        "  return h\n",
        "\n",
        "@njit\n",
        "def compute_value_function(h, wf):\n",
        "  L0, L1, pi_grids = wf.L0, wf.L1, wf.pi_grids\n",
        "  H = lambda pi_: interp(pi_grids, h, pi_)\n",
        "  J = np.empty_like(pi_grids)\n",
        "  for i, pi in enumerate(pi_grids):\n",
        "    J[i] = min((1-pi)*L0, pi*L1, H(pi))\n",
        "  return J"
      ],
      "execution_count": 13,
      "outputs": []
    },
    {
      "cell_type": "code",
      "metadata": {
        "id": "OjRdfWs9Wdjp",
        "colab_type": "code",
        "colab": {
          "base_uri": "https://localhost:8080/",
          "height": 101
        },
        "outputId": "a168d6e2-2af3-4e6c-d0b7-316baa105f7a"
      },
      "source": [
        " %%time\n",
        " \n",
        " wf = WaldFriedman()\n",
        " h = compute_convergence(wf)"
      ],
      "execution_count": 15,
      "outputs": [
        {
          "output_type": "stream",
          "text": [
            "Error is 0.00013502287849220806 on iteration 25.\n",
            "\n",
            "Converged on iteration 31!\n",
            "CPU times: user 5.56 s, sys: 5.91 ms, total: 5.56 s\n",
            "Wall time: 5.57 s\n"
          ],
          "name": "stdout"
        }
      ]
    },
    {
      "cell_type": "code",
      "metadata": {
        "id": "oFujFkQSZ5Sz",
        "colab_type": "code",
        "colab": {
          "base_uri": "https://localhost:8080/",
          "height": 50
        },
        "outputId": "f3141a9b-a174-45c9-f9ba-075c9f04e19d"
      },
      "source": [
        "%%time\n",
        "j_value = compute_value_function(h, wf)"
      ],
      "execution_count": 16,
      "outputs": [
        {
          "output_type": "stream",
          "text": [
            "CPU times: user 160 ms, sys: 3.99 ms, total: 164 ms\n",
            "Wall time: 164 ms\n"
          ],
          "name": "stdout"
        }
      ]
    },
    {
      "cell_type": "code",
      "metadata": {
        "id": "D9jEOiBNah6L",
        "colab_type": "code",
        "colab": {
          "base_uri": "https://localhost:8080/",
          "height": 279
        },
        "outputId": "8db6fffb-c1f9-4cc0-9a2a-ae10b7bd22a4"
      },
      "source": [
        "plt.plot(wf.pi_grids, j_value, 'r--', label='Value function')\n",
        "plt.plot(wf.pi_grids, h, label='h_star')\n",
        "plt.xlabel(r'$\\pi$')\n",
        "plt.legend();"
      ],
      "execution_count": 23,
      "outputs": [
        {
          "output_type": "display_data",
          "data": {
            "image/png": "[encoded data removed]",
            "text/plain": [
              "<Figure size 432x288 with 1 Axes>"
            ]
          },
          "metadata": {
            "tags": [],
            "needs_background": "light"
          }
        }
      ]
    },
    {
      "cell_type": "code",
      "metadata": {
        "id": "u7-x9k8809yK",
        "colab_type": "code",
        "colab": {}
      },
      "source": [
        ""
      ],
      "execution_count": 9,
      "outputs": []
    }
  ]
}