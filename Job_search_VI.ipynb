{
  "nbformat": 4,
  "nbformat_minor": 0,
  "metadata": {
    "colab": {
      "name": "Job_search_VI.ipynb",
      "provenance": [],
      "authorship_tag": "ABX9TyPA8f7i5uhNA6vW1+l6Bz9+",
      "include_colab_link": true
    },
    "kernelspec": {
      "name": "python3",
      "display_name": "Python 3"
    }
  },
  "cells": [
    {
      "cell_type": "markdown",
      "metadata": {
        "id": "view-in-github",
        "colab_type": "text"
      },
      "source": [
        "<a href=\"https://colab.research.google.com/github/Nannanpeng/Econ_Dynamic_Programming/blob/master/Job_search_VI.ipynb\" target=\"_parent\"><img src=\"https://colab.research.google.com/assets/colab-badge.svg\" alt=\"Open In Colab\"/></a>"
      ]
    },
    {
      "cell_type": "code",
      "metadata": {
        "id": "d-gfOPbTbaLB",
        "colab_type": "code",
        "colab": {
          "base_uri": "https://localhost:8080/",
          "height": 353
        },
        "outputId": "ce2e69d0-0ef5-489a-9e17-d4be08c2b857"
      },
      "source": [
        "!pip install --upgrade quantecon\n",
        "!pip install interpolation"
      ],
      "execution_count": 1,
      "outputs": [
        {
          "output_type": "stream",
          "text": [
            "Requirement already up-to-date: quantecon in /usr/local/lib/python3.6/dist-packages (0.4.8)\n",
            "Requirement already satisfied, skipping upgrade: requests in /usr/local/lib/python3.6/dist-packages (from quantecon) (2.23.0)\n",
            "Requirement already satisfied, skipping upgrade: scipy>=1.0.0 in /usr/local/lib/python3.6/dist-packages (from quantecon) (1.4.1)\n",
            "Requirement already satisfied, skipping upgrade: sympy in /usr/local/lib/python3.6/dist-packages (from quantecon) (1.1.1)\n",
            "Requirement already satisfied, skipping upgrade: numpy in /usr/local/lib/python3.6/dist-packages (from quantecon) (1.18.5)\n",
            "Requirement already satisfied, skipping upgrade: numba>=0.38 in /usr/local/lib/python3.6/dist-packages (from quantecon) (0.48.0)\n",
            "Requirement already satisfied, skipping upgrade: chardet<4,>=3.0.2 in /usr/local/lib/python3.6/dist-packages (from requests->quantecon) (3.0.4)\n",
            "Requirement already satisfied, skipping upgrade: certifi>=2017.4.17 in /usr/local/lib/python3.6/dist-packages (from requests->quantecon) (2020.6.20)\n",
            "Requirement already satisfied, skipping upgrade: urllib3!=1.25.0,!=1.25.1,<1.26,>=1.21.1 in /usr/local/lib/python3.6/dist-packages (from requests->quantecon) (1.24.3)\n",
            "Requirement already satisfied, skipping upgrade: idna<3,>=2.5 in /usr/local/lib/python3.6/dist-packages (from requests->quantecon) (2.9)\n",
            "Requirement already satisfied, skipping upgrade: mpmath>=0.19 in /usr/local/lib/python3.6/dist-packages (from sympy->quantecon) (1.1.0)\n",
            "Requirement already satisfied, skipping upgrade: setuptools in /usr/local/lib/python3.6/dist-packages (from numba>=0.38->quantecon) (47.3.1)\n",
            "Requirement already satisfied, skipping upgrade: llvmlite<0.32.0,>=0.31.0dev0 in /usr/local/lib/python3.6/dist-packages (from numba>=0.38->quantecon) (0.31.0)\n",
            "Requirement already satisfied: interpolation in /usr/local/lib/python3.6/dist-packages (2.1.6)\n",
            "Requirement already satisfied: numba>=0.47 in /usr/local/lib/python3.6/dist-packages (from interpolation) (0.48.0)\n",
            "Requirement already satisfied: tempita>=0.5.2 in /usr/local/lib/python3.6/dist-packages (from interpolation) (0.5.2)\n",
            "Requirement already satisfied: scipy>=1.4.1 in /usr/local/lib/python3.6/dist-packages (from interpolation) (1.4.1)\n",
            "Requirement already satisfied: numpy>=1.18.1 in /usr/local/lib/python3.6/dist-packages (from interpolation) (1.18.5)\n",
            "Requirement already satisfied: llvmlite<0.32.0,>=0.31.0dev0 in /usr/local/lib/python3.6/dist-packages (from numba>=0.47->interpolation) (0.31.0)\n",
            "Requirement already satisfied: setuptools in /usr/local/lib/python3.6/dist-packages (from numba>=0.47->interpolation) (47.3.1)\n"
          ],
          "name": "stdout"
        }
      ]
    },
    {
      "cell_type": "code",
      "metadata": {
        "id": "rTT_14ZYbmBh",
        "colab_type": "code",
        "colab": {}
      },
      "source": [
        "import numpy as np\n",
        "import scipy.stats as stats\n",
        "from interpolation import interp\n",
        "from numba import njit, prange\n",
        "import matplotlib.pyplot as plt\n",
        "%matplotlib inline\n",
        "from math import gamma"
      ],
      "execution_count": 2,
      "outputs": []
    },
    {
      "cell_type": "code",
      "metadata": {
        "id": "8crpGSIzjytm",
        "colab_type": "code",
        "colab": {}
      },
      "source": [
        "class JVWorker:\n",
        "    r\"\"\"\n",
        "    A Jovanovic-type model of employment with on-the-job search.\n",
        "\n",
        "    \"\"\"\n",
        "\n",
        "    def __init__(self,\n",
        "                 A=1.4,\n",
        "                 α=0.6,\n",
        "                 β=0.96,         # Discount factor\n",
        "                 π=np.sqrt,      # Search effort function\n",
        "                 a=2,            # Parameter of f\n",
        "                 b=2,            # Parameter of f\n",
        "                 grid_size=50,\n",
        "                 mc_size=100,\n",
        "                 ɛ=1e-4):\n",
        "\n",
        "        self.A, self.α, self.β, self.π = A, α, β, π\n",
        "        self.mc_size, self.ɛ = mc_size, ɛ\n",
        "\n",
        "        self.g = njit(lambda x, ϕ: A * (x * ϕ)**α)    # Transition function\n",
        "        self.f_rvs = np.random.beta(a, b, mc_size)\n",
        "\n",
        "        # Max of grid is the max of a large quantile value for f and the\n",
        "        # fixed point y = g(y, 1)\n",
        "        ɛ = 1e-4\n",
        "        grid_max = max(A**(1 / (1 - α)), stats.beta(a, b).ppf(1 - ɛ))\n",
        "\n",
        "        # Human capital\n",
        "        self.x_grid = np.linspace(ɛ, grid_max, grid_size)"
      ],
      "execution_count": 3,
      "outputs": []
    },
    {
      "cell_type": "code",
      "metadata": {
        "id": "JJlE15L1j4Eo",
        "colab_type": "code",
        "colab": {}
      },
      "source": [
        "def operator_factory(jv, parallel_flag=True):\n",
        "\n",
        "    \"\"\"\n",
        "    Returns a jitted version of the Bellman operator T\n",
        "\n",
        "    jv is an instance of JVWorker\n",
        "\n",
        "    \"\"\"\n",
        "\n",
        "    π, β = jv.π, jv.β\n",
        "    x_grid, ɛ, mc_size = jv.x_grid, jv.ɛ, jv.mc_size\n",
        "    f_rvs, g = jv.f_rvs, jv.g\n",
        "\n",
        "    @njit\n",
        "    def state_action_values(z, x, v):\n",
        "        s, ϕ = z\n",
        "        v_func = lambda x: interp(x_grid, v, x)\n",
        "\n",
        "        integral = 0\n",
        "        for m in range(mc_size):\n",
        "            u = f_rvs[m]\n",
        "            integral += v_func(max(g(x, ϕ), u))\n",
        "        integral = integral / mc_size\n",
        "\n",
        "        q = π(s) * integral + (1 - π(s)) * v_func(g(x, ϕ))\n",
        "        return x * (1 - ϕ - s) + β * q\n",
        "\n",
        "    @njit(parallel=parallel_flag)\n",
        "    def T(v):\n",
        "        \"\"\"\n",
        "        The Bellman operator\n",
        "        \"\"\"\n",
        "\n",
        "        v_new = np.empty_like(v)\n",
        "        for i in prange(len(x_grid)):\n",
        "            x = x_grid[i]\n",
        "\n",
        "            # Search on a grid\n",
        "            search_grid = np.linspace(ɛ, 1, 15)\n",
        "            max_val = -1\n",
        "            for s in search_grid:\n",
        "                for ϕ in search_grid:\n",
        "                    current_val = state_action_values((s, ϕ), x, v) if s + ϕ <= 1 else -1\n",
        "                    if current_val > max_val:\n",
        "                        max_val = current_val\n",
        "            v_new[i] = max_val\n",
        "\n",
        "        return v_new\n",
        "\n",
        "    @njit\n",
        "    def get_greedy(v):\n",
        "        \"\"\"\n",
        "        Computes the v-greedy policy of a given function v\n",
        "        \"\"\"\n",
        "        s_policy, ϕ_policy = np.empty_like(v), np.empty_like(v)\n",
        "\n",
        "        for i in range(len(x_grid)):\n",
        "            x = x_grid[i]\n",
        "            # Search on a grid\n",
        "            search_grid = np.linspace(ɛ, 1, 15)\n",
        "            max_val = -1\n",
        "            for s in search_grid:\n",
        "                for ϕ in search_grid:\n",
        "                    current_val = state_action_values((s, ϕ), x, v) if s + ϕ <= 1 else -1\n",
        "                    if current_val > max_val:\n",
        "                        max_val = current_val\n",
        "                        max_s, max_ϕ = s, ϕ\n",
        "                        s_policy[i], ϕ_policy[i] = max_s, max_ϕ\n",
        "        return s_policy, ϕ_policy\n",
        "\n",
        "    return T, get_greedy"
      ],
      "execution_count": 4,
      "outputs": []
    },
    {
      "cell_type": "code",
      "metadata": {
        "id": "0ET05TAbj7Xg",
        "colab_type": "code",
        "colab": {}
      },
      "source": [
        "def solve_model(jv,\n",
        "                use_parallel=True,\n",
        "                tol=1e-4,\n",
        "                max_iter=1000,\n",
        "                verbose=True,\n",
        "                print_skip=25):\n",
        "\n",
        "    \"\"\"\n",
        "    Solves the model by value function iteration\n",
        "\n",
        "    * jv is an instance of JVWorker\n",
        "\n",
        "    \"\"\"\n",
        "\n",
        "    T, _ = operator_factory(jv, parallel_flag=use_parallel)\n",
        "\n",
        "    # Set up loop\n",
        "    v = jv.x_grid * 0.5  # Initial condition\n",
        "    i = 0\n",
        "    error = tol + 1\n",
        "\n",
        "    while i < max_iter and error > tol:\n",
        "        v_new = T(v)\n",
        "        error = np.max(np.abs(v - v_new))\n",
        "        i += 1\n",
        "        if verbose and i % print_skip == 0:\n",
        "            print(f\"Error at iteration {i} is {error}.\")\n",
        "        v = v_new\n",
        "\n",
        "    if i == max_iter:\n",
        "        print(\"Failed to converge!\")\n",
        "\n",
        "    if verbose and i < max_iter:\n",
        "        print(f\"\\nConverged in {i} iterations.\")\n",
        "\n",
        "    return v_new"
      ],
      "execution_count": 5,
      "outputs": []
    },
    {
      "cell_type": "code",
      "metadata": {
        "id": "5-EERcc9kDUX",
        "colab_type": "code",
        "colab": {
          "base_uri": "https://localhost:8080/",
          "height": 185
        },
        "outputId": "72ef8127-9ada-44cb-aa12-12cc7a9060c6"
      },
      "source": [
        "jv = JVWorker()\n",
        "T, get_greedy = operator_factory(jv)\n",
        "v_star = solve_model(jv)\n",
        "s_star, psi_star = get_greedy(v_star)"
      ],
      "execution_count": 6,
      "outputs": [
        {
          "output_type": "stream",
          "text": [
            "Error at iteration 25 is 0.15111139106363414.\n",
            "Error at iteration 50 is 0.054460049193503224.\n",
            "Error at iteration 75 is 0.019627222929265997.\n",
            "Error at iteration 100 is 0.007073586704750667.\n",
            "Error at iteration 125 is 0.0025492974248049194.\n",
            "Error at iteration 150 is 0.000918758422196575.\n",
            "Error at iteration 175 is 0.0003311175189466553.\n",
            "Error at iteration 200 is 0.00011933366672600698.\n",
            "\n",
            "Converged in 205 iterations.\n"
          ],
          "name": "stdout"
        }
      ]
    },
    {
      "cell_type": "markdown",
      "metadata": {
        "id": "djb63bVtkNpV",
        "colab_type": "text"
      },
      "source": [
        "## Exercise 1"
      ]
    },
    {
      "cell_type": "code",
      "metadata": {
        "id": "Lm6jDEPHkyhY",
        "colab_type": "code",
        "colab": {}
      },
      "source": [
        "def hc_path(jv, a=2, b=2, K=50):\n",
        "  pi, g = jv.π, jv.g\n",
        "\n",
        "  @njit\n",
        "  def one_draw(z, x):\n",
        "    s, psi = z\n",
        "    if pi(s) <= np.random.random():\n",
        "      x_next = g(x, psi)\n",
        "    else:\n",
        "      right = np.random.beta(a, b)\n",
        "      x_next = max(g(x, psi), right)\n",
        "    return x_next\n",
        "  \n",
        "  #@njit(parallel=True)\n",
        "  def simulation(z, x):\n",
        "    sims = np.empty(K)\n",
        "    for i in prange(K):\n",
        "      sims[i] = one_draw(z, x)\n",
        "    return sims\n",
        "  \n",
        "  return simulation"
      ],
      "execution_count": 7,
      "outputs": []
    },
    {
      "cell_type": "code",
      "metadata": {
        "id": "aXkFWYf2kEBP",
        "colab_type": "code",
        "colab": {
          "base_uri": "https://localhost:8080/",
          "height": 185
        },
        "outputId": "1f6df628-de54-4681-dad5-632c4fb8b0f4"
      },
      "source": [
        "jv = JVWorker(grid_size=25, mc_size=50)\n",
        "T, get_greedy = operator_factory(jv)\n",
        "v_star = solve_model(jv)\n",
        "s_star, psi_star = get_greedy(v_star)"
      ],
      "execution_count": 8,
      "outputs": [
        {
          "output_type": "stream",
          "text": [
            "Error at iteration 25 is 0.1510404173773443.\n",
            "Error at iteration 50 is 0.05443447053566075.\n",
            "Error at iteration 75 is 0.019618004464959427.\n",
            "Error at iteration 100 is 0.007070264400478976.\n",
            "Error at iteration 125 is 0.0025481000772522577.\n",
            "Error at iteration 150 is 0.0009183269020702767.\n",
            "Error at iteration 175 is 0.00033096200050941604.\n",
            "Error at iteration 200 is 0.00011927761839025663.\n",
            "\n",
            "Converged in 205 iterations.\n"
          ],
          "name": "stdout"
        }
      ]
    },
    {
      "cell_type": "code",
      "metadata": {
        "id": "1bjGNQemkKRD",
        "colab_type": "code",
        "colab": {
          "base_uri": "https://localhost:8080/",
          "height": 285
        },
        "outputId": "f24ee53b-fe8b-4432-dede-bba0cb863467"
      },
      "source": [
        "plot_grid_max, plot_grid_size = 1.2, 100\n",
        "plot_grid = np.linspace(0, plot_grid_max, plot_grid_size)\n",
        "s_fun = lambda x: interp(jv.x_grid, s_star, x)\n",
        "psi_fun = lambda x: interp(jv.x_grid, psi_star, x)\n",
        "simulation = hc_path(jv)\n",
        "\n",
        "fig, ax = plt.subplots()\n",
        "ax.set_xlim(0, plot_grid_max)\n",
        "ax.set_ylim(0, plot_grid_max)\n",
        "for i, x in enumerate(plot_grid):\n",
        "  z = s_fun(x), psi_fun(x)\n",
        "  sim_draws = simulation(z, x)\n",
        "  ax.scatter([x]*len(sim_draws), sim_draws, s=4)\n",
        "ax.plot([0, 1.2], [0, 1.2], 'k--')\n",
        "ax.set(xlabel='$x_{t}$', ylabel='$x_{t+1}$');"
      ],
      "execution_count": 9,
      "outputs": [
        {
          "output_type": "display_data",
          "data": {
            "image/png": "[encoded data removed]",
            "text/plain": [
              "<Figure size 432x288 with 1 Axes>"
            ]
          },
          "metadata": {
            "tags": [],
            "needs_background": "light"
          }
        }
      ]
    },
    {
      "cell_type": "markdown",
      "metadata": {
        "id": "fDmniTDiq0Fv",
        "colab_type": "text"
      },
      "source": [
        "## Exercise 2"
      ]
    },
    {
      "cell_type": "code",
      "metadata": {
        "id": "FnqCnJnsw9rR",
        "colab_type": "code",
        "colab": {
          "base_uri": "https://localhost:8080/",
          "height": 281
        },
        "outputId": "cf24e708-c084-480a-a198-7267f318b4a7"
      },
      "source": [
        "def Wage(jv, psi):\n",
        "  A, alpha = jv.A, jv.α\n",
        "  x_ss = njit(lambda psi: (A*psi**alpha)**(1/(1-alpha)))\n",
        "  return x_ss(psi)*(1-psi)\n",
        "\n",
        "psi_vals = np.linspace(0, 1, 30)\n",
        "plt.plot(psi_vals, Wage(jv, psi_vals), label=r'$w$ as a function of $\\psi$')\n",
        "plt.xlabel(r'$\\psi$')\n",
        "plt.ylabel(r'$w$')\n",
        "plt.legend();"
      ],
      "execution_count": 10,
      "outputs": [
        {
          "output_type": "display_data",
          "data": {
            "image/png": "[encoded data removed]",
            "text/plain": [
              "<Figure size 432x288 with 1 Axes>"
            ]
          },
          "metadata": {
            "tags": [],
            "needs_background": "light"
          }
        }
      ]
    },
    {
      "cell_type": "code",
      "metadata": {
        "id": "yNsIpWWF0V8f",
        "colab_type": "code",
        "colab": {}
      },
      "source": [
        ""
      ],
      "execution_count": 10,
      "outputs": []
    }
  ]
}