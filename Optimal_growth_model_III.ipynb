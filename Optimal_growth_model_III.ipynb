{
  "nbformat": 4,
  "nbformat_minor": 0,
  "metadata": {
    "colab": {
      "name": "Optimal_growth_model_III.ipynb",
      "provenance": [],
      "authorship_tag": "ABX9TyN+MlGYFoYFA9z0XxHUqyB3",
      "include_colab_link": true
    },
    "kernelspec": {
      "name": "python3",
      "display_name": "Python 3"
    }
  },
  "cells": [
    {
      "cell_type": "markdown",
      "metadata": {
        "id": "view-in-github",
        "colab_type": "text"
      },
      "source": [
        "<a href=\"https://colab.research.google.com/github/Nannanpeng/Econ_Dynamic_Programming/blob/master/Optimal_growth_model_III.ipynb\" target=\"_parent\"><img src=\"https://colab.research.google.com/assets/colab-badge.svg\" alt=\"Open In Colab\"/></a>"
      ]
    },
    {
      "cell_type": "code",
      "metadata": {
        "id": "Ey9qbt2FSAUx",
        "colab_type": "code",
        "colab": {
          "base_uri": "https://localhost:8080/",
          "height": 353
        },
        "outputId": "ebce4ec3-1922-4d30-9edd-c08e1f8beac0"
      },
      "source": [
        "!pip install --upgrade quantecon\n",
        "!pip install interpolation"
      ],
      "execution_count": 1,
      "outputs": [
        {
          "output_type": "stream",
          "text": [
            "Requirement already up-to-date: quantecon in /usr/local/lib/python3.6/dist-packages (0.4.8)\n",
            "Requirement already satisfied, skipping upgrade: sympy in /usr/local/lib/python3.6/dist-packages (from quantecon) (1.1.1)\n",
            "Requirement already satisfied, skipping upgrade: requests in /usr/local/lib/python3.6/dist-packages (from quantecon) (2.23.0)\n",
            "Requirement already satisfied, skipping upgrade: numpy in /usr/local/lib/python3.6/dist-packages (from quantecon) (1.18.5)\n",
            "Requirement already satisfied, skipping upgrade: scipy>=1.0.0 in /usr/local/lib/python3.6/dist-packages (from quantecon) (1.4.1)\n",
            "Requirement already satisfied, skipping upgrade: numba>=0.38 in /usr/local/lib/python3.6/dist-packages (from quantecon) (0.48.0)\n",
            "Requirement already satisfied, skipping upgrade: mpmath>=0.19 in /usr/local/lib/python3.6/dist-packages (from sympy->quantecon) (1.1.0)\n",
            "Requirement already satisfied, skipping upgrade: chardet<4,>=3.0.2 in /usr/local/lib/python3.6/dist-packages (from requests->quantecon) (3.0.4)\n",
            "Requirement already satisfied, skipping upgrade: certifi>=2017.4.17 in /usr/local/lib/python3.6/dist-packages (from requests->quantecon) (2020.6.20)\n",
            "Requirement already satisfied, skipping upgrade: urllib3!=1.25.0,!=1.25.1,<1.26,>=1.21.1 in /usr/local/lib/python3.6/dist-packages (from requests->quantecon) (1.24.3)\n",
            "Requirement already satisfied, skipping upgrade: idna<3,>=2.5 in /usr/local/lib/python3.6/dist-packages (from requests->quantecon) (2.9)\n",
            "Requirement already satisfied, skipping upgrade: llvmlite<0.32.0,>=0.31.0dev0 in /usr/local/lib/python3.6/dist-packages (from numba>=0.38->quantecon) (0.31.0)\n",
            "Requirement already satisfied, skipping upgrade: setuptools in /usr/local/lib/python3.6/dist-packages (from numba>=0.38->quantecon) (47.3.1)\n",
            "Requirement already satisfied: interpolation in /usr/local/lib/python3.6/dist-packages (2.1.6)\n",
            "Requirement already satisfied: scipy>=1.4.1 in /usr/local/lib/python3.6/dist-packages (from interpolation) (1.4.1)\n",
            "Requirement already satisfied: tempita>=0.5.2 in /usr/local/lib/python3.6/dist-packages (from interpolation) (0.5.2)\n",
            "Requirement already satisfied: numpy>=1.18.1 in /usr/local/lib/python3.6/dist-packages (from interpolation) (1.18.5)\n",
            "Requirement already satisfied: numba>=0.47 in /usr/local/lib/python3.6/dist-packages (from interpolation) (0.48.0)\n",
            "Requirement already satisfied: llvmlite<0.32.0,>=0.31.0dev0 in /usr/local/lib/python3.6/dist-packages (from numba>=0.47->interpolation) (0.31.0)\n",
            "Requirement already satisfied: setuptools in /usr/local/lib/python3.6/dist-packages (from numba>=0.47->interpolation) (47.3.1)\n"
          ],
          "name": "stdout"
        }
      ]
    },
    {
      "cell_type": "code",
      "metadata": {
        "id": "57RMRmutS_RC",
        "colab_type": "code",
        "colab": {}
      },
      "source": [
        "import numpy as np\n",
        "import quantecon as qe\n",
        "import matplotlib.pyplot as plt\n",
        "%matplotlib inline\n",
        "from interpolation import interp\n",
        "from quantecon.optimize import brentq\n",
        "\n",
        "from numba import jit, njit, jitclass, prange, float64, int32\n",
        "import time\n",
        "%matplotlib inline"
      ],
      "execution_count": 2,
      "outputs": []
    },
    {
      "cell_type": "code",
      "metadata": {
        "id": "E9NetN4XRbww",
        "colab_type": "code",
        "colab": {}
      },
      "source": [
        "ogm_data=[('alpha', float64),\n",
        "     ('beta', float64),\n",
        "     ('y_grids', float64[:]),\n",
        "     ('mc_shocks', float64[:]),\n",
        "     ('gamma', float64),\n",
        "     ('mu', float64),\n",
        "     ('s', float64)\n",
        "    ]\n",
        "\n",
        "@jitclass(ogm_data)\n",
        "class OptimalGrowthModel:\n",
        "  def __init__(self, alpha=0.4,\n",
        "             beta=0.96,       \n",
        "             mu=0,          # shock location parameter\n",
        "             s=0.1,        # shock scale parameter\n",
        "             gamma=1.5,\n",
        "             grid_min=1e-4,\n",
        "             grid_max=4,\n",
        "             grid_size=120,\n",
        "             shock_size=250,\n",
        "             seed=1234):\n",
        "    \n",
        "    self.alpha, self.beta = alpha, beta\n",
        "    self.y_grids = np.linspace(grid_min, grid_max, grid_size)\n",
        "    self.mu, self.s = mu, s\n",
        "    np.random.seed(seed)\n",
        "    self.mc_shocks = np.exp(mu + s*np.random.randn(shock_size))\n",
        "    self.gamma = gamma\n",
        "\n",
        "  def u(self, c):\n",
        "    gamma = self.gamma\n",
        "    return np.log(c) if gamma == 1 else c**(1-gamma)/(1-gamma) \n",
        "  \n",
        "  def u_prime(self, c):\n",
        "    gamma = self.gamma\n",
        "    return 1/c if gamma==1 else c**(-gamma) \n",
        "  \n",
        "  def f(self, k):\n",
        "    return k**self.alpha\n",
        "  \n",
        "  def f_prime(self, k):\n",
        "    alpha = self.alpha\n",
        "    return alpha*k**(alpha-1)\n",
        "  \n",
        "\n",
        "@njit\n",
        "def value_diff(c, y, sigma, ogm):\n",
        "  u_prime, f, beta, y_grids, z, f_prime = ogm.u_prime, ogm.f, ogm.beta, ogm.y_grids, ogm.mc_shocks, ogm.f_prime\n",
        "  fun_sigma = lambda x: interp(y_grids, sigma, x)\n",
        "  fv = u_prime(fun_sigma(f(y-c)*z))*f_prime(y-c)*z\n",
        "  value = u_prime(c) - beta * fv.mean()\n",
        "  return value\n",
        "\n",
        "@njit\n",
        "def find_root_c(y, sigma, ogm):\n",
        "  res = brentq(value_diff, 1e-10, y-1e-10, args=(y, sigma, ogm))\n",
        "  return res[0]\n",
        "\n",
        "@njit(parallel=True)\n",
        "def K(sigma, ogm):\n",
        "  Ksigma = np.empty_like(sigma)\n",
        "  for i in prange(len(ogm.y_grids)):\n",
        "    val = ogm.y_grids[i]\n",
        "    if val < 1e-12:\n",
        "      Ksigma[i] = 0\n",
        "    else:\n",
        "      Ksigma[i] = find_root_c(val, sigma, ogm)\n",
        "  return Ksigma\n",
        "\n",
        "\n",
        "def compute_policy_function(ogm, max_iter=500, tol=1e-5, verbose=True):\n",
        "  sigma = np.copy(ogm.y_grids)\n",
        "  i = 0\n",
        "  err = 1 + tol\n",
        "\n",
        "  while i < max_iter and err > tol:\n",
        "    Ksigma = K(sigma, ogm)\n",
        "    i += 1\n",
        "    err = np.max(np.abs(Ksigma - sigma))\n",
        "    sigma = Ksigma\n",
        "    if verbose and i%25==0:\n",
        "      print(f'Error is {err} at interation {i}.')\n",
        "    \n",
        "  if i == max_iter:\n",
        "    raise RuntimeError('Iteration failed.')\n",
        "  \n",
        "  if verbose:\n",
        "    print(f'\\nConverged on interation {i}!')\n",
        "\n",
        "  return sigma"
      ],
      "execution_count": 3,
      "outputs": []
    },
    {
      "cell_type": "code",
      "metadata": {
        "id": "x4IlOGy3S-aE",
        "colab_type": "code",
        "colab": {
          "base_uri": "https://localhost:8080/",
          "height": 84
        },
        "outputId": "ee2b90a7-55db-4239-ff38-5c6fd4ca2628"
      },
      "source": [
        "%%time\n",
        "\n",
        "ogm = OptimalGrowthModel(gamma=1, grid_min=0)\n",
        "sigma = compute_policy_function(ogm)"
      ],
      "execution_count": 4,
      "outputs": [
        {
          "output_type": "stream",
          "text": [
            "\n",
            "Converged on interation 13!\n",
            "CPU times: user 5.21 s, sys: 30.8 ms, total: 5.24 s\n",
            "Wall time: 5.13 s\n"
          ],
          "name": "stdout"
        }
      ]
    },
    {
      "cell_type": "code",
      "metadata": {
        "id": "bCEymOyRiTiW",
        "colab_type": "code",
        "colab": {}
      },
      "source": [
        "def v_star(y, ogm):\n",
        "  alpha, beta, mu = ogm.alpha, ogm.beta, 0\n",
        "  left = np.log(1-alpha*beta)/(1-beta)\n",
        "  middle = (mu+alpha*np.log(alpha*beta))/(1-alpha)*(1/(1-beta) - 1/(1-alpha*beta))\n",
        "  right = np.log(y)/(1-alpha*beta)\n",
        "  return left + middle + right\n",
        "\n",
        "def sigma_star(y, ogm):\n",
        "  alpha, beta = ogm.alpha, ogm.beta\n",
        "  return (1-alpha*beta)*y"
      ],
      "execution_count": 5,
      "outputs": []
    },
    {
      "cell_type": "code",
      "metadata": {
        "id": "jn3rEsZVY1uf",
        "colab_type": "code",
        "colab": {
          "base_uri": "https://localhost:8080/",
          "height": 320
        },
        "outputId": "39a2308a-7c8d-4f09-f394-5d67f5562483"
      },
      "source": [
        "fig, ax = plt.subplots(1, 1, figsize=(6, 5))\n",
        "ax.plot(ogm.y_grids, sigma, label='Simulation')\n",
        "ax.plot(ogm.y_grids, sigma_star(ogm.y_grids, ogm), 'r--', label='Real')\n",
        "ax.legend();"
      ],
      "execution_count": 6,
      "outputs": [
        {
          "output_type": "display_data",
          "data": {
            "image/png": "[encoded data removed]",
            "text/plain": [
              "<Figure size 432x360 with 1 Axes>"
            ]
          },
          "metadata": {
            "tags": [],
            "needs_background": "light"
          }
        }
      ]
    },
    {
      "cell_type": "markdown",
      "metadata": {
        "id": "cJVgPXAnJLex",
        "colab_type": "text"
      },
      "source": [
        "## Exercise 1"
      ]
    },
    {
      "cell_type": "code",
      "metadata": {
        "id": "Mqv3Z6TKJWzB",
        "colab_type": "code",
        "colab": {
          "base_uri": "https://localhost:8080/",
          "height": 84
        },
        "outputId": "67589bd5-94ca-43f1-db8e-6940fded8ce5"
      },
      "source": [
        "%%time\n",
        "\n",
        "ogm2 = OptimalGrowthModel(gamma=1.5, grid_min=0)\n",
        "sigma2 = compute_policy_function(ogm2)"
      ],
      "execution_count": 7,
      "outputs": [
        {
          "output_type": "stream",
          "text": [
            "\n",
            "Converged on interation 15!\n",
            "CPU times: user 1.47 s, sys: 8.99 ms, total: 1.48 s\n",
            "Wall time: 962 ms\n"
          ],
          "name": "stdout"
        }
      ]
    },
    {
      "cell_type": "code",
      "metadata": {
        "id": "EQoU11JsJbJV",
        "colab_type": "code",
        "colab": {
          "base_uri": "https://localhost:8080/",
          "height": 265
        },
        "outputId": "a9d69f1a-b43c-43af-9ccd-4489a596f2c0"
      },
      "source": [
        "plt.plot(ogm2.y_grids, sigma2, label='Simulation');"
      ],
      "execution_count": 8,
      "outputs": [
        {
          "output_type": "display_data",
          "data": {
            "image/png": "[encoded data removed]",
            "text/plain": [
              "<Figure size 432x288 with 1 Axes>"
            ]
          },
          "metadata": {
            "tags": [],
            "needs_background": "light"
          }
        }
      ]
    },
    {
      "cell_type": "code",
      "metadata": {
        "id": "Ha10O4URJhHp",
        "colab_type": "code",
        "colab": {}
      },
      "source": [
        ""
      ],
      "execution_count": 8,
      "outputs": []
    }
  ]
}